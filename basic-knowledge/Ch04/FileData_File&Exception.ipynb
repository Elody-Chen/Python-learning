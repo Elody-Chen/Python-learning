{
 "metadata": {
  "language_info": {
   "codemirror_mode": {
    "name": "ipython",
    "version": 3
   },
   "file_extension": ".py",
   "mimetype": "text/x-python",
   "name": "python",
   "nbconvert_exporter": "python",
   "pygments_lexer": "ipython3",
   "version": "3.7.4"
  },
  "orig_nbformat": 2,
  "kernelspec": {
   "name": "python374jvsc74a57bd096eb50e1d44aed467dc8f759cb08c32fbfa9babcf79c554e2d0e5feb04653a10",
   "display_name": "Python 3.7.4 64-bit ('base': conda)"
  }
 },
 "nbformat": 4,
 "nbformat_minor": 2,
 "cells": [
  {
   "source": [
    "## 4.1 深入研究字符串"
   ],
   "cell_type": "markdown",
   "metadata": {}
  },
  {
   "cell_type": "code",
   "execution_count": null,
   "metadata": {},
   "outputs": [],
   "source": [
    "s = \"hello\""
   ]
  },
  {
   "cell_type": "code",
   "execution_count": 4,
   "metadata": {},
   "outputs": [
    {
     "output_type": "execute_result",
     "data": {
      "text/plain": [
       "''"
      ]
     },
     "metadata": {},
     "execution_count": 4
    }
   ],
   "source": [
    "s[-1:-3] # 前面的索引位置在后面的索引位置之后，显示为空字符串"
   ]
  },
  {
   "cell_type": "code",
   "execution_count": 7,
   "metadata": {},
   "outputs": [
    {
     "output_type": "stream",
     "name": "stdout",
     "text": [
      "<class 'list'>\n<class 'str'>\n"
     ]
    }
   ],
   "source": [
    "pets = [\"goldfish\", \"cat\", \"dog\"]\n",
    "print(type(pets[0:1])) # result为list，即使切片的结果只含一个项，返回的依旧是列表，而不是该项的类型\n",
    "print(type(pets[0])) # result为str，即使用单个索引时返回的对象类型是该索引位置列表的项的类型"
   ]
  },
  {
   "cell_type": "code",
   "execution_count": 8,
   "metadata": {},
   "outputs": [
    {
     "output_type": "execute_result",
     "data": {
      "text/plain": [
       "['2,3,5,7,11,13']"
      ]
     },
     "metadata": {},
     "execution_count": 8
    }
   ],
   "source": [
    "x = \"2,3,5,7,11,13\"\n",
    "x.split()"
   ]
  },
  {
   "cell_type": "code",
   "execution_count": 10,
   "metadata": {},
   "outputs": [
    {
     "output_type": "execute_result",
     "data": {
      "text/plain": [
       "['2', '3', '5', '7', '11', '13']"
      ]
     },
     "metadata": {},
     "execution_count": 10
    }
   ],
   "source": [
    "x.split(\",\")"
   ]
  },
  {
   "cell_type": "code",
   "execution_count": 13,
   "metadata": {},
   "outputs": [],
   "source": [
    "table = str.maketrans(\"abcdef\", \"uvwxyz\")"
   ]
  },
  {
   "cell_type": "code",
   "execution_count": 16,
   "metadata": {},
   "outputs": [
    {
     "output_type": "stream",
     "name": "stdout",
     "text": [
      "zux\nfad\n"
     ]
    }
   ],
   "source": [
    "s = \"fad\"\n",
    "print(s.translate(table))\n",
    "print(s)"
   ]
  },
  {
   "cell_type": "code",
   "execution_count": 17,
   "metadata": {},
   "outputs": [],
   "source": [
    "# ex 4.2\n",
    "forecast = \"It will be a sunny day today\""
   ]
  },
  {
   "cell_type": "code",
   "execution_count": 22,
   "metadata": {},
   "outputs": [
    {
     "output_type": "stream",
     "name": "stdout",
     "text": [
      "2\n13\nIt will be a cloudy day today!"
     ]
    }
   ],
   "source": [
    "count = forecast.count(\"day\")\n",
    "weather = forecast.index(\"sunny\")\n",
    "change = forecast.replace(\"sunny\", \"cloudy\")\n",
    "print(count, weather, change, sep=\"\\n\", end=\"!\")"
   ]
  },
  {
   "source": [
    "## 4.2 格式化输出"
   ],
   "cell_type": "markdown",
   "metadata": {}
  },
  {
   "cell_type": "code",
   "execution_count": 21,
   "metadata": {},
   "outputs": [
    {
     "output_type": "stream",
     "name": "stdout",
     "text": [
      "Smith\tJohn\tPaul!"
     ]
    }
   ],
   "source": [
    "# ex 4.3\n",
    "last = \"Smith\"\n",
    "first = \"John\"\n",
    "middle = \"Paul\"\n",
    "print(last, first, middle, sep=\"\\t\")"
   ]
  },
  {
   "cell_type": "code",
   "execution_count": 25,
   "metadata": {},
   "outputs": [
    {
     "output_type": "stream",
     "name": "stdout",
     "text": [
      "2,3,4,6,8,9,10,12,14,15,16,"
     ]
    }
   ],
   "source": [
    "# ex 4.4\n",
    "def even(n):\n",
    "    for i in range(1, n):\n",
    "        if i % 2 == 0 or i % 3 == 0:\n",
    "            print(i, end=\",\")\n",
    "even(17)"
   ]
  },
  {
   "cell_type": "code",
   "execution_count": 29,
   "metadata": {},
   "outputs": [
    {
     "output_type": "stream",
     "name": "stdout",
     "text": [
      "Wednesday, March 10, 2010 at 11:45:33\n"
     ]
    }
   ],
   "source": [
    "weekday = \"Wednesday\"\n",
    "month = \"March\"\n",
    "day = 10\n",
    "year = 2010\n",
    "hour = 11\n",
    "minute = 45\n",
    "second = 33\n",
    "print(\"{}, {} {}, {} at {}:{}:{}\".format(weekday, month, day, year, hour, minute, second)) # 注意字符串里的空格也会被输出"
   ]
  },
  {
   "cell_type": "code",
   "execution_count": 30,
   "metadata": {},
   "outputs": [
    {
     "output_type": "stream",
     "name": "stdout",
     "text": [
      "John Doe\n123 Main Street\nAnyCity, AS 09876\n"
     ]
    }
   ],
   "source": [
    "# ex 4.5\n",
    "first = \"John\"\n",
    "last = \"Doe\"\n",
    "street = \"Main Street\"\n",
    "number = 123\n",
    "city = \"AnyCity\"\n",
    "state = \"AS\"\n",
    "zipcode = \"09876\"\n",
    "print(\"{} {}\\n{} {}\\n{}, {} {}\".format(first, last, number, street, city, state, zipcode))"
   ]
  },
  {
   "cell_type": "code",
   "execution_count": 38,
   "metadata": {},
   "outputs": [
    {
     "output_type": "execute_result",
     "data": {
      "text/plain": [
       "' 12,  354'"
      ]
     },
     "metadata": {},
     "execution_count": 38
    }
   ],
   "source": [
    "\"{0:3},{1:5}\".format(12, 354)"
   ]
  },
  {
   "cell_type": "code",
   "execution_count": 41,
   "metadata": {},
   "outputs": [
    {
     "output_type": "stream",
     "name": "stdout",
     "text": [
      "BillGates\nBill      Gates     \n"
     ]
    }
   ],
   "source": [
    "first = \"Bill\"\n",
    "last = \"Gates\"\n",
    "print(\"{:3}{:3}\".format(first, last)) # 字段宽度小于字符串长度\n",
    "print(\"{:10}{:10}\".format(first, last))"
   ]
  },
  {
   "cell_type": "code",
   "execution_count": 45,
   "metadata": {},
   "outputs": [
    {
     "output_type": "stream",
     "name": "stdout",
     "text": [
      "   3.333\n   33.33\n   333.3\n"
     ]
    }
   ],
   "source": [
    "print(\"{:8.4}\".format(10/3))   # 字段宽度为8，只显示4位浮点数值\n",
    "print(\"{:8.4}\".format(100/3))  # 字段宽度为8，只显示4位浮点数值\n",
    "print(\"{:8.4}\".format(1000/3)) # 字段宽度为8，只显示4位浮点数值"
   ]
  },
  {
   "cell_type": "code",
   "execution_count": 47,
   "metadata": {},
   "outputs": [
    {
     "output_type": "stream",
     "name": "stdout",
     "text": [
      "1010\n\n\n10\n12\na\nA\n"
     ]
    }
   ],
   "source": [
    "n = 10\n",
    "print(\"{:b}\".format(n))\n",
    "print(\"{:c}\".format(n)) # 对应\"\\n\"，以换行的方式呈现\n",
    "print(\"{:d}\".format(n))\n",
    "print(\"{:o}\".format(n))\n",
    "print(\"{:x}\".format(n))\n",
    "print(\"{:X}\".format(n))"
   ]
  },
  {
   "cell_type": "code",
   "execution_count": 49,
   "metadata": {},
   "outputs": [
    {
     "output_type": "stream",
     "name": "stdout",
     "text": [
      " i  i**2  i**3  2**i\n 2     4     8     4\n 3     9    27     8\n 4    16    64    16\n 5    25   125    32\n 6    36   216    64\n 7    49   343   128\n 8    64   512   256\n 9    81   729   512\n10   100  1000  1024\n11   121  1331  2048\n12   144  1728  4096\n"
     ]
    }
   ],
   "source": [
    "def growthrates(n):\n",
    "    'prints values of below 3 functions for i = 1, ..., n'\n",
    "    print(\" i  i**2  i**3  2**i\")\n",
    "    formatStr = \"{0:2d}{1:6d}{2:6d}{3:6d}\"\n",
    "    for i in range(2, n+1):\n",
    "        print(formatStr.format(i, i**2, i**3, 2**i))\n",
    "growthrates(12)"
   ]
  },
  {
   "cell_type": "code",
   "execution_count": 53,
   "metadata": {},
   "outputs": [],
   "source": [
    "# ex 4.6\n",
    "def roster(lst:list):\n",
    "    \"\"\"\n",
    "    Get a list which contains the students' information and output an information roster\n",
    "    \"\"\"\n",
    "    formatStr = \"{:10}{:10}{:10}{:8.2f}\"\n",
    "    print(\"Last      First     Class     Average Grade\")\n",
    "    for stu in lst:\n",
    "        print(formatStr.format(stu[0], stu[1], stu[2], stu[3]))"
   ]
  },
  {
   "cell_type": "code",
   "execution_count": 54,
   "metadata": {},
   "outputs": [
    {
     "output_type": "stream",
     "name": "stdout",
     "text": [
      "Last      First     Class     Average Grade\nDeMoines  Jim       Sophomore     3.45\nPierre    Sophie    Sophomore     4.00\nColumbus  Maria     Senior        2.50\nPhoneix   River     Junior        2.45\n"
     ]
    }
   ],
   "source": [
    "students = []\n",
    "students.append([\"DeMoines\", \"Jim\", \"Sophomore\", 3.45])\n",
    "students.append([\"Pierre\", \"Sophie\", \"Sophomore\", 4.0])\n",
    "students.append([\"Columbus\", \"Maria\", \"Senior\", 2.5])\n",
    "students.append([\"Phoneix\", \"River\", \"Junior\", 2.45])\n",
    "roster(students)"
   ]
  },
  {
   "cell_type": "code",
   "execution_count": 1,
   "metadata": {},
   "outputs": [],
   "source": [
    "import time"
   ]
  },
  {
   "cell_type": "code",
   "execution_count": 4,
   "metadata": {},
   "outputs": [
    {
     "output_type": "execute_result",
     "data": {
      "text/plain": [
       "1618827927.554612"
      ]
     },
     "metadata": {},
     "execution_count": 4
    }
   ],
   "source": [
    "time.time()"
   ]
  },
  {
   "cell_type": "code",
   "execution_count": 5,
   "metadata": {},
   "outputs": [
    {
     "output_type": "execute_result",
     "data": {
      "text/plain": [
       "time.struct_time(tm_year=2021, tm_mon=4, tm_mday=19, tm_hour=10, tm_min=26, tm_sec=21, tm_wday=0, tm_yday=109, tm_isdst=0)"
      ]
     },
     "metadata": {},
     "execution_count": 5
    }
   ],
   "source": [
    "time.gmtime()"
   ]
  },
  {
   "cell_type": "code",
   "execution_count": 6,
   "metadata": {},
   "outputs": [
    {
     "output_type": "execute_result",
     "data": {
      "text/plain": [
       "time.struct_time(tm_year=2021, tm_mon=4, tm_mday=19, tm_hour=18, tm_min=28, tm_sec=26, tm_wday=0, tm_yday=109, tm_isdst=0)"
      ]
     },
     "metadata": {},
     "execution_count": 6
    }
   ],
   "source": [
    "time.localtime()"
   ]
  },
  {
   "cell_type": "code",
   "execution_count": 7,
   "metadata": {},
   "outputs": [
    {
     "output_type": "execute_result",
     "data": {
      "text/plain": [
       "'Monday Apr/19/21 06:31 PM'"
      ]
     },
     "metadata": {},
     "execution_count": 7
    }
   ],
   "source": [
    "time.strftime(\"%A %b/%d/%y %I:%M %p\", time.localtime())"
   ]
  },
  {
   "cell_type": "code",
   "execution_count": 8,
   "metadata": {},
   "outputs": [],
   "source": [
    "# ex 4.7\n",
    "import time\n",
    "t = time.localtime(1500000000)"
   ]
  },
  {
   "cell_type": "code",
   "execution_count": 11,
   "metadata": {},
   "outputs": [
    {
     "output_type": "execute_result",
     "data": {
      "text/plain": [
       "'Friday July 14 2017'"
      ]
     },
     "metadata": {},
     "execution_count": 11
    }
   ],
   "source": [
    "time.strftime(\"%A %B %d %Y\", t)"
   ]
  },
  {
   "cell_type": "code",
   "execution_count": 14,
   "metadata": {},
   "outputs": [
    {
     "output_type": "execute_result",
     "data": {
      "text/plain": [
       "'10:40 AM on Jul/14/2017'"
      ]
     },
     "metadata": {},
     "execution_count": 14
    }
   ],
   "source": [
    "time.strftime(\"%H:%M %p on %b/%d/%Y\", t)"
   ]
  },
  {
   "cell_type": "code",
   "execution_count": 15,
   "metadata": {},
   "outputs": [
    {
     "output_type": "execute_result",
     "data": {
      "text/plain": [
       "'I will meet you on Fri July 14 at 10:40 AM'"
      ]
     },
     "metadata": {},
     "execution_count": 15
    }
   ],
   "source": [
    "\"I will meet you on \" + time.strftime(\"%a %B %d at %H:%M %p\", t)"
   ]
  },
  {
   "source": [
    "## 4.3 文件"
   ],
   "cell_type": "markdown",
   "metadata": {}
  },
  {
   "cell_type": "code",
   "execution_count": 18,
   "metadata": {},
   "outputs": [],
   "source": [
    "infile = open(\"example.txt\")"
   ]
  },
  {
   "cell_type": "code",
   "execution_count": 19,
   "metadata": {},
   "outputs": [
    {
     "output_type": "execute_result",
     "data": {
      "text/plain": [
       "<_io.TextIOWrapper name='example.txt' mode='r' encoding='cp936'>"
      ]
     },
     "metadata": {},
     "execution_count": 19
    }
   ],
   "source": [
    "infile"
   ]
  },
  {
   "cell_type": "code",
   "execution_count": 20,
   "metadata": {},
   "outputs": [
    {
     "output_type": "execute_result",
     "data": {
      "text/plain": [
       "'T'"
      ]
     },
     "metadata": {},
     "execution_count": 20
    }
   ],
   "source": [
    "infile.read(1)"
   ]
  },
  {
   "cell_type": "code",
   "execution_count": 21,
   "metadata": {},
   "outputs": [
    {
     "output_type": "execute_result",
     "data": {
      "text/plain": [
       "'he 3 '"
      ]
     },
     "metadata": {},
     "execution_count": 21
    }
   ],
   "source": [
    "infile.read(5)"
   ]
  },
  {
   "cell_type": "code",
   "execution_count": 22,
   "metadata": {},
   "outputs": [
    {
     "output_type": "execute_result",
     "data": {
      "text/plain": [
       "'lines in this file and with the new line character.\\n'"
      ]
     },
     "metadata": {},
     "execution_count": 22
    }
   ],
   "source": [
    "infile.readline()"
   ]
  },
  {
   "cell_type": "code",
   "execution_count": 23,
   "metadata": {},
   "outputs": [
    {
     "output_type": "execute_result",
     "data": {
      "text/plain": [
       "'\\nThere is a blank line above this line.'"
      ]
     },
     "metadata": {},
     "execution_count": 23
    }
   ],
   "source": [
    "infile.read()"
   ]
  },
  {
   "cell_type": "code",
   "execution_count": 24,
   "metadata": {},
   "outputs": [],
   "source": [
    "infile.close()"
   ]
  },
  {
   "cell_type": "code",
   "execution_count": 27,
   "metadata": {},
   "outputs": [],
   "source": [
    "def numChars(filename):\n",
    "    \"return the number of chars of filename.\"\n",
    "    infile = open(filename, \"r\")\n",
    "    content = infile.read()\n",
    "    infile.close()\n",
    "\n",
    "    return len(content)"
   ]
  },
  {
   "cell_type": "code",
   "execution_count": 28,
   "metadata": {},
   "outputs": [
    {
     "output_type": "execute_result",
     "data": {
      "text/plain": [
       "97"
      ]
     },
     "metadata": {},
     "execution_count": 28
    }
   ],
   "source": [
    "numChars(\"example.txt\")"
   ]
  },
  {
   "cell_type": "code",
   "execution_count": 31,
   "metadata": {},
   "outputs": [],
   "source": [
    "# ex 4.8\n",
    "def stringCount(filename, string):\n",
    "    \"Return the count that the target string appears in filename.\"\n",
    "    infile = open(\"example.txt\")\n",
    "    content = infile.read()\n",
    "    count = content.count(string)\n",
    "    infile.close()\n",
    "\n",
    "    return count"
   ]
  },
  {
   "cell_type": "code",
   "execution_count": 32,
   "metadata": {},
   "outputs": [
    {
     "output_type": "execute_result",
     "data": {
      "text/plain": [
       "4"
      ]
     },
     "metadata": {},
     "execution_count": 32
    }
   ],
   "source": [
    "stringCount(\"example.txt\", \"line\")"
   ]
  },
  {
   "cell_type": "code",
   "execution_count": 33,
   "metadata": {},
   "outputs": [],
   "source": [
    "def numWords(filename):\n",
    "    \"Return the number of words contended in filename.\"\n",
    "    infile = open(filename, \"r\")\n",
    "    content = infile.read()\n",
    "    infile.close()\n",
    "\n",
    "    wordlist = content.split()\n",
    "    print(wordlist)\n",
    "\n",
    "    return len(wordlist)"
   ]
  },
  {
   "cell_type": "code",
   "execution_count": 34,
   "metadata": {},
   "outputs": [
    {
     "output_type": "stream",
     "name": "stdout",
     "text": [
      "['The', '3', 'lines', 'in', 'this', 'file', 'and', 'with', 'the', 'new', 'line', 'character.', 'There', 'is', 'a', 'blank', 'line', 'above', 'this', 'line.']\n"
     ]
    },
    {
     "output_type": "execute_result",
     "data": {
      "text/plain": [
       "20"
      ]
     },
     "metadata": {},
     "execution_count": 34
    }
   ],
   "source": [
    "numWords(\"example.txt\")"
   ]
  },
  {
   "cell_type": "code",
   "execution_count": 59,
   "metadata": {},
   "outputs": [],
   "source": [
    "# ex 4.9\n",
    "def words(filename):\n",
    "    \"Return the true words of the filename.\"\n",
    "    infile = open(filename, \"r\")\n",
    "    content = infile.read()\n",
    "    punctuation = [\"!\", \",\", \".\", \":\", \";\", \"?\"]\n",
    "    for pun in punctuation:\n",
    "        content = content.replace(pun, \" \")\n",
    "    infile.close()\n",
    "\n",
    "    wordList = content.split()\n",
    "\n",
    "    return wordList"
   ]
  },
  {
   "cell_type": "code",
   "execution_count": 60,
   "metadata": {},
   "outputs": [
    {
     "output_type": "execute_result",
     "data": {
      "text/plain": [
       "['The',\n",
       " '3',\n",
       " 'lines',\n",
       " 'in',\n",
       " 'this',\n",
       " 'file',\n",
       " 'and',\n",
       " 'with',\n",
       " 'the',\n",
       " 'new',\n",
       " 'line',\n",
       " 'character',\n",
       " 'There',\n",
       " 'is',\n",
       " 'a',\n",
       " 'blank',\n",
       " 'line',\n",
       " 'above',\n",
       " 'this',\n",
       " 'line']"
      ]
     },
     "metadata": {},
     "execution_count": 60
    }
   ],
   "source": [
    "words(\"example.txt\")"
   ]
  },
  {
   "cell_type": "code",
   "execution_count": 44,
   "metadata": {},
   "outputs": [],
   "source": [
    "# ex 4.10\n",
    "def myGrep(filename, string):\n",
    "    infile = open(filename)\n",
    "    lineList = infile.readlines()\n",
    "    for line in lineList:\n",
    "        if string in line:\n",
    "            print(line, end=\"\")\n",
    "        else: \n",
    "            pass"
   ]
  },
  {
   "cell_type": "code",
   "execution_count": 45,
   "metadata": {},
   "outputs": [
    {
     "output_type": "stream",
     "name": "stdout",
     "text": [
      "The 3 lines in this file and with the new line character.\nThere is a blank line above this line."
     ]
    }
   ],
   "source": [
    "myGrep(\"example.txt\", \"line\")"
   ]
  },
  {
   "cell_type": "code",
   "execution_count": 1,
   "metadata": {},
   "outputs": [],
   "source": [
    "outfile = open(\"test.txt\", \"w\")"
   ]
  },
  {
   "cell_type": "code",
   "execution_count": 2,
   "metadata": {},
   "outputs": [
    {
     "output_type": "execute_result",
     "data": {
      "text/plain": [
       "1"
      ]
     },
     "metadata": {},
     "execution_count": 2
    }
   ],
   "source": [
    "outfile.write(\"T\")"
   ]
  },
  {
   "cell_type": "code",
   "execution_count": 3,
   "metadata": {},
   "outputs": [
    {
     "output_type": "execute_result",
     "data": {
      "text/plain": [
       "22"
      ]
     },
     "metadata": {},
     "execution_count": 3
    }
   ],
   "source": [
    "outfile.write(\"his is the first line.\")"
   ]
  },
  {
   "cell_type": "code",
   "execution_count": 4,
   "metadata": {},
   "outputs": [],
   "source": [
    "outfile.flush()"
   ]
  },
  {
   "cell_type": "code",
   "execution_count": 5,
   "metadata": {},
   "outputs": [
    {
     "output_type": "execute_result",
     "data": {
      "text/plain": [
       "25"
      ]
     },
     "metadata": {},
     "execution_count": 5
    }
   ],
   "source": [
    "outfile.write(\" Still the first line...\\n\")"
   ]
  },
  {
   "cell_type": "code",
   "execution_count": 6,
   "metadata": {},
   "outputs": [],
   "source": [
    "outfile.flush()"
   ]
  },
  {
   "cell_type": "code",
   "execution_count": 51,
   "metadata": {},
   "outputs": [
    {
     "output_type": "execute_result",
     "data": {
      "text/plain": [
       "31"
      ]
     },
     "metadata": {},
     "execution_count": 51
    }
   ],
   "source": [
    "outfile.write(\"Now we are in the second line.\\n\")"
   ]
  },
  {
   "cell_type": "code",
   "execution_count": 52,
   "metadata": {},
   "outputs": [
    {
     "output_type": "execute_result",
     "data": {
      "text/plain": [
       "49"
      ]
     },
     "metadata": {},
     "execution_count": 52
    }
   ],
   "source": [
    "outfile.write(\"Non string value like \" + str(5) + \" must be converted first.\\n\")"
   ]
  },
  {
   "cell_type": "code",
   "execution_count": 53,
   "metadata": {},
   "outputs": [
    {
     "output_type": "execute_result",
     "data": {
      "text/plain": [
       "49"
      ]
     },
     "metadata": {},
     "execution_count": 53
    }
   ],
   "source": [
    "outfile.write(\"Non string value like {} must be converted first.\\n\".format(5))"
   ]
  },
  {
   "cell_type": "code",
   "execution_count": 55,
   "metadata": {},
   "outputs": [],
   "source": [
    "outfile.close()"
   ]
  },
  {
   "cell_type": "code",
   "execution_count": 7,
   "metadata": {},
   "outputs": [],
   "source": [
    "s = \"abcdefghijklmnopqrstuvwxyz\""
   ]
  },
  {
   "cell_type": "code",
   "execution_count": 8,
   "metadata": {},
   "outputs": [
    {
     "output_type": "execute_result",
     "data": {
      "text/plain": [
       "'bcd'"
      ]
     },
     "metadata": {},
     "execution_count": 8
    }
   ],
   "source": [
    "# ex 4.12\n",
    "s[1:4]"
   ]
  },
  {
   "cell_type": "code",
   "execution_count": 9,
   "metadata": {},
   "outputs": [
    {
     "output_type": "execute_result",
     "data": {
      "text/plain": [
       "'abc'"
      ]
     },
     "metadata": {},
     "execution_count": 9
    }
   ],
   "source": [
    "s[0:3]"
   ]
  },
  {
   "cell_type": "code",
   "execution_count": 10,
   "metadata": {},
   "outputs": [
    {
     "output_type": "execute_result",
     "data": {
      "text/plain": [
       "'defghijklmnopqrstuvwx'"
      ]
     },
     "metadata": {},
     "execution_count": 10
    }
   ],
   "source": [
    "s[3:24]"
   ]
  },
  {
   "cell_type": "code",
   "execution_count": 11,
   "metadata": {},
   "outputs": [
    {
     "output_type": "execute_result",
     "data": {
      "text/plain": [
       "'wxy'"
      ]
     },
     "metadata": {},
     "execution_count": 11
    }
   ],
   "source": [
    "s[-4:-1]"
   ]
  },
  {
   "cell_type": "code",
   "execution_count": 12,
   "metadata": {},
   "outputs": [
    {
     "output_type": "execute_result",
     "data": {
      "text/plain": [
       "'wxyz'"
      ]
     },
     "metadata": {},
     "execution_count": 12
    }
   ],
   "source": [
    "s[-4:]"
   ]
  },
  {
   "cell_type": "code",
   "execution_count": 13,
   "metadata": {},
   "outputs": [
    {
     "output_type": "execute_result",
     "data": {
      "text/plain": [
       "True"
      ]
     },
     "metadata": {},
     "execution_count": 13
    }
   ],
   "source": [
    "# ex 4.13\n",
    "s[1:3] == \"bc\""
   ]
  },
  {
   "cell_type": "code",
   "execution_count": 14,
   "metadata": {},
   "outputs": [],
   "source": [
    "# ex 4.14\n",
    "log = '128.0.0.1 - - [12/Feb/2011:10:31:08 -0600] \"GET /docs/test.txt HTTP/1.0\"'"
   ]
  },
  {
   "cell_type": "code",
   "execution_count": 17,
   "metadata": {},
   "outputs": [
    {
     "output_type": "execute_result",
     "data": {
      "text/plain": [
       "'128.0.0.1'"
      ]
     },
     "metadata": {},
     "execution_count": 17
    }
   ],
   "source": [
    "stringList = log.split()\n",
    "address = stringList[0]\n",
    "address"
   ]
  },
  {
   "cell_type": "code",
   "execution_count": 20,
   "metadata": {},
   "outputs": [
    {
     "output_type": "execute_result",
     "data": {
      "text/plain": [
       "'12/Feb/2011:10:31:08 -0600'"
      ]
     },
     "metadata": {},
     "execution_count": 20
    }
   ],
   "source": [
    "leftIndex = log.index(\"[\")\n",
    "rightIndex = log.index(\"]\")\n",
    "date = log[leftIndex+1:rightIndex]\n",
    "date"
   ]
  },
  {
   "cell_type": "code",
   "execution_count": 21,
   "metadata": {},
   "outputs": [
    {
     "output_type": "execute_result",
     "data": {
      "text/plain": [
       "['10', '20', '30', '40', '50', '60']"
      ]
     },
     "metadata": {},
     "execution_count": 21
    }
   ],
   "source": [
    "# ex 4.15\n",
    "s = \"10 - 20 - 30 - 40 - 50 - 60\"\n",
    "s.split(\" - \")"
   ]
  },
  {
   "cell_type": "code",
   "execution_count": 28,
   "metadata": {},
   "outputs": [
    {
     "output_type": "stream",
     "name": "stdout",
     "text": [
      "False\n"
     ]
    }
   ],
   "source": [
    "# ex 4.16\n",
    "wordList = []\n",
    "copyWordList = []\n",
    "wordList.append(input(\"Enter first word: \"))\n",
    "wordList.append(input(\"Enter second word: \"))\n",
    "wordList.append(input(\"Enter third word: \"))\n",
    "for i in range(len(wordList)):\n",
    "    copyWordList.append(wordList[i])\n",
    "if copyWordList == wordList.sort():\n",
    "    print(\"True\")\n",
    "else:\n",
    "    print(\"False\")"
   ]
  },
  {
   "cell_type": "code",
   "execution_count": 29,
   "metadata": {},
   "outputs": [],
   "source": [
    "# ex 4.17\n",
    "message = \"The secret of this message is that it is secret\"\n",
    "length = len(message)\n",
    "count = message.count(\"secret\")\n",
    "censored = message.replace(\"secret\", \"xxxxxx\")"
   ]
  },
  {
   "cell_type": "code",
   "execution_count": 30,
   "metadata": {},
   "outputs": [
    {
     "output_type": "execute_result",
     "data": {
      "text/plain": [
       "'The xxxxxx of this message is that it is xxxxxx'"
      ]
     },
     "metadata": {},
     "execution_count": 30
    }
   ],
   "source": [
    "censored"
   ]
  },
  {
   "cell_type": "code",
   "execution_count": 40,
   "metadata": {},
   "outputs": [],
   "source": [
    "# ex 4.18\n",
    "s = '''It was the best of times, it was the worst of times; it\n",
    "was the age of wisdom, it was the age of foolishness; it was the\n",
    "epoch of belief, it was the epoch of incredulity; it was...'''"
   ]
  },
  {
   "cell_type": "code",
   "execution_count": 41,
   "metadata": {},
   "outputs": [
    {
     "output_type": "execute_result",
     "data": {
      "text/plain": [
       "'It was the best of times  it was the worst of times  it was the age of wisdom  it was the age of foolishness  it was the epoch of belief  it was the epoch of incredulity  it was   '"
      ]
     },
     "metadata": {},
     "execution_count": 41
    }
   ],
   "source": [
    "newS = s.replace(\".\",\" \")\n",
    "newS = newS.replace(\",\",\" \")\n",
    "newS = newS.replace(\";\",\" \")\n",
    "newS = newS.replace(\"\\n\",\" \")\n",
    "newS"
   ]
  },
  {
   "cell_type": "code",
   "execution_count": 42,
   "metadata": {},
   "outputs": [
    {
     "output_type": "execute_result",
     "data": {
      "text/plain": [
       "'It was the best of times  it was the worst of times  it was the age of wisdom  it was the age of foolishness  it was the epoch of belief  it was the epoch of incredulity  it was'"
      ]
     },
     "metadata": {},
     "execution_count": 42
    }
   ],
   "source": [
    "newS = newS.strip()\n",
    "newS"
   ]
  },
  {
   "cell_type": "code",
   "execution_count": 43,
   "metadata": {},
   "outputs": [
    {
     "output_type": "execute_result",
     "data": {
      "text/plain": [
       "'it was the best of times  it was the worst of times  it was the age of wisdom  it was the age of foolishness  it was the epoch of belief  it was the epoch of incredulity  it was'"
      ]
     },
     "metadata": {},
     "execution_count": 43
    }
   ],
   "source": [
    "newS = newS.lower()\n",
    "newS"
   ]
  },
  {
   "cell_type": "code",
   "execution_count": 44,
   "metadata": {},
   "outputs": [
    {
     "output_type": "execute_result",
     "data": {
      "text/plain": [
       "7"
      ]
     },
     "metadata": {},
     "execution_count": 44
    }
   ],
   "source": [
    "newS.count(\"it was\")"
   ]
  },
  {
   "cell_type": "code",
   "execution_count": 45,
   "metadata": {},
   "outputs": [
    {
     "output_type": "execute_result",
     "data": {
      "text/plain": [
       "'it is the best of times  it is the worst of times  it is the age of wisdom  it is the age of foolishness  it is the epoch of belief  it is the epoch of incredulity  it is'"
      ]
     },
     "metadata": {},
     "execution_count": 45
    }
   ],
   "source": [
    "newS = newS.replace(\"was\", \"is\")\n",
    "newS"
   ]
  },
  {
   "cell_type": "code",
   "execution_count": 47,
   "metadata": {},
   "outputs": [],
   "source": [
    "listS = newS.split()"
   ]
  },
  {
   "cell_type": "code",
   "execution_count": 48,
   "metadata": {},
   "outputs": [],
   "source": [
    "# ex 4.20\n",
    "sender = \"tim@abc.com\"\n",
    "recipient = \"tom@xyz.org\"\n",
    "subject = \"Hello!\""
   ]
  },
  {
   "cell_type": "code",
   "execution_count": 49,
   "metadata": {},
   "outputs": [
    {
     "output_type": "stream",
     "name": "stdout",
     "text": [
      "From: tim@abc.com\nTo: tom@xyz.org\nSubject: Hello!\n"
     ]
    }
   ],
   "source": [
    "print(\"From: {}\\nTo: {}\\nSubject: {}\".format(sender, recipient, subject))"
   ]
  },
  {
   "cell_type": "code",
   "execution_count": 52,
   "metadata": {},
   "outputs": [],
   "source": [
    "# ex 4.21\n",
    "import math"
   ]
  },
  {
   "cell_type": "code",
   "execution_count": 53,
   "metadata": {},
   "outputs": [
    {
     "output_type": "stream",
     "name": "stdout",
     "text": [
      "pi = 3.1, e = 2.7\npi = 3.14, e = 2.72\npi = 3.141593e+00, e = 2.718282e+00\npi = 3.14159, e = 2.71828\n"
     ]
    }
   ],
   "source": [
    "print(\"pi = {:.1f}, e = {:.1f}\".format(math.pi, math.e))\n",
    "print(\"pi = {:.2f}, e = {:.2f}\".format(math.pi, math.e))\n",
    "print(\"pi = {:.6e}, e = {:.6e}\".format(math.pi, math.e))\n",
    "print(\"pi = {:.5f}, e = {:.5f}\".format(math.pi, math.e))"
   ]
  },
  {
   "cell_type": "code",
   "execution_count": 56,
   "metadata": {},
   "outputs": [],
   "source": [
    "# ex 4.22\n",
    "def month(param):\n",
    "    monthString = \"JanFebMarAprMayJunJulAugSepOctNovDec\"\n",
    "\n",
    "    return monthString[(param-1)*3:param*3]"
   ]
  },
  {
   "cell_type": "code",
   "execution_count": 58,
   "metadata": {},
   "outputs": [
    {
     "output_type": "execute_result",
     "data": {
      "text/plain": [
       "'Nov'"
      ]
     },
     "metadata": {},
     "execution_count": 58
    }
   ],
   "source": [
    "month(11)"
   ]
  },
  {
   "cell_type": "code",
   "execution_count": 61,
   "metadata": {},
   "outputs": [],
   "source": [
    "# ex 4.23\n",
    "def average():\n",
    "    sentence = input(\"Enter a sentence: \")\n",
    "    wordList = sentence.split()\n",
    "    wordLength = []\n",
    "    sumLength = 0\n",
    "    for word in wordList:\n",
    "        wordLength.append(len(word))\n",
    "        sumLength = sumLength + len(word)\n",
    "    \n",
    "    return sumLength / len(wordList)"
   ]
  },
  {
   "cell_type": "code",
   "execution_count": 62,
   "metadata": {},
   "outputs": [
    {
     "output_type": "execute_result",
     "data": {
      "text/plain": [
       "5.0"
      ]
     },
     "metadata": {},
     "execution_count": 62
    }
   ],
   "source": [
    "average()"
   ]
  },
  {
   "cell_type": "code",
   "execution_count": 83,
   "metadata": {},
   "outputs": [],
   "source": [
    "# ex 4.24\n",
    "def cheer(teamName):\n",
    "    newName = teamName.upper()\n",
    "    for i in range(len(teamName)):\n",
    "        newName = newName.replace(newName[2*i], newName[2*i] + \" \")\n",
    "    print(\"How do you spell winner?\\nI know, I know!\\n{}!\\nAnd that's how you spell winner!\\nGo {}!\".format(newName, teamName))"
   ]
  },
  {
   "cell_type": "code",
   "execution_count": 84,
   "metadata": {},
   "outputs": [
    {
     "output_type": "stream",
     "name": "stdout",
     "text": [
      "16\nHow do you spell winner?\nI know, I know!\nH U S  K I E S  !\nAnd that's how you spell winner!\nGo Huskies!\n"
     ]
    }
   ],
   "source": [
    "cheer(\"Huskies\")"
   ]
  },
  {
   "cell_type": "code",
   "execution_count": 85,
   "metadata": {},
   "outputs": [],
   "source": [
    "def cheer(teamName):\n",
    "    newName = teamName.upper()\n",
    "    newNameList = list(tuple(newName))\n",
    "    newName = \"\"\n",
    "    for alpha in newNameList:\n",
    "        newName = newName + alpha + \" \"\n",
    "    print(\"How do you spell winner?\\nI know, I know!\\n{}!\\nAnd that's how you spell winner!\\nGo {}!\".format(newName, teamName))"
   ]
  },
  {
   "cell_type": "code",
   "execution_count": 86,
   "metadata": {},
   "outputs": [
    {
     "output_type": "stream",
     "name": "stdout",
     "text": [
      "How do you spell winner?\nI know, I know!\nH U S K I E S !\nAnd that's how you spell winner!\nGo Huskies!\n"
     ]
    }
   ],
   "source": [
    "cheer(\"Huskies\")"
   ]
  },
  {
   "cell_type": "code",
   "execution_count": null,
   "metadata": {},
   "outputs": [],
   "source": []
  }
 ]
}