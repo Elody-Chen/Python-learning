{
 "metadata": {
  "language_info": {
   "codemirror_mode": {
    "name": "ipython",
    "version": 3
   },
   "file_extension": ".py",
   "mimetype": "text/x-python",
   "name": "python",
   "nbconvert_exporter": "python",
   "pygments_lexer": "ipython3",
   "version": "3.8.8"
  },
  "orig_nbformat": 2,
  "kernelspec": {
   "name": "python3",
   "display_name": "Python 3.8.8 64-bit ('base': conda)"
  },
  "interpreter": {
   "hash": "541db27d228042e055eb6040e53c61d8b94be42b4498199a4132c5bccf82e660"
  }
 },
 "nbformat": 4,
 "nbformat_minor": 2,
 "cells": [
  {
   "cell_type": "code",
   "execution_count": 1,
   "source": [
    "# ex 7.1\n",
    "def f(y):\n",
    "    x = 2\n",
    "    print(\"In f(): x = {}, y = {}\".format(x, y))\n",
    "    g(3)\n",
    "    print(\"In f(): x = {}, y = {}\".format(x, y))\n",
    "\n",
    "def g(y):\n",
    "    x = 4\n",
    "    print(\"In g(): x = {}, y = {}\".format(x, y))"
   ],
   "outputs": [],
   "metadata": {}
  },
  {
   "cell_type": "code",
   "execution_count": 2,
   "source": [
    "f(1)"
   ],
   "outputs": [
    {
     "output_type": "stream",
     "name": "stdout",
     "text": [
      "In f(): x = 2, y = 1\n",
      "In g(): x = 4, y = 3\n",
      "In f(): x = 2, y = 1\n"
     ]
    }
   ],
   "metadata": {}
  },
  {
   "cell_type": "code",
   "execution_count": 1,
   "source": [
    "# stack.py\n",
    "def h(n):\n",
    "    print(\"Start h\")\n",
    "    print(1 / n)\n",
    "    print(n)\n",
    "\n",
    "def g(n):\n",
    "    print(\"Start g\")\n",
    "    h(n - 1)\n",
    "    print(n)\n",
    "\n",
    "def f(n):\n",
    "    print(\"Start f\")\n",
    "    g(n - 1)\n",
    "    print(n)"
   ],
   "outputs": [],
   "metadata": {}
  },
  {
   "cell_type": "code",
   "execution_count": 2,
   "source": [
    "f(4)"
   ],
   "outputs": [
    {
     "output_type": "stream",
     "name": "stdout",
     "text": [
      "Start f\n",
      "Start g\n",
      "Start h\n",
      "0.5\n",
      "2\n",
      "3\n",
      "4\n"
     ]
    }
   ],
   "metadata": {}
  },
  {
   "cell_type": "code",
   "execution_count": 4,
   "source": [
    "def f(b):\n",
    "    return a * b\n",
    "\n",
    "a = 0\n",
    "print(\"f(3) = {}\".format(f(3)))\n",
    "print(\"a = {}\".format(a))"
   ],
   "outputs": [
    {
     "output_type": "stream",
     "name": "stdout",
     "text": [
      "f(3) = 0\n",
      "a = 0\n"
     ]
    }
   ],
   "metadata": {}
  },
  {
   "cell_type": "code",
   "execution_count": 5,
   "source": [
    "def f(b):\n",
    "    global a\n",
    "    a = 6\n",
    "    return a * b\n",
    "\n",
    "a = 0\n",
    "print(\"a = {}\".format(a))\n",
    "print(\"f(3) = {}\".format(f(3)))\n",
    "print(\"a = {}\".format(a))"
   ],
   "outputs": [
    {
     "output_type": "stream",
     "name": "stdout",
     "text": [
      "a = 0\n",
      "f(3) = 18\n",
      "a = 6\n"
     ]
    }
   ],
   "metadata": {}
  },
  {
   "cell_type": "code",
   "execution_count": 6,
   "source": [
    "# stack.py\n",
    "def h(n):\n",
    "    print(\"Start h\")\n",
    "    print(1 / n)\n",
    "    print(n)\n",
    "\n",
    "def g(n):\n",
    "    print(\"Start g\")\n",
    "    h(n - 1)\n",
    "    print(n)\n",
    "\n",
    "def f(n):\n",
    "    print(\"Start f\")\n",
    "    g(n - 1)\n",
    "    print(n)"
   ],
   "outputs": [],
   "metadata": {}
  },
  {
   "cell_type": "code",
   "execution_count": 8,
   "source": [
    "try:\n",
    "    f(2)\n",
    "except:\n",
    "    print(\"Caught!\")"
   ],
   "outputs": [
    {
     "output_type": "stream",
     "name": "stdout",
     "text": [
      "Start f\n",
      "Start g\n",
      "Start h\n",
      "Caught!\n"
     ]
    }
   ],
   "metadata": {}
  },
  {
   "cell_type": "code",
   "execution_count": 11,
   "source": [
    "def readAge(filename):\n",
    "    try:\n",
    "        infile = open(filename)\n",
    "        strAge = infile.readline()\n",
    "        age = int(strAge)\n",
    "        print(\"Age is {}\".format(age))\n",
    "    except IOError:\n",
    "        print(\"Input/Output error.\")\n",
    "    except ValueError:\n",
    "        print(\"Value cannot be converted to integer.\")\n",
    "    except:\n",
    "        print(\"Other error.\")\n",
    "readAge(r\"age.txt\")"
   ],
   "outputs": [
    {
     "output_type": "stream",
     "name": "stdout",
     "text": [
      "Value cannot be converted to integer.\n"
     ]
    }
   ],
   "metadata": {}
  },
  {
   "cell_type": "code",
   "execution_count": 13,
   "source": [
    "# ex 7.3\n",
    "def safe_open(filename, mode):\n",
    "    try:\n",
    "        temp = open(filename, mode)\n",
    "        return temp\n",
    "    except:\n",
    "        return None"
   ],
   "outputs": [],
   "metadata": {}
  },
  {
   "cell_type": "code",
   "execution_count": 14,
   "source": [
    "safe_open(\"ch7.py\", \"r\")"
   ],
   "outputs": [],
   "metadata": {}
  },
  {
   "cell_type": "code",
   "execution_count": 15,
   "source": [
    "safe_open(\"ch7.py\", \"r\")"
   ],
   "outputs": [
    {
     "output_type": "execute_result",
     "data": {
      "text/plain": [
       "<_io.TextIOWrapper name='ch7.py' mode='r' encoding='cp936'>"
      ]
     },
     "metadata": {},
     "execution_count": 15
    }
   ],
   "metadata": {}
  },
  {
   "cell_type": "code",
   "execution_count": 16,
   "source": [
    "# stack.py\n",
    "def h(n):\n",
    "    try:\n",
    "        print(\"Start h\")\n",
    "        print(1 / n)\n",
    "        print(n)\n",
    "    except:\n",
    "        print(\"Caught!\")\n",
    "\n",
    "def g(n):\n",
    "    print(\"Start g\")\n",
    "    h(n - 1)\n",
    "    print(n)\n",
    "\n",
    "def f(n):\n",
    "    print(\"Start f\")\n",
    "    g(n - 1)\n",
    "    print(n)\n",
    "\n",
    "f(2)"
   ],
   "outputs": [
    {
     "output_type": "stream",
     "name": "stdout",
     "text": [
      "Start f\n",
      "Start g\n",
      "Start h\n",
      "Caught!\n",
      "1\n",
      "2\n"
     ]
    }
   ],
   "metadata": {}
  },
  {
   "cell_type": "code",
   "execution_count": 17,
   "source": [
    "# ex 7.4\n",
    "# case(a)\n",
    "def h(n):\n",
    "    print(\"Start h\")\n",
    "    try:\n",
    "        print(1 / n)\n",
    "    except:\n",
    "        print(\"Caught!\")\n",
    "    print(n)\n",
    "\n",
    "def g(n):\n",
    "    print(\"Start g\")\n",
    "    h(n - 1)\n",
    "    print(n)\n",
    "\n",
    "def f(n):\n",
    "    print(\"Start f\")\n",
    "    g(n - 1)\n",
    "    print(n)\n",
    "\n",
    "f(2)"
   ],
   "outputs": [
    {
     "output_type": "stream",
     "name": "stdout",
     "text": [
      "Start f\n",
      "Start g\n",
      "Start h\n",
      "Caught!\n",
      "0\n",
      "1\n",
      "2\n"
     ]
    }
   ],
   "metadata": {}
  },
  {
   "cell_type": "code",
   "execution_count": 18,
   "source": [
    "# case(b)\n",
    "def h(n):\n",
    "    print(\"Start h\")\n",
    "    print(1 / n)\n",
    "    print(n)\n",
    "\n",
    "def g(n):\n",
    "    try:\n",
    "        print(\"Start g\")\n",
    "        h(n - 1)\n",
    "        print(n)\n",
    "    except:\n",
    "        print(\"Caught!\")\n",
    "\n",
    "def f(n):\n",
    "    print(\"Start f\")\n",
    "    g(n - 1)\n",
    "    print(n)\n",
    "\n",
    "f(2)"
   ],
   "outputs": [
    {
     "output_type": "stream",
     "name": "stdout",
     "text": [
      "Start f\n",
      "Start g\n",
      "Start h\n",
      "Caught!\n",
      "2\n"
     ]
    }
   ],
   "metadata": {}
  },
  {
   "cell_type": "code",
   "execution_count": 19,
   "source": [
    "# case(c)\n",
    "def h(n):\n",
    "    print(\"Start h\")\n",
    "    print(1 / n)\n",
    "    print(n)\n",
    "\n",
    "def g(n):\n",
    "    print(\"Start g\")\n",
    "    try:\n",
    "        h(n - 1)\n",
    "    except:\n",
    "        print(\"Caught!\")\n",
    "    print(n)\n",
    "\n",
    "\n",
    "def f(n):\n",
    "    print(\"Start f\")\n",
    "    g(n - 1)\n",
    "    print(n)\n",
    "\n",
    "f(2)"
   ],
   "outputs": [
    {
     "output_type": "stream",
     "name": "stdout",
     "text": [
      "Start f\n",
      "Start g\n",
      "Start h\n",
      "Caught!\n",
      "1\n",
      "2\n"
     ]
    }
   ],
   "metadata": {}
  },
  {
   "cell_type": "code",
   "execution_count": 1,
   "source": [
    "import math"
   ],
   "outputs": [],
   "metadata": {}
  },
  {
   "cell_type": "code",
   "execution_count": 1,
   "source": [
    "import sys\n",
    "sys.path"
   ],
   "outputs": [
    {
     "output_type": "execute_result",
     "data": {
      "text/plain": [
       "['/media/elody/DATA/Workspace/CS/BasicPython/Ch07',\n",
       " '/home/elody/.vscode/extensions/ms-toolsai.jupyter-2021.8.2041215044/pythonFiles',\n",
       " '/home/elody/.vscode/extensions/ms-toolsai.jupyter-2021.8.2041215044/pythonFiles/lib/python',\n",
       " '/home/elody/anaconda3/lib/python38.zip',\n",
       " '/home/elody/anaconda3/lib/python3.8',\n",
       " '/home/elody/anaconda3/lib/python3.8/lib-dynload',\n",
       " '',\n",
       " '/home/elody/anaconda3/lib/python3.8/site-packages',\n",
       " '/home/elody/anaconda3/lib/python3.8/site-packages/locket-0.2.1-py3.8.egg',\n",
       " '/home/elody/anaconda3/lib/python3.8/site-packages/IPython/extensions',\n",
       " '/home/elody/.ipython']"
      ]
     },
     "metadata": {},
     "execution_count": 1
    }
   ],
   "metadata": {}
  },
  {
   "cell_type": "code",
   "execution_count": 6,
   "source": [
    "dir()"
   ],
   "outputs": [
    {
     "output_type": "execute_result",
     "data": {
      "text/plain": [
       "['In',\n",
       " 'Out',\n",
       " '_',\n",
       " '_2',\n",
       " '_5',\n",
       " '__',\n",
       " '___',\n",
       " '__builtin__',\n",
       " '__builtins__',\n",
       " '__doc__',\n",
       " '__loader__',\n",
       " '__name__',\n",
       " '__package__',\n",
       " '__spec__',\n",
       " '_dh',\n",
       " '_i',\n",
       " '_i1',\n",
       " '_i2',\n",
       " '_i3',\n",
       " '_i4',\n",
       " '_i5',\n",
       " '_i6',\n",
       " '_ih',\n",
       " '_ii',\n",
       " '_iii',\n",
       " '_oh',\n",
       " '_rwho_ls',\n",
       " 'exit',\n",
       " 'get_ipython',\n",
       " 'math',\n",
       " 'os',\n",
       " 'quit',\n",
       " 'sys']"
      ]
     },
     "metadata": {},
     "execution_count": 6
    }
   ],
   "metadata": {}
  },
  {
   "cell_type": "code",
   "execution_count": 8,
   "source": [
    "import example"
   ],
   "outputs": [],
   "metadata": {}
  },
  {
   "cell_type": "code",
   "execution_count": 10,
   "source": [
    "example.main()"
   ],
   "outputs": [
    {
     "output_type": "stream",
     "name": "stdout",
     "text": [
      "Testing module example:\n",
      "Executing f()\n",
      "Executing g()\n",
      "0\n"
     ]
    }
   ],
   "metadata": {}
  },
  {
   "cell_type": "code",
   "execution_count": 11,
   "source": [
    "example.f()"
   ],
   "outputs": [
    {
     "output_type": "stream",
     "name": "stdout",
     "text": [
      "Executing f()\n"
     ]
    }
   ],
   "metadata": {}
  },
  {
   "cell_type": "code",
   "execution_count": 12,
   "source": [
    "example.x"
   ],
   "outputs": [
    {
     "output_type": "execute_result",
     "data": {
      "text/plain": [
       "0"
      ]
     },
     "metadata": {},
     "execution_count": 12
    }
   ],
   "metadata": {}
  },
  {
   "cell_type": "code",
   "execution_count": 16,
   "source": [
    "dir()"
   ],
   "outputs": [
    {
     "output_type": "execute_result",
     "data": {
      "text/plain": [
       "['In',\n",
       " 'Out',\n",
       " '_',\n",
       " '_14',\n",
       " '_15',\n",
       " '_2',\n",
       " '_5',\n",
       " '_6',\n",
       " '__',\n",
       " '___',\n",
       " '__builtin__',\n",
       " '__builtins__',\n",
       " '__doc__',\n",
       " '__loader__',\n",
       " '__name__',\n",
       " '__package__',\n",
       " '__spec__',\n",
       " '_dh',\n",
       " '_i',\n",
       " '_i1',\n",
       " '_i10',\n",
       " '_i11',\n",
       " '_i12',\n",
       " '_i13',\n",
       " '_i14',\n",
       " '_i15',\n",
       " '_i16',\n",
       " '_i2',\n",
       " '_i3',\n",
       " '_i4',\n",
       " '_i5',\n",
       " '_i6',\n",
       " '_i7',\n",
       " '_i8',\n",
       " '_i9',\n",
       " '_ih',\n",
       " '_ii',\n",
       " '_iii',\n",
       " '_oh',\n",
       " '_rwho_ls',\n",
       " 'example',\n",
       " 'exit',\n",
       " 'get_ipython',\n",
       " 'math',\n",
       " 'os',\n",
       " 'quit',\n",
       " 'sys']"
      ]
     },
     "metadata": {},
     "execution_count": 16
    }
   ],
   "metadata": {}
  },
  {
   "cell_type": "code",
   "execution_count": 17,
   "source": [
    "dir(__builtins__)"
   ],
   "outputs": [
    {
     "output_type": "execute_result",
     "data": {
      "text/plain": [
       "['ArithmeticError',\n",
       " 'AssertionError',\n",
       " 'AttributeError',\n",
       " 'BaseException',\n",
       " 'BlockingIOError',\n",
       " 'BrokenPipeError',\n",
       " 'BufferError',\n",
       " 'BytesWarning',\n",
       " 'ChildProcessError',\n",
       " 'ConnectionAbortedError',\n",
       " 'ConnectionError',\n",
       " 'ConnectionRefusedError',\n",
       " 'ConnectionResetError',\n",
       " 'DeprecationWarning',\n",
       " 'EOFError',\n",
       " 'Ellipsis',\n",
       " 'EnvironmentError',\n",
       " 'Exception',\n",
       " 'False',\n",
       " 'FileExistsError',\n",
       " 'FileNotFoundError',\n",
       " 'FloatingPointError',\n",
       " 'FutureWarning',\n",
       " 'GeneratorExit',\n",
       " 'IOError',\n",
       " 'ImportError',\n",
       " 'ImportWarning',\n",
       " 'IndentationError',\n",
       " 'IndexError',\n",
       " 'InterruptedError',\n",
       " 'IsADirectoryError',\n",
       " 'KeyError',\n",
       " 'KeyboardInterrupt',\n",
       " 'LookupError',\n",
       " 'MemoryError',\n",
       " 'ModuleNotFoundError',\n",
       " 'NameError',\n",
       " 'None',\n",
       " 'NotADirectoryError',\n",
       " 'NotImplemented',\n",
       " 'NotImplementedError',\n",
       " 'OSError',\n",
       " 'OverflowError',\n",
       " 'PendingDeprecationWarning',\n",
       " 'PermissionError',\n",
       " 'ProcessLookupError',\n",
       " 'RecursionError',\n",
       " 'ReferenceError',\n",
       " 'ResourceWarning',\n",
       " 'RuntimeError',\n",
       " 'RuntimeWarning',\n",
       " 'StopAsyncIteration',\n",
       " 'StopIteration',\n",
       " 'SyntaxError',\n",
       " 'SyntaxWarning',\n",
       " 'SystemError',\n",
       " 'SystemExit',\n",
       " 'TabError',\n",
       " 'TimeoutError',\n",
       " 'True',\n",
       " 'TypeError',\n",
       " 'UnboundLocalError',\n",
       " 'UnicodeDecodeError',\n",
       " 'UnicodeEncodeError',\n",
       " 'UnicodeError',\n",
       " 'UnicodeTranslateError',\n",
       " 'UnicodeWarning',\n",
       " 'UserWarning',\n",
       " 'ValueError',\n",
       " 'Warning',\n",
       " 'WindowsError',\n",
       " 'ZeroDivisionError',\n",
       " '__IPYTHON__',\n",
       " '__build_class__',\n",
       " '__debug__',\n",
       " '__doc__',\n",
       " '__import__',\n",
       " '__loader__',\n",
       " '__name__',\n",
       " '__package__',\n",
       " '__spec__',\n",
       " 'abs',\n",
       " 'all',\n",
       " 'any',\n",
       " 'ascii',\n",
       " 'bin',\n",
       " 'bool',\n",
       " 'breakpoint',\n",
       " 'bytearray',\n",
       " 'bytes',\n",
       " 'callable',\n",
       " 'chr',\n",
       " 'classmethod',\n",
       " 'compile',\n",
       " 'complex',\n",
       " 'copyright',\n",
       " 'credits',\n",
       " 'delattr',\n",
       " 'dict',\n",
       " 'dir',\n",
       " 'display',\n",
       " 'divmod',\n",
       " 'enumerate',\n",
       " 'eval',\n",
       " 'exec',\n",
       " 'filter',\n",
       " 'float',\n",
       " 'format',\n",
       " 'frozenset',\n",
       " 'get_ipython',\n",
       " 'getattr',\n",
       " 'globals',\n",
       " 'hasattr',\n",
       " 'hash',\n",
       " 'help',\n",
       " 'hex',\n",
       " 'id',\n",
       " 'input',\n",
       " 'int',\n",
       " 'isinstance',\n",
       " 'issubclass',\n",
       " 'iter',\n",
       " 'len',\n",
       " 'license',\n",
       " 'list',\n",
       " 'locals',\n",
       " 'map',\n",
       " 'max',\n",
       " 'memoryview',\n",
       " 'min',\n",
       " 'next',\n",
       " 'object',\n",
       " 'oct',\n",
       " 'open',\n",
       " 'ord',\n",
       " 'pow',\n",
       " 'print',\n",
       " 'property',\n",
       " 'range',\n",
       " 'repr',\n",
       " 'reversed',\n",
       " 'round',\n",
       " 'set',\n",
       " 'setattr',\n",
       " 'slice',\n",
       " 'sorted',\n",
       " 'staticmethod',\n",
       " 'str',\n",
       " 'sum',\n",
       " 'super',\n",
       " 'tuple',\n",
       " 'type',\n",
       " 'vars',\n",
       " 'zip']"
      ]
     },
     "metadata": {},
     "execution_count": 17
    }
   ],
   "metadata": {}
  },
  {
   "cell_type": "code",
   "execution_count": 18,
   "source": [
    "import random"
   ],
   "outputs": [],
   "metadata": {}
  },
  {
   "cell_type": "code",
   "execution_count": 25,
   "source": [
    "dir(random.random)"
   ],
   "outputs": [
    {
     "output_type": "execute_result",
     "data": {
      "text/plain": [
       "['__call__',\n",
       " '__class__',\n",
       " '__delattr__',\n",
       " '__dir__',\n",
       " '__doc__',\n",
       " '__eq__',\n",
       " '__format__',\n",
       " '__ge__',\n",
       " '__getattribute__',\n",
       " '__gt__',\n",
       " '__hash__',\n",
       " '__init__',\n",
       " '__init_subclass__',\n",
       " '__le__',\n",
       " '__lt__',\n",
       " '__module__',\n",
       " '__name__',\n",
       " '__ne__',\n",
       " '__new__',\n",
       " '__qualname__',\n",
       " '__reduce__',\n",
       " '__reduce_ex__',\n",
       " '__repr__',\n",
       " '__self__',\n",
       " '__setattr__',\n",
       " '__sizeof__',\n",
       " '__str__',\n",
       " '__subclasshook__',\n",
       " '__text_signature__']"
      ]
     },
     "metadata": {},
     "execution_count": 25
    }
   ],
   "metadata": {}
  },
  {
   "cell_type": "code",
   "execution_count": 26,
   "source": [
    "import name"
   ],
   "outputs": [
    {
     "output_type": "stream",
     "name": "stdout",
     "text": [
      "My name is name\n"
     ]
    }
   ],
   "metadata": {}
  },
  {
   "cell_type": "code",
   "execution_count": 31,
   "source": [
    "list.pop"
   ],
   "outputs": [
    {
     "output_type": "execute_result",
     "data": {
      "text/plain": [
       "<method 'pop' of 'list' objects>"
      ]
     },
     "metadata": {},
     "execution_count": 31
    }
   ],
   "metadata": {}
  },
  {
   "cell_type": "code",
   "execution_count": 32,
   "source": [
    "dir(list)"
   ],
   "outputs": [
    {
     "output_type": "execute_result",
     "data": {
      "text/plain": [
       "['__add__',\n",
       " '__class__',\n",
       " '__contains__',\n",
       " '__delattr__',\n",
       " '__delitem__',\n",
       " '__dir__',\n",
       " '__doc__',\n",
       " '__eq__',\n",
       " '__format__',\n",
       " '__ge__',\n",
       " '__getattribute__',\n",
       " '__getitem__',\n",
       " '__gt__',\n",
       " '__hash__',\n",
       " '__iadd__',\n",
       " '__imul__',\n",
       " '__init__',\n",
       " '__init_subclass__',\n",
       " '__iter__',\n",
       " '__le__',\n",
       " '__len__',\n",
       " '__lt__',\n",
       " '__mul__',\n",
       " '__ne__',\n",
       " '__new__',\n",
       " '__reduce__',\n",
       " '__reduce_ex__',\n",
       " '__repr__',\n",
       " '__reversed__',\n",
       " '__rmul__',\n",
       " '__setattr__',\n",
       " '__setitem__',\n",
       " '__sizeof__',\n",
       " '__str__',\n",
       " '__subclasshook__',\n",
       " 'append',\n",
       " 'clear',\n",
       " 'copy',\n",
       " 'count',\n",
       " 'extend',\n",
       " 'index',\n",
       " 'insert',\n",
       " 'pop',\n",
       " 'remove',\n",
       " 'reverse',\n",
       " 'sort']"
      ]
     },
     "metadata": {},
     "execution_count": 32
    }
   ],
   "metadata": {}
  },
  {
   "cell_type": "code",
   "execution_count": 35,
   "source": [
    "lst = [5, 2, 8, 1, 3, 6, 4 ,7]\n",
    "lst.sort()\n",
    "lst"
   ],
   "outputs": [
    {
     "output_type": "execute_result",
     "data": {
      "text/plain": [
       "[1, 2, 3, 4, 5, 6, 7, 8]"
      ]
     },
     "metadata": {},
     "execution_count": 35
    }
   ],
   "metadata": {}
  },
  {
   "cell_type": "code",
   "execution_count": 37,
   "source": [
    "lst = [5, 2, 8, 1, 3, 6, 4 ,7]\n",
    "list.sort(lst)\n",
    "lst"
   ],
   "outputs": [
    {
     "output_type": "execute_result",
     "data": {
      "text/plain": [
       "[1, 2, 3, 4, 5, 6, 7, 8]"
      ]
     },
     "metadata": {},
     "execution_count": 37
    }
   ],
   "metadata": {}
  },
  {
   "cell_type": "markdown",
   "source": [
    "## 类方法是在类名称空间中定义的函数\n",
    "```python\n",
    "instance.method(arg1, arg2, ...)\n",
    "``` \n",
    "等价于 \n",
    "```python\n",
    "class.method(instance, arg1, arg2, ...)\n",
    "```\n",
    "即Python把***通过类的实例的方法调用***自动映射到***使用实例作为第一个参数的类名称空间中定义的函数的调用***  \n",
    "```class```是```instance```的类型，```instance```是```class```的实例。"
   ],
   "metadata": {}
  },
  {
   "cell_type": "code",
   "execution_count": 38,
   "source": [
    "def g(x):\n",
    "    print(f(x))\n",
    "\n",
    "def f(x):\n",
    "    return 2 * x + 1\n",
    "\n",
    "g(3)"
   ],
   "outputs": [
    {
     "output_type": "stream",
     "name": "stdout",
     "text": [
      "7\n"
     ]
    }
   ],
   "metadata": {}
  },
  {
   "cell_type": "code",
   "execution_count": 41,
   "source": [
    "# ex 7.10\n",
    "import one\n",
    "one.f1()"
   ],
   "outputs": [
    {
     "output_type": "stream",
     "name": "stdout",
     "text": [
      "Hello\n"
     ]
    }
   ],
   "metadata": {}
  },
  {
   "cell_type": "code",
   "execution_count": 46,
   "source": [
    "# ex 7.11\n",
    "dir(one.two.three)"
   ],
   "outputs": [
    {
     "output_type": "execute_result",
     "data": {
      "text/plain": [
       "['__builtins__',\n",
       " '__cached__',\n",
       " '__doc__',\n",
       " '__file__',\n",
       " '__loader__',\n",
       " '__name__',\n",
       " '__package__',\n",
       " '__spec__',\n",
       " 'f3',\n",
       " 'one']"
      ]
     },
     "metadata": {},
     "execution_count": 46
    }
   ],
   "metadata": {}
  },
  {
   "cell_type": "code",
   "execution_count": 48,
   "source": [
    "# ex 7.14\n",
    "# case(a)\n",
    "lst = [2, 3, 4, 5]\n",
    "list.sort(lst)\n",
    "lst"
   ],
   "outputs": [
    {
     "output_type": "execute_result",
     "data": {
      "text/plain": [
       "[2, 3, 4, 5]"
      ]
     },
     "metadata": {},
     "execution_count": 48
    }
   ],
   "metadata": {}
  },
  {
   "cell_type": "code",
   "execution_count": 49,
   "source": [
    "# case(b)\n",
    "lst = [2, 3, 4, 5]\n",
    "list.append(lst, 3)\n",
    "lst"
   ],
   "outputs": [
    {
     "output_type": "execute_result",
     "data": {
      "text/plain": [
       "[2, 3, 4, 5, 3]"
      ]
     },
     "metadata": {},
     "execution_count": 49
    }
   ],
   "metadata": {}
  },
  {
   "cell_type": "code",
   "execution_count": 51,
   "source": [
    "# case(c)\n",
    "lst = [2, 3, 4, 5]\n",
    "list.sort(lst)\n",
    "list.append(lst, 3)\n",
    "list.count(lst, 3)"
   ],
   "outputs": [
    {
     "output_type": "execute_result",
     "data": {
      "text/plain": [
       "2"
      ]
     },
     "metadata": {},
     "execution_count": 51
    }
   ],
   "metadata": {}
  },
  {
   "cell_type": "code",
   "execution_count": 52,
   "source": [
    "# case(d)\n",
    "lst = [2, 3, 4, 5]\n",
    "list.sort(lst)\n",
    "list.append(lst, 3)\n",
    "list.insert(lst, 2, 1)\n",
    "lst"
   ],
   "outputs": [
    {
     "output_type": "execute_result",
     "data": {
      "text/plain": [
       "[2, 3, 1, 4, 5, 3]"
      ]
     },
     "metadata": {},
     "execution_count": 52
    }
   ],
   "metadata": {}
  },
  {
   "cell_type": "code",
   "execution_count": 53,
   "source": [
    "# ex 7.15\n",
    "str.upper(\"error\")"
   ],
   "outputs": [
    {
     "output_type": "execute_result",
     "data": {
      "text/plain": [
       "'ERROR'"
      ]
     },
     "metadata": {},
     "execution_count": 53
    }
   ],
   "metadata": {}
  },
  {
   "cell_type": "code",
   "execution_count": 54,
   "source": [
    "str.split(\"2,3,4,5\")"
   ],
   "outputs": [
    {
     "output_type": "execute_result",
     "data": {
      "text/plain": [
       "['2,3,4,5']"
      ]
     },
     "metadata": {},
     "execution_count": 54
    }
   ],
   "metadata": {}
  },
  {
   "cell_type": "code",
   "execution_count": 55,
   "source": [
    "str.count(\"mississippi\", \"i\")"
   ],
   "outputs": [
    {
     "output_type": "execute_result",
     "data": {
      "text/plain": [
       "4"
      ]
     },
     "metadata": {},
     "execution_count": 55
    }
   ],
   "metadata": {}
  },
  {
   "cell_type": "code",
   "execution_count": 56,
   "source": [
    "str.replace(\"bell\", \"e\", \"a\")"
   ],
   "outputs": [
    {
     "output_type": "execute_result",
     "data": {
      "text/plain": [
       "'ball'"
      ]
     },
     "metadata": {},
     "execution_count": 56
    }
   ],
   "metadata": {}
  },
  {
   "cell_type": "code",
   "execution_count": 57,
   "source": [
    "str.format(\"\", 1, 2, 3)"
   ],
   "outputs": [
    {
     "output_type": "execute_result",
     "data": {
      "text/plain": [
       "''"
      ]
     },
     "metadata": {},
     "execution_count": 57
    }
   ],
   "metadata": {}
  },
  {
   "cell_type": "code",
   "execution_count": 70,
   "source": [
    "# ex 7.17\n",
    "def game(n):\n",
    "    from random import randrange\n",
    "    for i in range(n):\n",
    "        a = randrange(0, 10)\n",
    "        b = randrange(0, 10)\n",
    "        print(str(a) + \" + \" + str(b) + \" =\")\n",
    "        while True:\n",
    "            try:\n",
    "                answer = eval(input(\"Enter answer:\"))\n",
    "                if (a + b) == int(answer):\n",
    "                    print(\"Correct\")\n",
    "                else:\n",
    "                    print(\"Incorrect\")\n",
    "                break\n",
    "            except:\n",
    "                print(\"Please input digit 0-9! Try again.\")\n",
    "\n",
    "    print(\"Game Over.\")"
   ],
   "outputs": [],
   "metadata": {}
  },
  {
   "cell_type": "code",
   "execution_count": 71,
   "source": [
    "game(4)"
   ],
   "outputs": [
    {
     "output_type": "stream",
     "name": "stdout",
     "text": [
      "5 + 2 =\n",
      "Please input digit 0-9! Try again.\n",
      "Correct\n",
      "8 + 0 =\n",
      "Please input digit 0-9! Try again.\n",
      "Please input digit 0-9! Try again.\n",
      "Correct\n",
      "7 + 1 =\n",
      "Correct\n",
      "5 + 7 =\n",
      "Incorrect\n",
      "Game Over.\n"
     ]
    }
   ],
   "metadata": {}
  },
  {
   "cell_type": "code",
   "execution_count": 75,
   "source": [
    "# ex 7.19\n",
    "# try-except嵌套\n",
    "def inValues():\n",
    "    sum = 0\n",
    "    for i in range(2):\n",
    "        try:\n",
    "            a = eval(input(\"Please enter a number: \"))\n",
    "            sum = sum + a\n",
    "        except:\n",
    "            print(\"Error. Please re-enter the value.\")\n",
    "            try:\n",
    "                a = eval(input(\"Please enter a number: \"))\n",
    "                sum = sum + a\n",
    "            except:\n",
    "                print(\"Two errors in a row. Quitting...\")\n",
    "                return\n",
    "    print(sum)"
   ],
   "outputs": [],
   "metadata": {}
  },
  {
   "cell_type": "code",
   "execution_count": 76,
   "source": [
    "inValues()"
   ],
   "outputs": [
    {
     "output_type": "stream",
     "name": "stdout",
     "text": [
      "Error. Please re-enter the value.\n",
      "Two errors in a row. Quitting...\n"
     ]
    }
   ],
   "metadata": {}
  },
  {
   "cell_type": "code",
   "execution_count": 85,
   "source": [
    "# ex 7.20\n",
    "# try-except嵌套\n",
    "def inValues():\n",
    "    sumation = 0\n",
    "    flag = 0\n",
    "    errorCount = 0\n",
    "    for i in range(2):\n",
    "        while True:\n",
    "            try:\n",
    "                a = eval(input(\"Please enter a number: \"))\n",
    "                sumation = sumation + a # 会出错的指令\n",
    "                flag = flag + 1\n",
    "                if flag == 2:\n",
    "                    print(sumation)\n",
    "                    return\n",
    "                break\n",
    "            except:\n",
    "                errorCount = errorCount + 1\n",
    "                if errorCount == 2:\n",
    "                    print(\"Two errors in a row. Quitting...\")\n",
    "                    return\n",
    "                print(\"Error. Please re-enter the value.\")\n",
    "\n",
    "    print(sumation)"
   ],
   "outputs": [],
   "metadata": {}
  },
  {
   "cell_type": "code",
   "execution_count": 90,
   "source": [
    "inValues()"
   ],
   "outputs": [
    {
     "output_type": "stream",
     "name": "stdout",
     "text": [
      "Error. Please re-enter the value.\n",
      "Two errors in a row. Quitting...\n"
     ]
    }
   ],
   "metadata": {}
  },
  {
   "cell_type": "code",
   "execution_count": 102,
   "source": [
    "# ex 7.21\n",
    "def safe_input():\n",
    "    try:\n",
    "        x = input()\n",
    "        return x\n",
    "    except KeyboardInterrupt:\n",
    "        pass"
   ],
   "outputs": [],
   "metadata": {}
  },
  {
   "cell_type": "code",
   "execution_count": 105,
   "source": [
    "x = safe_input()"
   ],
   "outputs": [],
   "metadata": {}
  },
  {
   "cell_type": "code",
   "execution_count": 106,
   "source": [
    "x"
   ],
   "outputs": [
    {
     "output_type": "execute_result",
     "data": {
      "text/plain": [
       "''"
      ]
     },
     "metadata": {},
     "execution_count": 106
    }
   ],
   "metadata": {}
  }
 ]
}