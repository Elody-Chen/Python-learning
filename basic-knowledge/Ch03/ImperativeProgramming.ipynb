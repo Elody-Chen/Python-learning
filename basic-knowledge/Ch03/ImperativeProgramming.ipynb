{
 "metadata": {
  "language_info": {
   "codemirror_mode": {
    "name": "ipython",
    "version": 3
   },
   "file_extension": ".py",
   "mimetype": "text/x-python",
   "name": "python",
   "nbconvert_exporter": "python",
   "pygments_lexer": "ipython3",
   "version": "3.7.4"
  },
  "orig_nbformat": 2,
  "kernelspec": {
   "name": "python374jvsc74a57bd096eb50e1d44aed467dc8f759cb08c32fbfa9babcf79c554e2d0e5feb04653a10",
   "display_name": "Python 3.7.4 64-bit ('base': conda)"
  }
 },
 "nbformat": 4,
 "nbformat_minor": 2,
 "cells": [
  {
   "cell_type": "code",
   "execution_count": 2,
   "metadata": {},
   "outputs": [
    {
     "output_type": "stream",
     "name": "stdout",
     "text": [
      "Login: john\nUser unknown.\nDone.\n"
     ]
    }
   ],
   "source": [
    "# exercise 3.4\n",
    "ID = input(\"Please input your ID:\")\n",
    "IDList = [\"joe\", \"sue\", \"hani\", \"sophie\"]\n",
    "print(\"Login: \" + ID)\n",
    "if ID in IDList:\n",
    "    print(\"You are in!\")\n",
    "else:\n",
    "    print(\"User unknown.\")\n",
    "print(\"Done.\")"
   ]
  },
  {
   "cell_type": "code",
   "execution_count": 3,
   "metadata": {},
   "outputs": [
    {
     "output_type": "stream",
     "name": "stdout",
     "text": [
      "2 5 8 11 14 "
     ]
    }
   ],
   "source": [
    "for i in range(2, 16, 3):\n",
    "    print(i, end=\" \")"
   ]
  },
  {
   "cell_type": "code",
   "execution_count": 6,
   "metadata": {},
   "outputs": [],
   "source": [
    "# exercise 3.8\n",
    "def perimeter(radius):\n",
    "    if radius < 0:\n",
    "        print(\"Input Error! Radius must be non-negative.\")\n",
    "    else:\n",
    "        import math\n",
    "        return 2 * math.pi * radius"
   ]
  },
  {
   "cell_type": "code",
   "execution_count": 7,
   "metadata": {},
   "outputs": [
    {
     "output_type": "stream",
     "name": "stdout",
     "text": [
      "Input Error! Radius must be non-negative.\n"
     ]
    }
   ],
   "source": [
    "perimeter(-1)"
   ]
  },
  {
   "cell_type": "code",
   "execution_count": 8,
   "metadata": {},
   "outputs": [
    {
     "output_type": "execute_result",
     "data": {
      "text/plain": [
       "25.132741228718345"
      ]
     },
     "metadata": {},
     "execution_count": 8
    }
   ],
   "source": [
    "perimeter(4)"
   ]
  },
  {
   "cell_type": "code",
   "execution_count": 13,
   "metadata": {},
   "outputs": [],
   "source": [
    "# exercise 3.10\n",
    "def noVowel(s):\n",
    "    flag = True\n",
    "    for string in s:\n",
    "        if string in \"aeiouAEIOU\":\n",
    "            flag = False\n",
    "    return flag"
   ]
  },
  {
   "cell_type": "code",
   "execution_count": 14,
   "metadata": {},
   "outputs": [
    {
     "output_type": "execute_result",
     "data": {
      "text/plain": [
       "True"
      ]
     },
     "metadata": {},
     "execution_count": 14
    }
   ],
   "source": [
    "noVowel(\"crypt\")"
   ]
  },
  {
   "cell_type": "code",
   "execution_count": 15,
   "metadata": {},
   "outputs": [
    {
     "output_type": "execute_result",
     "data": {
      "text/plain": [
       "False"
      ]
     },
     "metadata": {},
     "execution_count": 15
    }
   ],
   "source": [
    "noVowel(\"car\")"
   ]
  },
  {
   "cell_type": "code",
   "execution_count": 16,
   "metadata": {},
   "outputs": [],
   "source": [
    "# exercise 3.11\n",
    "def allEven(object):\n",
    "    flag = True\n",
    "    for num in object:\n",
    "        if num % 2 != 0:\n",
    "            flag = False\n",
    "            break\n",
    "        else:\n",
    "            print(num, end=\" \")\n",
    "    return flag"
   ]
  },
  {
   "cell_type": "code",
   "execution_count": 17,
   "metadata": {},
   "outputs": [
    {
     "output_type": "stream",
     "name": "stdout",
     "text": [
      "8 0 -2 4 -6 10 "
     ]
    },
    {
     "output_type": "execute_result",
     "data": {
      "text/plain": [
       "True"
      ]
     },
     "metadata": {},
     "execution_count": 17
    }
   ],
   "source": [
    "allEven([8, 0, -2, 4, -6, 10])"
   ]
  },
  {
   "cell_type": "code",
   "execution_count": 18,
   "metadata": {},
   "outputs": [
    {
     "output_type": "stream",
     "name": "stdout",
     "text": [
      "8 0 "
     ]
    },
    {
     "output_type": "execute_result",
     "data": {
      "text/plain": [
       "False"
      ]
     },
     "metadata": {},
     "execution_count": 18
    }
   ],
   "source": [
    "allEven([8, 0, -1, 4, -6, 10])"
   ]
  },
  {
   "cell_type": "code",
   "execution_count": 21,
   "metadata": {},
   "outputs": [],
   "source": [
    "def f(x):\n",
    "    \"\"\"return x ** 2 + 1\"\"\"\n",
    "    res = x ** 2 + 1\n",
    "    return res"
   ]
  },
  {
   "cell_type": "code",
   "execution_count": 22,
   "metadata": {},
   "outputs": [
    {
     "output_type": "stream",
     "name": "stdout",
     "text": [
      "Help on function f in module __main__:\n\nf(x)\n    return x ** 2 + 1\n\n"
     ]
    }
   ],
   "source": [
    "help(f)"
   ]
  },
  {
   "cell_type": "code",
   "execution_count": 1,
   "metadata": {},
   "outputs": [],
   "source": [
    "# exercise 3.12\n",
    "def negatives(obj):\n",
    "    for element in obj:\n",
    "        if element < 0:\n",
    "            print(element)"
   ]
  },
  {
   "cell_type": "code",
   "execution_count": 2,
   "metadata": {},
   "outputs": [
    {
     "output_type": "stream",
     "name": "stdout",
     "text": [
      "-1\n-3\n-9\n"
     ]
    }
   ],
   "source": [
    "negatives([4, 0, -1, -3, 6, -9])"
   ]
  },
  {
   "cell_type": "code",
   "execution_count": 4,
   "metadata": {},
   "outputs": [
    {
     "output_type": "stream",
     "name": "stdout",
     "text": [
      "3 [5, 6, 7]\n"
     ]
    }
   ],
   "source": [
    "# exercise 3.14\n",
    "a = [5, 6, 7]\n",
    "b = a\n",
    "a = 3\n",
    "print(a, b)"
   ]
  },
  {
   "cell_type": "code",
   "execution_count": 5,
   "metadata": {},
   "outputs": [
    {
     "output_type": "stream",
     "name": "stdout",
     "text": [
      "[3, 8, 5] [3, 8, 5]\n"
     ]
    }
   ],
   "source": [
    "a = [3, 4, 5]\n",
    "b = a\n",
    "b[1] = 8\n",
    "print(a, b)"
   ]
  },
  {
   "cell_type": "code",
   "execution_count": 6,
   "metadata": {},
   "outputs": [
    {
     "output_type": "stream",
     "name": "stdout",
     "text": [
      "[3, 8, 5] [3, 8, 5]\n"
     ]
    }
   ],
   "source": [
    "a = [3, 4, 5]\n",
    "b = a\n",
    "a[1] = 8\n",
    "print(a, b)"
   ]
  },
  {
   "cell_type": "code",
   "execution_count": 8,
   "metadata": {},
   "outputs": [
    {
     "output_type": "execute_result",
     "data": {
      "text/plain": [
       "['Sarah', 'Eleanor', 'Clare', 'Ava']"
      ]
     },
     "metadata": {},
     "execution_count": 8
    }
   ],
   "source": [
    "# ex 3.15\n",
    "team = [\"Ava\", \"Eleanor\", \"Clare\", \"Sarah\"]\n",
    "team[0], team[3] = team[3], team[0]\n",
    "team"
   ]
  },
  {
   "cell_type": "code",
   "execution_count": 9,
   "metadata": {},
   "outputs": [
    {
     "output_type": "execute_result",
     "data": {
      "text/plain": [
       "['apples', 'sugar', 'butter', 'flour']"
      ]
     },
     "metadata": {},
     "execution_count": 9
    }
   ],
   "source": [
    "# ex 3.16\n",
    "def swapFL(listObj):\n",
    "    listObj[0], listObj[-1] = listObj[-1], listObj[0]\n",
    "ingredients = [\"flour\", \"sugar\", \"butter\", \"apples\"]\n",
    "swapFL(ingredients)\n",
    "ingredients"
   ]
  },
  {
   "cell_type": "code",
   "execution_count": 10,
   "metadata": {},
   "outputs": [
    {
     "output_type": "execute_result",
     "data": {
      "text/plain": [
       "7"
      ]
     },
     "metadata": {},
     "execution_count": 10
    }
   ],
   "source": [
    "# ex 3.17\n",
    "eval(\"2 * 3 + 1\")"
   ]
  },
  {
   "cell_type": "code",
   "execution_count": 11,
   "metadata": {},
   "outputs": [
    {
     "output_type": "error",
     "ename": "NameError",
     "evalue": "name 'hello' is not defined",
     "traceback": [
      "\u001b[1;31m---------------------------------------------------------------------------\u001b[0m",
      "\u001b[1;31mNameError\u001b[0m                                 Traceback (most recent call last)",
      "\u001b[1;32m<ipython-input-11-4420b5291c73>\u001b[0m in \u001b[0;36m<module>\u001b[1;34m\u001b[0m\n\u001b[1;32m----> 1\u001b[1;33m \u001b[0meval\u001b[0m\u001b[1;33m(\u001b[0m\u001b[1;34m\"hello\"\u001b[0m\u001b[1;33m)\u001b[0m\u001b[1;33m\u001b[0m\u001b[1;33m\u001b[0m\u001b[0m\n\u001b[0m",
      "\u001b[1;32m<string>\u001b[0m in \u001b[0;36m<module>\u001b[1;34m\u001b[0m\n",
      "\u001b[1;31mNameError\u001b[0m: name 'hello' is not defined"
     ]
    }
   ],
   "source": [
    "eval(\"hello\")"
   ]
  },
  {
   "cell_type": "code",
   "execution_count": 12,
   "metadata": {},
   "outputs": [
    {
     "output_type": "execute_result",
     "data": {
      "text/plain": [
       "'hello world!'"
      ]
     },
     "metadata": {},
     "execution_count": 12
    }
   ],
   "source": [
    "eval(\"'hello' + ' ' + 'world!'\")"
   ]
  },
  {
   "cell_type": "code",
   "execution_count": 13,
   "metadata": {},
   "outputs": [
    {
     "output_type": "execute_result",
     "data": {
      "text/plain": [
       "2"
      ]
     },
     "metadata": {},
     "execution_count": 13
    }
   ],
   "source": [
    "eval(\"'ASCII'.count('I')\")"
   ]
  },
  {
   "cell_type": "code",
   "execution_count": 14,
   "metadata": {},
   "outputs": [
    {
     "output_type": "error",
     "ename": "SyntaxError",
     "evalue": "invalid syntax (<string>, line 1)",
     "traceback": [
      "Traceback \u001b[1;36m(most recent call last)\u001b[0m:\n",
      "  File \u001b[0;32m\"E:\\Anaconda\\lib\\site-packages\\IPython\\core\\interactiveshell.py\"\u001b[0m, line \u001b[0;32m3326\u001b[0m, in \u001b[0;35mrun_code\u001b[0m\n    exec(code_obj, self.user_global_ns, self.user_ns)\n",
      "\u001b[1;36m  File \u001b[1;32m\"<ipython-input-14-9c7460910a36>\"\u001b[1;36m, line \u001b[1;32m1\u001b[1;36m, in \u001b[1;35m<module>\u001b[1;36m\u001b[0m\n\u001b[1;33m    eval(\"x = 5\")\u001b[0m\n",
      "\u001b[1;36m  File \u001b[1;32m\"<string>\"\u001b[1;36m, line \u001b[1;32m1\u001b[0m\n\u001b[1;33m    x = 5\u001b[0m\n\u001b[1;37m      ^\u001b[0m\n\u001b[1;31mSyntaxError\u001b[0m\u001b[1;31m:\u001b[0m invalid syntax\n"
     ]
    }
   ],
   "source": [
    "eval(\"x = 5\")"
   ]
  },
  {
   "cell_type": "code",
   "execution_count": 15,
   "metadata": {},
   "outputs": [],
   "source": [
    "# ex 3.17\n",
    "a, b, c = 3, 4, 5"
   ]
  },
  {
   "cell_type": "code",
   "execution_count": 22,
   "metadata": {},
   "outputs": [
    {
     "output_type": "stream",
     "name": "stdout",
     "text": [
      "OK\n"
     ]
    }
   ],
   "source": [
    "if a < b:\n",
    "    print(\"OK\")\n",
    "else:\n",
    "    print(\"NOT OK\")"
   ]
  },
  {
   "cell_type": "code",
   "execution_count": 23,
   "metadata": {},
   "outputs": [
    {
     "output_type": "stream",
     "name": "stdout",
     "text": [
      "NOT OK\n"
     ]
    }
   ],
   "source": [
    "if c < b:\n",
    "    print(\"OK\")\n",
    "else:\n",
    "    print(\"NOT OK\")"
   ]
  },
  {
   "cell_type": "code",
   "execution_count": 24,
   "metadata": {},
   "outputs": [
    {
     "output_type": "stream",
     "name": "stdout",
     "text": [
      "NOT OK\n"
     ]
    }
   ],
   "source": [
    "if a + b == c:\n",
    "    print(\"OK\")\n",
    "else:\n",
    "    print(\"NOT OK\")"
   ]
  },
  {
   "cell_type": "code",
   "execution_count": 25,
   "metadata": {},
   "outputs": [
    {
     "output_type": "stream",
     "name": "stdout",
     "text": [
      "OK\n"
     ]
    }
   ],
   "source": [
    "if a**2 + b**2 == c**2:\n",
    "    print(\"OK\")\n",
    "else:\n",
    "    print(\"NOT OK\")"
   ]
  },
  {
   "cell_type": "code",
   "execution_count": 26,
   "metadata": {},
   "outputs": [
    {
     "output_type": "stream",
     "name": "stdout",
     "text": [
      "Jan\nFeb\nMar\n"
     ]
    }
   ],
   "source": [
    "# ex 3.20\n",
    "lst = [\"January\", \"February\", \"March\"]\n",
    "for month in lst:\n",
    "    print(month[0:3])"
   ]
  },
  {
   "cell_type": "code",
   "execution_count": 28,
   "metadata": {},
   "outputs": [
    {
     "output_type": "stream",
     "name": "stdout",
     "text": [
      "2 4 6 8 "
     ]
    }
   ],
   "source": [
    "# ex 3.21\n",
    "lst = [2, 3, 4, 5, 6, 7, 8, 9]\n",
    "for i in lst:\n",
    "    if i % 2 == 0:\n",
    "        print(i, end = \" \")"
   ]
  },
  {
   "cell_type": "code",
   "execution_count": 29,
   "metadata": {},
   "outputs": [
    {
     "output_type": "stream",
     "name": "stdout",
     "text": [
      "4 8 "
     ]
    }
   ],
   "source": [
    "# ex 3.22\n",
    "for i in lst:\n",
    "    if i**2 % 8 == 0:\n",
    "        print(i, end = \" \")"
   ]
  },
  {
   "cell_type": "code",
   "execution_count": 31,
   "metadata": {},
   "outputs": [
    {
     "output_type": "stream",
     "name": "stdout",
     "text": [
      "0 1 "
     ]
    }
   ],
   "source": [
    "# ex 3.23\n",
    "for i in range(2):\n",
    "    print(i, end = \" \")"
   ]
  },
  {
   "cell_type": "code",
   "execution_count": 32,
   "metadata": {},
   "outputs": [
    {
     "output_type": "stream",
     "name": "stdout",
     "text": [
      "0 "
     ]
    }
   ],
   "source": [
    "for i in range(1):\n",
    "    print(i, end = \" \")"
   ]
  },
  {
   "cell_type": "code",
   "execution_count": 33,
   "metadata": {},
   "outputs": [
    {
     "output_type": "stream",
     "name": "stdout",
     "text": [
      "3 4 5 6 "
     ]
    }
   ],
   "source": [
    "for i in range(3, 7):\n",
    "    print(i, end = \" \")"
   ]
  },
  {
   "cell_type": "code",
   "execution_count": 35,
   "metadata": {},
   "outputs": [
    {
     "output_type": "stream",
     "name": "stdout",
     "text": [
      "1 "
     ]
    }
   ],
   "source": [
    "for i in range(1, 2):\n",
    "    print(i, end = \" \")"
   ]
  },
  {
   "cell_type": "code",
   "execution_count": 38,
   "metadata": {},
   "outputs": [
    {
     "output_type": "stream",
     "name": "stdout",
     "text": [
      "0 3 "
     ]
    }
   ],
   "source": [
    "for i in range(0, 4, 3):\n",
    "    print(i, end = \" \")"
   ]
  },
  {
   "cell_type": "code",
   "execution_count": 39,
   "metadata": {},
   "outputs": [
    {
     "output_type": "stream",
     "name": "stdout",
     "text": [
      "5 9 13 17 21 "
     ]
    }
   ],
   "source": [
    "for i in range(5, 22, 4):\n",
    "    print(i, end = \" \")"
   ]
  },
  {
   "cell_type": "code",
   "execution_count": 40,
   "metadata": {},
   "outputs": [
    {
     "output_type": "stream",
     "name": "stdout",
     "text": [
      "cia\nmi6\nisi\n"
     ]
    }
   ],
   "source": [
    "# ex 3.24\n",
    "wordList = eval(input(\"Please input a word list: \"))\n",
    "for word in wordList:\n",
    "    if word != \"secret\":\n",
    "        print(word)\n",
    "# [\"cia\", \"secret\", \"mi6\", \"isi\", \"secret\"]"
   ]
  },
  {
   "cell_type": "code",
   "execution_count": 43,
   "metadata": {},
   "outputs": [
    {
     "output_type": "stream",
     "name": "stdout",
     "text": [
      "Ellie\nGavin\n"
     ]
    }
   ],
   "source": [
    "# 3.25\n",
    "nameList = eval(input(\"Please input a student name list: \"))\n",
    "for name in nameList:\n",
    "    # if name[0] in \"ABCDEFGHIJKLM\":\n",
    "    #     print(name)\n",
    "    \n",
    "    # or use ASCII to judge\n",
    "    if ord(\"A\") <= ord(name[0]) <= ord(\"M\"):\n",
    "        print(name)\n",
    "# [\"Ellie\", \"Steve\", \"Sam\", \"Owen\", \"Gavin\"]"
   ]
  },
  {
   "cell_type": "code",
   "execution_count": 45,
   "metadata": {},
   "outputs": [
    {
     "output_type": "stream",
     "name": "stdout",
     "text": [
      "The first list element is 3\nThe last list element is 9\n"
     ]
    }
   ],
   "source": [
    "# ex 3.26\n",
    "myList = eval(input(\"Please input a list: \"))\n",
    "print(\"The first list element is\", end = \" \")\n",
    "print(myList[0])\n",
    "print(\"The last list element is\", end = \" \")\n",
    "print(myList[-1])\n",
    "# [3, 5, 7, 9]"
   ]
  },
  {
   "cell_type": "code",
   "execution_count": 46,
   "metadata": {},
   "outputs": [
    {
     "output_type": "stream",
     "name": "stdout",
     "text": [
      "0\n4\n8\n12\n"
     ]
    }
   ],
   "source": [
    "# ex 3.27\n",
    "base = eval(input(\"Please input a positive integer: \" ))\n",
    "for i in range(4):\n",
    "    print(base * i)"
   ]
  },
  {
   "cell_type": "code",
   "execution_count": 47,
   "metadata": {},
   "outputs": [
    {
     "output_type": "stream",
     "name": "stdout",
     "text": [
      "0\n1\n4\n"
     ]
    }
   ],
   "source": [
    "# ex 3.28\n",
    "base = eval(input(\"Please input a positive integer: \" ))\n",
    "for i in range(base):\n",
    "    print(i**2)"
   ]
  },
  {
   "cell_type": "code",
   "execution_count": 52,
   "metadata": {},
   "outputs": [
    {
     "output_type": "stream",
     "name": "stdout",
     "text": [
      "[1, 2, 3, 4, 6, 8, 12, 16, 24, 48]\n"
     ]
    }
   ],
   "source": [
    "# ex 3.29\n",
    "import math\n",
    "base = eval(input(\"Please input a positive integer: \" ))\n",
    "# original\n",
    "# for i in range(1, base + 1):\n",
    "#     if base % i == 0:\n",
    "#         print(i)\n",
    "\n",
    "# Optimization\n",
    "positiveFactor = []\n",
    "for i in range(1, int(math.sqrt(base) + 1)):\n",
    "    if base % i == 0:\n",
    "        positiveFactor.append(i)\n",
    "        positiveFactor.append(base // i)\n",
    "positiveFactor.sort() # not De-duplication\n",
    "print(positiveFactor)\n",
    "# 49 -> result:[1, 7, 7, 49]\n",
    "# 48 -> result:[1, 2, 3, 4, 6, 8, 12, 16, 24, 48]"
   ]
  },
  {
   "cell_type": "code",
   "execution_count": 53,
   "metadata": {},
   "outputs": [
    {
     "output_type": "stream",
     "name": "stdout",
     "text": [
      "Equal\n"
     ]
    }
   ],
   "source": [
    "# 3.30\n",
    "firstNum = eval(input(\"Enter first number: \"))\n",
    "secondNum = eval(input(\"Enter second number: \"))\n",
    "thirdNum = eval(input(\"Enter third number: \"))\n",
    "lastNum = eval(input(\"Enter last number: \"))\n",
    "ave = sum([firstNum, secondNum, thirdNum]) / 3\n",
    "if ave == lastNum:\n",
    "    print(\"Equal\")"
   ]
  },
  {
   "cell_type": "code",
   "execution_count": 54,
   "metadata": {},
   "outputs": [
    {
     "output_type": "stream",
     "name": "stdout",
     "text": [
      "It is in!\n"
     ]
    }
   ],
   "source": [
    "# ex 3.31\n",
    "x = eval(input(\"Enter x: \"))\n",
    "y = eval(input(\"Enter y: \"))\n",
    "if (x - 0)**2 + (y - 0)**2 < 8**2:\n",
    "    print(\"It is in!\")"
   ]
  },
  {
   "cell_type": "code",
   "execution_count": 55,
   "metadata": {},
   "outputs": [
    {
     "output_type": "stream",
     "name": "stdout",
     "text": [
      "1 2 3 4\n"
     ]
    }
   ],
   "source": [
    "# ex 3.32\n",
    "n = eval(input(\"Enter n: \"))\n",
    "n3 = n // 10**3\n",
    "n2 = (n - n3 * 10**3) // 10**2\n",
    "n1 = (n - n3 * 10**3 - n2 * 10**2) // 10\n",
    "n0 = n % 10\n",
    "print(n3, n2, n1, n0)"
   ]
  },
  {
   "cell_type": "code",
   "execution_count": 60,
   "metadata": {},
   "outputs": [
    {
     "output_type": "execute_result",
     "data": {
      "text/plain": [
       "[1, 2, 3, 4, 5, 6, 7, 8, 9, 0]"
      ]
     },
     "metadata": {},
     "execution_count": 60
    }
   ],
   "source": [
    "# ex 3.32\n",
    "n = eval(input(\"Enter n: \"))\n",
    "def getEveryDigit(num, digitList):\n",
    "    digitList.append(num % 10)\n",
    "    if num // 10 != 0:\n",
    "        num = num // 10\n",
    "        getEveryDigit(num, digitList)\n",
    "    return digitList\n",
    "digitList = getEveryDigit(n, [])\n",
    "digitList.reverse()\n",
    "digitList"
   ]
  },
  {
   "cell_type": "code",
   "execution_count": 62,
   "metadata": {},
   "outputs": [
    {
     "output_type": "execute_result",
     "data": {
      "text/plain": [
       "'and'"
      ]
     },
     "metadata": {},
     "execution_count": 62
    }
   ],
   "source": [
    "# ex 3.33\n",
    "def reverse_string(string):\n",
    "    strTuple = tuple(string)\n",
    "    strList = list(strTuple)\n",
    "    strList.reverse()\n",
    "    reStr = \"\"\n",
    "    for alpha in strList:\n",
    "        reStr = reStr + alpha\n",
    "    return reStr\n",
    "\n",
    "reverse_string(\"dna\")"
   ]
  },
  {
   "cell_type": "code",
   "execution_count": null,
   "metadata": {},
   "outputs": [],
   "source": [
    "# ex 3.33\n",
    "# do not use methods of list and tuple"
   ]
  },
  {
   "cell_type": "code",
   "execution_count": null,
   "metadata": {},
   "outputs": [],
   "source": []
  }
 ]
}