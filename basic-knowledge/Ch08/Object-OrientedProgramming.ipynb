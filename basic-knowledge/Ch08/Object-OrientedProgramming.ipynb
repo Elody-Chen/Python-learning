{
 "cells": [
  {
   "cell_type": "code",
   "execution_count": 36,
   "metadata": {},
   "outputs": [],
   "source": [
    "class Point:\n",
    "    ' 表示二维平面上的点 '\n",
    "\n",
    "    def setx(self, xcoord):\n",
    "        ' 把点的x坐标设置为xcoord '\n",
    "        self.x = xcoord\n",
    "\n",
    "    def sety(self, ycoord):\n",
    "        ' 把点的y坐标设置为ycoord '\n",
    "        self.y = ycoord\n",
    "\n",
    "    def get(self) -> tuple:\n",
    "        ' 返回点的x坐标和y坐标，结果为元组 '\n",
    "        return (self.x, self.y)\n",
    "\n",
    "    def getx(self):\n",
    "        ' 返回点的x坐标 '\n",
    "        return self.x\n",
    "\n",
    "    def gety(self):\n",
    "        ' 返回点的y坐标 '\n",
    "        return self.y\n",
    "\n",
    "    def move(self, dx, dy):\n",
    "        ' 对x坐标移动dx，y坐标移动y '\n",
    "        self.x += dx\n",
    "        self.y += dy"
   ]
  },
  {
   "cell_type": "code",
   "execution_count": 11,
   "metadata": {},
   "outputs": [
    {
     "data": {
      "text/plain": [
       "5"
      ]
     },
     "execution_count": 11,
     "metadata": {},
     "output_type": "execute_result"
    }
   ],
   "source": [
    "a = Point()\n",
    "Point.setx(a, 5)\n",
    "Point.sety(a, 2)\n",
    "Point.getx(a)"
   ]
  },
  {
   "cell_type": "code",
   "execution_count": 12,
   "metadata": {},
   "outputs": [
    {
     "data": {
      "text/plain": [
       "(2, 4)"
      ]
     },
     "execution_count": 12,
     "metadata": {},
     "output_type": "execute_result"
    }
   ],
   "source": [
    "b = Point()\n",
    "b.setx(2)\n",
    "b.sety(4)\n",
    "b.get()"
   ]
  },
  {
   "cell_type": "code",
   "execution_count": 14,
   "metadata": {},
   "outputs": [
    {
     "data": {
      "text/plain": [
       "(5, 4)"
      ]
     },
     "execution_count": 14,
     "metadata": {},
     "output_type": "execute_result"
    }
   ],
   "source": [
    "b.x = 5\n",
    "b.get()"
   ]
  },
  {
   "cell_type": "code",
   "execution_count": 15,
   "metadata": {},
   "outputs": [
    {
     "data": {
      "text/plain": [
       "['__class__',\n",
       " '__delattr__',\n",
       " '__dict__',\n",
       " '__dir__',\n",
       " '__doc__',\n",
       " '__eq__',\n",
       " '__format__',\n",
       " '__ge__',\n",
       " '__getattribute__',\n",
       " '__gt__',\n",
       " '__hash__',\n",
       " '__init__',\n",
       " '__init_subclass__',\n",
       " '__le__',\n",
       " '__lt__',\n",
       " '__module__',\n",
       " '__ne__',\n",
       " '__new__',\n",
       " '__reduce__',\n",
       " '__reduce_ex__',\n",
       " '__repr__',\n",
       " '__setattr__',\n",
       " '__sizeof__',\n",
       " '__str__',\n",
       " '__subclasshook__',\n",
       " '__weakref__',\n",
       " 'get',\n",
       " 'getx',\n",
       " 'gety',\n",
       " 'move',\n",
       " 'setx',\n",
       " 'sety']"
      ]
     },
     "execution_count": 15,
     "metadata": {},
     "output_type": "execute_result"
    }
   ],
   "source": [
    "dir(Point)"
   ]
  },
  {
   "cell_type": "code",
   "execution_count": 16,
   "metadata": {},
   "outputs": [
    {
     "data": {
      "text/plain": [
       "['__class__',\n",
       " '__delattr__',\n",
       " '__dict__',\n",
       " '__dir__',\n",
       " '__doc__',\n",
       " '__eq__',\n",
       " '__format__',\n",
       " '__ge__',\n",
       " '__getattribute__',\n",
       " '__gt__',\n",
       " '__hash__',\n",
       " '__init__',\n",
       " '__init_subclass__',\n",
       " '__le__',\n",
       " '__lt__',\n",
       " '__module__',\n",
       " '__ne__',\n",
       " '__new__',\n",
       " '__reduce__',\n",
       " '__reduce_ex__',\n",
       " '__repr__',\n",
       " '__setattr__',\n",
       " '__sizeof__',\n",
       " '__str__',\n",
       " '__subclasshook__',\n",
       " '__weakref__',\n",
       " 'get',\n",
       " 'getx',\n",
       " 'gety',\n",
       " 'move',\n",
       " 'setx',\n",
       " 'sety',\n",
       " 'x',\n",
       " 'y']"
      ]
     },
     "execution_count": 16,
     "metadata": {},
     "output_type": "execute_result"
    }
   ],
   "source": [
    "dir(a)"
   ]
  },
  {
   "cell_type": "code",
   "execution_count": 17,
   "metadata": {},
   "outputs": [],
   "source": [
    "# ex 8.2\n",
    "class Test:\n",
    "    version = 1.02"
   ]
  },
  {
   "cell_type": "code",
   "execution_count": 18,
   "metadata": {},
   "outputs": [],
   "source": [
    "a = Test()\n",
    "b = Test()"
   ]
  },
  {
   "cell_type": "code",
   "execution_count": 19,
   "metadata": {},
   "outputs": [
    {
     "data": {
      "text/plain": [
       "1.02"
      ]
     },
     "execution_count": 19,
     "metadata": {},
     "output_type": "execute_result"
    }
   ],
   "source": [
    "a.version"
   ]
  },
  {
   "cell_type": "code",
   "execution_count": 20,
   "metadata": {},
   "outputs": [],
   "source": [
    "Test.version = 1.03"
   ]
  },
  {
   "cell_type": "code",
   "execution_count": 21,
   "metadata": {},
   "outputs": [
    {
     "data": {
      "text/plain": [
       "1.03"
      ]
     },
     "execution_count": 21,
     "metadata": {},
     "output_type": "execute_result"
    }
   ],
   "source": [
    "a.version"
   ]
  },
  {
   "cell_type": "code",
   "execution_count": 22,
   "metadata": {},
   "outputs": [],
   "source": [
    "a.version = \"Lasted\""
   ]
  },
  {
   "cell_type": "code",
   "execution_count": 23,
   "metadata": {},
   "outputs": [
    {
     "data": {
      "text/plain": [
       "'Lasted'"
      ]
     },
     "execution_count": 23,
     "metadata": {},
     "output_type": "execute_result"
    }
   ],
   "source": [
    "a.version"
   ]
  },
  {
   "cell_type": "code",
   "execution_count": 24,
   "metadata": {},
   "outputs": [
    {
     "data": {
      "text/plain": [
       "1.03"
      ]
     },
     "execution_count": 24,
     "metadata": {},
     "output_type": "execute_result"
    }
   ],
   "source": [
    "Test.version"
   ]
  },
  {
   "cell_type": "code",
   "execution_count": 25,
   "metadata": {},
   "outputs": [
    {
     "data": {
      "text/plain": [
       "1.03"
      ]
     },
     "execution_count": 25,
     "metadata": {},
     "output_type": "execute_result"
    }
   ],
   "source": [
    "b.version"
   ]
  },
  {
   "cell_type": "code",
   "execution_count": 27,
   "metadata": {},
   "outputs": [
    {
     "data": {
      "text/plain": [
       "['__class__',\n",
       " '__delattr__',\n",
       " '__dict__',\n",
       " '__dir__',\n",
       " '__doc__',\n",
       " '__eq__',\n",
       " '__format__',\n",
       " '__ge__',\n",
       " '__getattribute__',\n",
       " '__gt__',\n",
       " '__hash__',\n",
       " '__init__',\n",
       " '__init_subclass__',\n",
       " '__le__',\n",
       " '__lt__',\n",
       " '__module__',\n",
       " '__ne__',\n",
       " '__new__',\n",
       " '__reduce__',\n",
       " '__reduce_ex__',\n",
       " '__repr__',\n",
       " '__setattr__',\n",
       " '__sizeof__',\n",
       " '__str__',\n",
       " '__subclasshook__',\n",
       " '__weakref__',\n",
       " 'version']"
      ]
     },
     "execution_count": 27,
     "metadata": {},
     "output_type": "execute_result"
    }
   ],
   "source": [
    "dir(Test)"
   ]
  },
  {
   "cell_type": "code",
   "execution_count": 37,
   "metadata": {},
   "outputs": [
    {
     "name": "stdout",
     "output_type": "stream",
     "text": [
      "Help on class Point in module __main__:\n",
      "\n",
      "class Point(builtins.object)\n",
      " |  表示二维平面上的点\n",
      " |  \n",
      " |  Methods defined here:\n",
      " |  \n",
      " |  get(self) -> tuple\n",
      " |      返回点的x坐标和y坐标，结果为元组\n",
      " |  \n",
      " |  getx(self)\n",
      " |      返回点的x坐标\n",
      " |  \n",
      " |  gety(self)\n",
      " |      返回点的y坐标\n",
      " |  \n",
      " |  move(self, dx, dy)\n",
      " |      对x坐标移动dx，y坐标移动y\n",
      " |  \n",
      " |  setx(self, xcoord)\n",
      " |      把点的x坐标设置为xcoord\n",
      " |  \n",
      " |  sety(self, ycoord)\n",
      " |      把点的y坐标设置为ycoord\n",
      " |  \n",
      " |  ----------------------------------------------------------------------\n",
      " |  Data descriptors defined here:\n",
      " |  \n",
      " |  __dict__\n",
      " |      dictionary for instance variables (if defined)\n",
      " |  \n",
      " |  __weakref__\n",
      " |      list of weak references to the object (if defined)\n",
      "\n"
     ]
    }
   ],
   "source": [
    "help(Point)"
   ]
  },
  {
   "cell_type": "code",
   "execution_count": 41,
   "metadata": {},
   "outputs": [],
   "source": [
    "class Animal:\n",
    "\n",
    "    def setSpecies(self, species):\n",
    "        self.species = species\n",
    "\n",
    "    def setLanguage(self, language):\n",
    "        self.language = language\n",
    "\n",
    "    def speak(self):\n",
    "        print(\"I am a \" + self.species + \" and I \" + self.language + \".\")"
   ]
  },
  {
   "cell_type": "code",
   "execution_count": 42,
   "metadata": {},
   "outputs": [],
   "source": [
    "snoopy = Animal()"
   ]
  },
  {
   "cell_type": "code",
   "execution_count": 43,
   "metadata": {},
   "outputs": [
    {
     "name": "stdout",
     "output_type": "stream",
     "text": [
      "I am a dog and I bark.\n"
     ]
    }
   ],
   "source": [
    "snoopy.setSpecies(\"dog\")\n",
    "snoopy.setLanguage(\"bark\")\n",
    "snoopy.speak()"
   ]
  },
  {
   "cell_type": "code",
   "execution_count": 62,
   "metadata": {},
   "outputs": [],
   "source": [
    "# Optimize class Animal\n",
    "class Animal:\n",
    "    '表示一个动物'\n",
    "\n",
    "    def setSpecies(self, species):\n",
    "        '设置动物的种类'\n",
    "        self.spec = species\n",
    "\n",
    "    def setLanguage(self, language):\n",
    "        '设置动物的语言'\n",
    "        self.lang = language\n",
    "\n",
    "    def speak(self):\n",
    "        '输出动物发出的声音'\n",
    "        print(\"I am a {} and I {}.\".format(self.spec, self.lang))"
   ]
  },
  {
   "cell_type": "code",
   "execution_count": 45,
   "metadata": {},
   "outputs": [],
   "source": [
    "puff = Animal()"
   ]
  },
  {
   "cell_type": "code",
   "execution_count": 46,
   "metadata": {},
   "outputs": [
    {
     "name": "stdout",
     "output_type": "stream",
     "text": [
      "I am a cat and I miao.\n"
     ]
    }
   ],
   "source": [
    "puff.setSpecies(\"cat\")\n",
    "puff.setLanguage(\"miao\")\n",
    "puff.speak()"
   ]
  },
  {
   "cell_type": "code",
   "execution_count": 60,
   "metadata": {},
   "outputs": [],
   "source": [
    "# Optimize class Animal\n",
    "class Animal:\n",
    "    '表示一个动物'\n",
    "\n",
    "    def __init__(self, species=\"animal\", language=\"sounds\"):\n",
    "        self.spec = species\n",
    "        self.lang = language\n",
    "\n",
    "    def speak(self):\n",
    "        '输出动物发出的声音'\n",
    "        print(\"I am a {} and I {}.\".format(self.spec, self.lang))"
   ]
  },
  {
   "cell_type": "code",
   "execution_count": 61,
   "metadata": {},
   "outputs": [
    {
     "name": "stdout",
     "output_type": "stream",
     "text": [
      "I am a dog and I bark.\n"
     ]
    }
   ],
   "source": [
    "snoopy = Animal(\"dog\", \"bark\")\n",
    "snoopy.speak()"
   ]
  },
  {
   "cell_type": "code",
   "execution_count": 62,
   "metadata": {},
   "outputs": [
    {
     "name": "stdout",
     "output_type": "stream",
     "text": [
      "I am a dog and I sounds.\n"
     ]
    }
   ],
   "source": [
    "tweety = Animal(\"dog\")\n",
    "tweety.speak()"
   ]
  },
  {
   "cell_type": "code",
   "execution_count": 61,
   "metadata": {},
   "outputs": [],
   "source": [
    "# ex 8.3\n",
    "class Rectangle:\n",
    "    def __init__(self, width, length):\n",
    "        self.wid = width\n",
    "        self.len = length\n",
    "\n",
    "    def perimeter(self):\n",
    "        return 2 * (self.wid + self.len)\n",
    "\n",
    "    def area(self):\n",
    "        return self.wid * self.len"
   ]
  },
  {
   "cell_type": "code",
   "execution_count": 55,
   "metadata": {},
   "outputs": [],
   "source": [
    "a = Rectangle(3, 4)"
   ]
  },
  {
   "cell_type": "code",
   "execution_count": 56,
   "metadata": {},
   "outputs": [
    {
     "data": {
      "text/plain": [
       "14"
      ]
     },
     "execution_count": 56,
     "metadata": {},
     "output_type": "execute_result"
    }
   ],
   "source": [
    "a.perimeter()"
   ]
  },
  {
   "cell_type": "code",
   "execution_count": 57,
   "metadata": {},
   "outputs": [
    {
     "data": {
      "text/plain": [
       "12"
      ]
     },
     "execution_count": 57,
     "metadata": {},
     "output_type": "execute_result"
    }
   ],
   "source": [
    "a.area()"
   ]
  },
  {
   "cell_type": "code",
   "execution_count": 76,
   "metadata": {},
   "outputs": [],
   "source": [
    "# from random import shuffle\n",
    "# class Deck:\n",
    "\n",
    "#     ranks = {\"2\",\"3\",\"4\",\"5\",\"6\",\"7\",\"8\",\"9\",\"10\",\"J\",\"Q\",\"K\",\"A\"}\n",
    "#     suits = {\"\\u2660\", \"\\u2661\", \"\\u2662\", \"\\u2663\"}\n",
    "\n",
    "#     def __init__(self):\n",
    "#         self.deck = []\n",
    "\n",
    "#         for suit in Deck.suits:\n",
    "#             for rank in Deck.ranks:\n",
    "#                 self.deck.append(Card(rank, suit))\n",
    "\n",
    "#     def  dealCard(self):\n",
    "#         return self.deck.pop()\n",
    "\n",
    "#     def shuffle(self):\n",
    "#         shuffle(self.deck)"
   ]
  },
  {
   "cell_type": "code",
   "execution_count": 1,
   "metadata": {},
   "outputs": [],
   "source": [
    "class Queue:\n",
    "    \n",
    "    def __init__(self):\n",
    "        '实例化一个空列表'\n",
    "        self.q = []\n",
    "\n",
    "    def isEmpty(self):\n",
    "        '如果队列为空，则返回True，否则返回False'\n",
    "        return (len(self.q) == 0)\n",
    "\n",
    "    def enqueue(self, item):\n",
    "        '插入一个项到对列的尾部'\n",
    "        return self.q.append(item)\n",
    "\n",
    "    def dequeue(self):\n",
    "        '从队列头部移除一个项并返回该项'\n",
    "        return self.q.pop(0)"
   ]
  },
  {
   "cell_type": "code",
   "execution_count": 50,
   "metadata": {},
   "outputs": [],
   "source": [
    "fruit = Queue()"
   ]
  },
  {
   "cell_type": "code",
   "execution_count": 51,
   "metadata": {},
   "outputs": [],
   "source": [
    "fruit.enqueue(\"apple\")\n",
    "fruit.enqueue(\"banana\")\n",
    "fruit.enqueue(\"peach\")"
   ]
  },
  {
   "cell_type": "code",
   "execution_count": 52,
   "metadata": {},
   "outputs": [
    {
     "data": {
      "text/plain": [
       "['apple', 'banana', 'peach']"
      ]
     },
     "execution_count": 52,
     "metadata": {},
     "output_type": "execute_result"
    }
   ],
   "source": [
    "fruit.q"
   ]
  },
  {
   "cell_type": "code",
   "execution_count": 53,
   "metadata": {},
   "outputs": [
    {
     "data": {
      "text/plain": [
       "'apple'"
      ]
     },
     "execution_count": 53,
     "metadata": {},
     "output_type": "execute_result"
    }
   ],
   "source": [
    "fruit.dequeue()"
   ]
  },
  {
   "cell_type": "code",
   "execution_count": 54,
   "metadata": {},
   "outputs": [
    {
     "data": {
      "text/plain": [
       "Queue(['banana', 'peach'])"
      ]
     },
     "execution_count": 54,
     "metadata": {},
     "output_type": "execute_result"
    }
   ],
   "source": [
    "fruit"
   ]
  },
  {
   "cell_type": "code",
   "execution_count": 55,
   "metadata": {},
   "outputs": [
    {
     "ename": "TypeError",
     "evalue": "__init__() takes 1 positional argument but 2 were given",
     "output_type": "error",
     "traceback": [
      "\u001b[1;31m---------------------------------------------------------------------------\u001b[0m",
      "\u001b[1;31mTypeError\u001b[0m                                 Traceback (most recent call last)",
      "\u001b[1;32m<ipython-input-55-3d7d5a1d2afd>\u001b[0m in \u001b[0;36m<module>\u001b[1;34m\u001b[0m\n\u001b[1;32m----> 1\u001b[1;33m \u001b[0mQueue\u001b[0m\u001b[1;33m(\u001b[0m\u001b[1;33m[\u001b[0m\u001b[1;34m'banana'\u001b[0m\u001b[1;33m,\u001b[0m \u001b[1;34m'peach'\u001b[0m\u001b[1;33m]\u001b[0m\u001b[1;33m)\u001b[0m\u001b[1;33m\u001b[0m\u001b[1;33m\u001b[0m\u001b[0m\n\u001b[0m",
      "\u001b[1;31mTypeError\u001b[0m: __init__() takes 1 positional argument but 2 were given"
     ]
    }
   ],
   "source": [
    "Queue(['banana', 'peach'])"
   ]
  },
  {
   "cell_type": "code",
   "execution_count": 6,
   "metadata": {},
   "outputs": [
    {
     "data": {
      "text/plain": [
       "['banana', 'peach']"
      ]
     },
     "execution_count": 6,
     "metadata": {},
     "output_type": "execute_result"
    }
   ],
   "source": [
    "fruit.q"
   ]
  },
  {
   "cell_type": "code",
   "execution_count": 7,
   "metadata": {},
   "outputs": [
    {
     "data": {
      "text/plain": [
       "False"
      ]
     },
     "execution_count": 7,
     "metadata": {},
     "output_type": "execute_result"
    }
   ],
   "source": [
    "fruit.isEmpty()"
   ]
  },
  {
   "cell_type": "code",
   "execution_count": 8,
   "metadata": {},
   "outputs": [
    {
     "data": {
      "text/plain": [
       "'banana'"
      ]
     },
     "execution_count": 8,
     "metadata": {},
     "output_type": "execute_result"
    }
   ],
   "source": [
    "fruit.dequeue()"
   ]
  },
  {
   "cell_type": "code",
   "execution_count": 9,
   "metadata": {},
   "outputs": [
    {
     "data": {
      "text/plain": [
       "'peach'"
      ]
     },
     "execution_count": 9,
     "metadata": {},
     "output_type": "execute_result"
    }
   ],
   "source": [
    "fruit.dequeue()"
   ]
  },
  {
   "cell_type": "code",
   "execution_count": 12,
   "metadata": {},
   "outputs": [
    {
     "data": {
      "text/plain": [
       "True"
      ]
     },
     "execution_count": 12,
     "metadata": {},
     "output_type": "execute_result"
    }
   ],
   "source": [
    "fruit.isEmpty()"
   ]
  },
  {
   "cell_type": "code",
   "execution_count": 13,
   "metadata": {},
   "outputs": [
    {
     "data": {
      "text/plain": [
       "7"
      ]
     },
     "execution_count": 13,
     "metadata": {},
     "output_type": "execute_result"
    }
   ],
   "source": [
    "int(2).__add__(5)"
   ]
  },
  {
   "cell_type": "code",
   "execution_count": 14,
   "metadata": {},
   "outputs": [
    {
     "data": {
      "text/plain": [
       "[4, 5, 6, 7]"
      ]
     },
     "execution_count": 14,
     "metadata": {},
     "output_type": "execute_result"
    }
   ],
   "source": [
    "[4, 5, 6].__add__([7])"
   ]
  },
  {
   "cell_type": "code",
   "execution_count": 15,
   "metadata": {},
   "outputs": [
    {
     "data": {
      "text/plain": [
       "['__abs__',\n",
       " '__add__',\n",
       " '__and__',\n",
       " '__bool__',\n",
       " '__ceil__',\n",
       " '__class__',\n",
       " '__delattr__',\n",
       " '__dir__',\n",
       " '__divmod__',\n",
       " '__doc__',\n",
       " '__eq__',\n",
       " '__float__',\n",
       " '__floor__',\n",
       " '__floordiv__',\n",
       " '__format__',\n",
       " '__ge__',\n",
       " '__getattribute__',\n",
       " '__getnewargs__',\n",
       " '__gt__',\n",
       " '__hash__',\n",
       " '__index__',\n",
       " '__init__',\n",
       " '__init_subclass__',\n",
       " '__int__',\n",
       " '__invert__',\n",
       " '__le__',\n",
       " '__lshift__',\n",
       " '__lt__',\n",
       " '__mod__',\n",
       " '__mul__',\n",
       " '__ne__',\n",
       " '__neg__',\n",
       " '__new__',\n",
       " '__or__',\n",
       " '__pos__',\n",
       " '__pow__',\n",
       " '__radd__',\n",
       " '__rand__',\n",
       " '__rdivmod__',\n",
       " '__reduce__',\n",
       " '__reduce_ex__',\n",
       " '__repr__',\n",
       " '__rfloordiv__',\n",
       " '__rlshift__',\n",
       " '__rmod__',\n",
       " '__rmul__',\n",
       " '__ror__',\n",
       " '__round__',\n",
       " '__rpow__',\n",
       " '__rrshift__',\n",
       " '__rshift__',\n",
       " '__rsub__',\n",
       " '__rtruediv__',\n",
       " '__rxor__',\n",
       " '__setattr__',\n",
       " '__sizeof__',\n",
       " '__str__',\n",
       " '__sub__',\n",
       " '__subclasshook__',\n",
       " '__truediv__',\n",
       " '__trunc__',\n",
       " '__xor__',\n",
       " 'bit_length',\n",
       " 'conjugate',\n",
       " 'denominator',\n",
       " 'from_bytes',\n",
       " 'imag',\n",
       " 'numerator',\n",
       " 'real',\n",
       " 'to_bytes']"
      ]
     },
     "execution_count": 15,
     "metadata": {},
     "output_type": "execute_result"
    }
   ],
   "source": [
    "dir(int)"
   ]
  },
  {
   "cell_type": "code",
   "execution_count": 37,
   "metadata": {},
   "outputs": [],
   "source": [
    "class Point:\n",
    "    ' 表示二维平面上的点 '\n",
    "\n",
    "    def __init__(self, xcoord, ycoord):\n",
    "        self.x = xcoord\n",
    "        self.y = ycoord\n",
    "\n",
    "    def __repr__(self):\n",
    "        '返回规范化字符串表示形式'\n",
    "        return \"Point({}, {})\".format(self.x, self.y)\n",
    "\n",
    "    def __str__(self):\n",
    "        '返回美化的字符串表示形式'\n",
    "        return \"class Point, location({}, {})\".format(self.x, self.y)\n",
    "\n",
    "    def __eq__(self, other):\n",
    "        '如果坐标相同，self==other返回True'\n",
    "        return (self.x == other.x) and (self.y == other.y)\n",
    "\n",
    "\n",
    "    def setx(self, xcoord):\n",
    "        '把点的x坐标设置为xcoord'\n",
    "        self.x = xcoord\n",
    "\n",
    "    def sety(self, ycoord):\n",
    "        '把点的y坐标设置为ycoord'\n",
    "        self.y = ycoord\n",
    "\n",
    "    def get(self):\n",
    "        '返回点的x坐标和y坐标，结果为元组'\n",
    "        return (self.x, self.y)\n",
    "\n",
    "    def move(self, dx, dy):\n",
    "        ' 对x坐标移动dx，y坐标移动y '\n",
    "        self.x += dx\n",
    "        self.y += dy"
   ]
  },
  {
   "cell_type": "code",
   "execution_count": 38,
   "metadata": {},
   "outputs": [],
   "source": [
    "point = Point(3, 5)"
   ]
  },
  {
   "cell_type": "code",
   "execution_count": 39,
   "metadata": {},
   "outputs": [
    {
     "data": {
      "text/plain": [
       "Point(3, 5)"
      ]
     },
     "execution_count": 39,
     "metadata": {},
     "output_type": "execute_result"
    }
   ],
   "source": [
    "point"
   ]
  },
  {
   "cell_type": "code",
   "execution_count": 40,
   "metadata": {},
   "outputs": [
    {
     "name": "stdout",
     "output_type": "stream",
     "text": [
      "class Point, location(3, 5)\n"
     ]
    }
   ],
   "source": [
    "print(point)"
   ]
  },
  {
   "cell_type": "code",
   "execution_count": 41,
   "metadata": {},
   "outputs": [
    {
     "data": {
      "text/plain": [
       "Point(3, 5)"
      ]
     },
     "execution_count": 41,
     "metadata": {},
     "output_type": "execute_result"
    }
   ],
   "source": [
    "eval(repr(point))"
   ]
  },
  {
   "cell_type": "code",
   "execution_count": 44,
   "metadata": {},
   "outputs": [
    {
     "data": {
      "text/plain": [
       "'class Point, location(3, 5)'"
      ]
     },
     "execution_count": 44,
     "metadata": {},
     "output_type": "execute_result"
    }
   ],
   "source": [
    "str(point)"
   ]
  },
  {
   "cell_type": "code",
   "execution_count": 45,
   "metadata": {},
   "outputs": [
    {
     "data": {
      "text/plain": [
       "True"
      ]
     },
     "execution_count": 45,
     "metadata": {},
     "output_type": "execute_result"
    }
   ],
   "source": [
    "Point(3, 5) == Point(3, 5)"
   ]
  },
  {
   "cell_type": "code",
   "execution_count": 46,
   "metadata": {},
   "outputs": [
    {
     "data": {
      "text/plain": [
       "True"
      ]
     },
     "execution_count": 46,
     "metadata": {},
     "output_type": "execute_result"
    }
   ],
   "source": [
    "Point(3, 5) == eval(repr(Point(3, 5)))"
   ]
  },
  {
   "cell_type": "code",
   "execution_count": 48,
   "metadata": {},
   "outputs": [
    {
     "data": {
      "text/plain": [
       "9"
      ]
     },
     "execution_count": 48,
     "metadata": {},
     "output_type": "execute_result"
    }
   ],
   "source": [
    "eval(\"6 + 3\")"
   ]
  },
  {
   "cell_type": "code",
   "execution_count": 56,
   "metadata": {},
   "outputs": [],
   "source": [
    "class Queue:\n",
    "    \n",
    "    def __init__(self, q=None):\n",
    "        '根据列表q初始化队列，默认为空队列'\n",
    "        if q == None:\n",
    "            self.q = []\n",
    "        else:\n",
    "            self.q = q\n",
    "\n",
    "    def __eq__(self, other):\n",
    "        '如果队列self和other包含相同项且顺序相同，则返回True'\n",
    "        return self.q == other.q\n",
    "\n",
    "    def __len__(self):\n",
    "        '返回队列中项的个数'\n",
    "        return len(self.q)\n",
    "\n",
    "    def __repr__(self):\n",
    "        '返回规范化字符串表示形式'\n",
    "        return \"Queue({})\".format(self.q)\n",
    "\n",
    "    def isEmpty(self):\n",
    "        '如果队列为空，则返回True，否则返回False'\n",
    "        return (len(self.q) == 0)\n",
    "\n",
    "    def enqueue(self, item):\n",
    "        '插入一个项到对列的尾部'\n",
    "        return self.q.append(item)\n",
    "\n",
    "    def dequeue(self):\n",
    "        '从队列头部移除一个项并返回该项'\n",
    "        return self.q.pop(0)"
   ]
  },
  {
   "cell_type": "code",
   "execution_count": 57,
   "metadata": {},
   "outputs": [],
   "source": [
    "fruit = Queue([\"apple\", \"banana\", \"peach\"])"
   ]
  },
  {
   "cell_type": "code",
   "execution_count": 58,
   "metadata": {},
   "outputs": [
    {
     "data": {
      "text/plain": [
       "Queue(['apple', 'banana', 'peach'])"
      ]
     },
     "execution_count": 58,
     "metadata": {},
     "output_type": "execute_result"
    }
   ],
   "source": [
    "fruit"
   ]
  },
  {
   "cell_type": "code",
   "execution_count": 108,
   "metadata": {},
   "outputs": [],
   "source": [
    "# ex 8.7\n",
    "class Card:\n",
    "    '表示一张扑克牌'\n",
    "\n",
    "    def __init__(self, rank, suit):\n",
    "        '初始化扑克牌的点数和花色'\n",
    "        self.rank = rank\n",
    "        self.suit = suit\n",
    "\n",
    "    def __repr__(self):\n",
    "        '返回规范化字符串表示形式'\n",
    "        return \"Card(\\\"{}\\\", \\\"{}\\\")\".format(self.rank, self.suit)\n",
    "\n",
    "    def __eq__(self, other):\n",
    "        '当两张牌的点数和花色相同时，返回True'\n",
    "        return (self.rank == other.rank) and (self.suit == other.suit)\n",
    "\n",
    "    def getRank(self):\n",
    "        '返回点数'\n",
    "        return self.rank\n",
    "\n",
    "    def getSuit(self):\n",
    "        '返回花色'\n",
    "        return self.suit"
   ]
  },
  {
   "cell_type": "code",
   "execution_count": 121,
   "metadata": {},
   "outputs": [],
   "source": [
    "class Deck:\n",
    "    '表示52张扑克牌的一副牌'\n",
    "    from random import shuffle\n",
    "\n",
    "    # ranks和suits是Deck的类变量，用集合表示\n",
    "    ranks = {\"2\",\"3\",\"4\",\"5\",\"6\",\"7\",\"8\",\"9\",\"10\",\"J\",\"Q\",\"K\",\"A\"}\n",
    "    # suits是包含四个Unicode符号的集，表示四种花色\n",
    "    suits = {\"\\u2660\", \"\\u2661\", \"\\u2662\", \"\\u2663\"}\n",
    "\n",
    "\n",
    "    def __init__(self, ranks=None, suits=None):\n",
    "        '初始化52张扑克牌的一副牌'\n",
    "        if ranks == None:\n",
    "            self.rank = Deck.ranks\n",
    "        else:\n",
    "            self.rank = ranks\n",
    "\n",
    "        if suits == None:\n",
    "            self.suit = Deck.suits\n",
    "        else:\n",
    "            self.suit = suits\n",
    "\n",
    "        self.deck = []\n",
    "\n",
    "        for suit in self.suit:\n",
    "            for rank in self.rank:\n",
    "                # 把指定rank和suit的Card添加到deck\n",
    "                self.deck.append(Card(rank, suit))\n",
    "\n",
    "\n",
    "    def __len__(self):\n",
    "        '返回一副牌的张数'\n",
    "        return len(self.deck)\n",
    "\n",
    "\n",
    "    def __repr__(self):\n",
    "        '返回规范化字符串表示形式'\n",
    "        if (self.rank == Deck.ranks) and (self.suit == Deck.suits):\n",
    "            # 使用类变量的时候使用默认的构造方法\n",
    "            return \"Deck()\"\n",
    "        elif (self.rank == Deck.ranks) and (self.suit != Deck.suits):\n",
    "            # suits使用类变量的时候显式传入第二个参数\n",
    "            return \"Deck(suits = {})\".format(self.suit)\n",
    "        elif (self.rank != Deck.ranks) and (self.suit == Deck.suits):\n",
    "            # ranks使用类变量的时候显式传入第一个参数\n",
    "            return \"Deck(ranks = {})\".format(self.rank)\n",
    "        else:\n",
    "            # ranks和suits都使用类变量的时候显式传入两个参数\n",
    "            return \"Deck(ranks = {}, suits = {})\".format(self.rank, self.suit)\n",
    "\n",
    "\n",
    "    def __eq__(self, other):\n",
    "        '如果队列self和other包含相同的项并且顺序相同，则返回True'\n",
    "        return self.deck == other.deck\n",
    "\n",
    "\n",
    "    def dealCard(self):\n",
    "        '从一副牌的顶部发牌(弹出和返回)'\n",
    "        return self.deck.pop()\n",
    "\n",
    "\n",
    "    def shuffle(self):\n",
    "        '洗牌'\n",
    "        shuffle(self.deck)"
   ]
  },
  {
   "cell_type": "code",
   "execution_count": 122,
   "metadata": {},
   "outputs": [
    {
     "data": {
      "text/plain": [
       "'Deck()'"
      ]
     },
     "execution_count": 122,
     "metadata": {},
     "output_type": "execute_result"
    }
   ],
   "source": [
    "# For many object types, including most builtins, eval(repr(obj)) == obj.\n",
    "repr(Deck())"
   ]
  },
  {
   "cell_type": "code",
   "execution_count": 129,
   "metadata": {},
   "outputs": [
    {
     "data": {
      "text/plain": [
       "Deck()"
      ]
     },
     "execution_count": 129,
     "metadata": {},
     "output_type": "execute_result"
    }
   ],
   "source": [
    "deck = Deck()\n",
    "deck"
   ]
  },
  {
   "cell_type": "code",
   "execution_count": 130,
   "metadata": {},
   "outputs": [
    {
     "data": {
      "text/plain": [
       "Deck(ranks = {'3', '5', '4'}, suits = {'♠', '♡'})"
      ]
     },
     "execution_count": 130,
     "metadata": {},
     "output_type": "execute_result"
    }
   ],
   "source": [
    "deck = Deck(ranks={\"3\",\"4\",\"5\"}, suits={\"\\u2660\",\"\\u2661\"})\n",
    "deck"
   ]
  },
  {
   "cell_type": "code",
   "execution_count": 127,
   "metadata": {},
   "outputs": [
    {
     "data": {
      "text/plain": [
       "Deck(ranks = {'3', '5', '4'})"
      ]
     },
     "execution_count": 127,
     "metadata": {},
     "output_type": "execute_result"
    }
   ],
   "source": [
    "deck = Deck(ranks={\"3\",\"4\",\"5\"})\n",
    "deck"
   ]
  },
  {
   "cell_type": "code",
   "execution_count": 128,
   "metadata": {},
   "outputs": [
    {
     "data": {
      "text/plain": [
       "Deck(suits = {'♠', '♡'})"
      ]
     },
     "execution_count": 128,
     "metadata": {},
     "output_type": "execute_result"
    }
   ],
   "source": [
    "deck = Deck(suits={\"\\u2660\",\"\\u2661\"})\n",
    "deck"
   ]
  },
  {
   "cell_type": "code",
   "execution_count": 131,
   "metadata": {},
   "outputs": [
    {
     "data": {
      "text/plain": [
       "[Card(\"3\", \"♠\"),\n",
       " Card(\"5\", \"♠\"),\n",
       " Card(\"4\", \"♠\"),\n",
       " Card(\"3\", \"♡\"),\n",
       " Card(\"5\", \"♡\"),\n",
       " Card(\"4\", \"♡\")]"
      ]
     },
     "execution_count": 131,
     "metadata": {},
     "output_type": "execute_result"
    }
   ],
   "source": [
    "deck.deck"
   ]
  },
  {
   "cell_type": "code",
   "execution_count": 132,
   "metadata": {},
   "outputs": [
    {
     "data": {
      "text/plain": [
       "Card(\"4\", \"♡\")"
      ]
     },
     "execution_count": 132,
     "metadata": {},
     "output_type": "execute_result"
    }
   ],
   "source": [
    "deck.dealCard()"
   ]
  },
  {
   "cell_type": "code",
   "execution_count": 135,
   "metadata": {},
   "outputs": [
    {
     "data": {
      "text/plain": [
       "[Card(\"3\", \"♠\"),\n",
       " Card(\"5\", \"♠\"),\n",
       " Card(\"4\", \"♠\"),\n",
       " Card(\"3\", \"♡\"),\n",
       " Card(\"5\", \"♡\")]"
      ]
     },
     "execution_count": 135,
     "metadata": {},
     "output_type": "execute_result"
    }
   ],
   "source": [
    "deck.deck"
   ]
  },
  {
   "cell_type": "code",
   "execution_count": 136,
   "metadata": {},
   "outputs": [],
   "source": [
    "deck.shuffle()"
   ]
  },
  {
   "cell_type": "code",
   "execution_count": 137,
   "metadata": {},
   "outputs": [
    {
     "data": {
      "text/plain": [
       "[Card(\"5\", \"♠\"),\n",
       " Card(\"5\", \"♡\"),\n",
       " Card(\"3\", \"♠\"),\n",
       " Card(\"3\", \"♡\"),\n",
       " Card(\"4\", \"♠\")]"
      ]
     },
     "execution_count": 137,
     "metadata": {},
     "output_type": "execute_result"
    }
   ],
   "source": [
    "deck.deck"
   ]
  },
  {
   "cell_type": "code",
   "execution_count": 138,
   "metadata": {},
   "outputs": [],
   "source": [
    "import random\n",
    "class MyList(list):\n",
    "\n",
    "    def choice(self):\n",
    "        return random.choice(self)"
   ]
  },
  {
   "cell_type": "code",
   "execution_count": 139,
   "metadata": {},
   "outputs": [],
   "source": [
    "mylst = MyList([2, 5, 3, 5])"
   ]
  },
  {
   "cell_type": "code",
   "execution_count": 140,
   "metadata": {},
   "outputs": [
    {
     "data": {
      "text/plain": [
       "5"
      ]
     },
     "execution_count": 140,
     "metadata": {},
     "output_type": "execute_result"
    }
   ],
   "source": [
    "mylst.choice()"
   ]
  },
  {
   "cell_type": "code",
   "execution_count": 141,
   "metadata": {},
   "outputs": [],
   "source": [
    "mylst.append(5)"
   ]
  },
  {
   "cell_type": "code",
   "execution_count": 142,
   "metadata": {},
   "outputs": [
    {
     "data": {
      "text/plain": [
       "[2, 5, 3, 5, 5]"
      ]
     },
     "execution_count": 142,
     "metadata": {},
     "output_type": "execute_result"
    }
   ],
   "source": [
    "mylst"
   ]
  },
  {
   "cell_type": "code",
   "execution_count": 147,
   "metadata": {},
   "outputs": [],
   "source": [
    "# Optimize class Animal\n",
    "class Animal:\n",
    "    '表示一个动物'\n",
    "\n",
    "    def __init__(self, species=\"animal\", language=\"sounds\"):\n",
    "        self.species = species\n",
    "        self.language = language\n",
    "\n",
    "    def speak(self):\n",
    "        '输出动物发出的声音'\n",
    "        print(\"I am a {} and I {}.\".format(self.species, self.language))"
   ]
  },
  {
   "cell_type": "code",
   "execution_count": 155,
   "metadata": {},
   "outputs": [],
   "source": [
    "class Bird(Animal):\n",
    "\n",
    "    def __repr__(self):\n",
    "        return \"Bird(\\\"{}\\\", \\\"{}\\\")\".format(self.species, self.language)\n",
    "\n",
    "    def speak(self):\n",
    "        print(\"{}! \".format(self.language) * 3)"
   ]
  },
  {
   "cell_type": "code",
   "execution_count": 156,
   "metadata": {},
   "outputs": [],
   "source": [
    "bird = Bird(\"duck\", \"quack\")"
   ]
  },
  {
   "cell_type": "code",
   "execution_count": 157,
   "metadata": {},
   "outputs": [
    {
     "data": {
      "text/plain": [
       "Bird(\"duck\", \"quack\")"
      ]
     },
     "execution_count": 157,
     "metadata": {},
     "output_type": "execute_result"
    }
   ],
   "source": [
    "bird"
   ]
  },
  {
   "cell_type": "code",
   "execution_count": 158,
   "metadata": {},
   "outputs": [
    {
     "name": "stdout",
     "output_type": "stream",
     "text": [
      "quack! quack! quack! \n"
     ]
    }
   ],
   "source": [
    "bird.speak()"
   ]
  },
  {
   "cell_type": "code",
   "execution_count": 159,
   "metadata": {},
   "outputs": [],
   "source": [
    "class Problem:\n",
    "    def value(self, v):\n",
    "        self.value = v"
   ]
  },
  {
   "cell_type": "code",
   "execution_count": 160,
   "metadata": {},
   "outputs": [],
   "source": [
    "p = Problem()"
   ]
  },
  {
   "cell_type": "code",
   "execution_count": 161,
   "metadata": {},
   "outputs": [
    {
     "data": {
      "text/plain": [
       "9"
      ]
     },
     "execution_count": 161,
     "metadata": {},
     "output_type": "execute_result"
    }
   ],
   "source": [
    "p.value(9)\n",
    "p.value"
   ]
  },
  {
   "cell_type": "code",
   "execution_count": 162,
   "metadata": {},
   "outputs": [
    {
     "ename": "TypeError",
     "evalue": "'int' object is not callable",
     "output_type": "error",
     "traceback": [
      "\u001b[1;31m---------------------------------------------------------------------------\u001b[0m",
      "\u001b[1;31mTypeError\u001b[0m                                 Traceback (most recent call last)",
      "\u001b[1;32m<ipython-input-162-899fee64ab5b>\u001b[0m in \u001b[0;36m<module>\u001b[1;34m\u001b[0m\n\u001b[1;32m----> 1\u001b[1;33m \u001b[0mp\u001b[0m\u001b[1;33m.\u001b[0m\u001b[0mvalue\u001b[0m\u001b[1;33m(\u001b[0m\u001b[1;36m3\u001b[0m\u001b[1;33m)\u001b[0m\u001b[1;33m\u001b[0m\u001b[1;33m\u001b[0m\u001b[0m\n\u001b[0m",
      "\u001b[1;31mTypeError\u001b[0m: 'int' object is not callable"
     ]
    }
   ],
   "source": [
    "p.value(3)"
   ]
  },
  {
   "cell_type": "code",
   "execution_count": 171,
   "metadata": {},
   "outputs": [],
   "source": [
    "class Super:\n",
    "    '父类'\n",
    "    def method(self):\n",
    "        print(\"in Super.method\")\n",
    "\n",
    "class Inheritor(Super):\n",
    "    '继承方法的子类'\n",
    "    pass\n",
    "\n",
    "class Replacer(Super):\n",
    "    '重写方法的子类'\n",
    "    def method(self):\n",
    "        print(\"in Replacer.method\")\n",
    "\n",
    "class Extender(Super):\n",
    "    '扩展方法的子类'\n",
    "    def method(self):\n",
    "        print(\"starting Extender.method\")\n",
    "        Super.method(self) # 调用父类方法\n",
    "        print(\"ending Extender.method\")"
   ]
  },
  {
   "cell_type": "code",
   "execution_count": 172,
   "metadata": {},
   "outputs": [
    {
     "name": "stdout",
     "output_type": "stream",
     "text": [
      "in Super.method\n",
      "----------------------------\n",
      "in Super.method\n",
      "----------------------------\n",
      "in Replacer.method\n",
      "----------------------------\n",
      "starting Extender.method\n",
      "in Super.method\n",
      "ending Extender.method\n"
     ]
    }
   ],
   "source": [
    "Super().method()\n",
    "print(\"----------------------------\")\n",
    "Inheritor().method()\n",
    "print(\"----------------------------\")\n",
    "Replacer().method()\n",
    "print(\"----------------------------\")\n",
    "Extender().method()"
   ]
  },
  {
   "cell_type": "code",
   "execution_count": 173,
   "metadata": {},
   "outputs": [],
   "source": [
    "class Point:\n",
    "    ' 表示二维平面上的点 '\n",
    "\n",
    "    def __init__(self, xcoord, ycoord):\n",
    "        self.x = xcoord\n",
    "        self.y = ycoord\n",
    "\n",
    "    def __repr__(self):\n",
    "        '返回规范化字符串表示形式'\n",
    "        return \"Point({}, {})\".format(self.x, self.y)\n",
    "\n",
    "    def __str__(self):\n",
    "        '返回美化的字符串表示形式'\n",
    "        return \"class Point, location({}, {})\".format(self.x, self.y)\n",
    "\n",
    "    def __eq__(self, other):\n",
    "        '如果坐标相同，self==other返回True'\n",
    "        return (self.x == other.x) and (self.y == other.y)\n",
    "\n",
    "\n",
    "    def setx(self, xcoord):\n",
    "        '把点的x坐标设置为xcoord'\n",
    "        self.x = xcoord\n",
    "\n",
    "    def sety(self, ycoord):\n",
    "        '把点的y坐标设置为ycoord'\n",
    "        self.y = ycoord\n",
    "\n",
    "    def get(self):\n",
    "        '返回点的x坐标和y坐标，结果为元组'\n",
    "        return (self.x, self.y)\n",
    "\n",
    "    def move(self, dx, dy):\n",
    "        ' 对x坐标移动dx，y坐标移动y '\n",
    "        self.x += dx\n",
    "        self.y += dy"
   ]
  },
  {
   "cell_type": "code",
   "execution_count": 189,
   "metadata": {},
   "outputs": [],
   "source": [
    "# ex 8.8\n",
    "class Vector(Point):\n",
    "\n",
    "    # 重写__repr__()\n",
    "    def __repr__(self):\n",
    "        '返回规范化字符串表示形式'\n",
    "        # 利用继承过来的类方法get(获取坐标的元组形式)\n",
    "        return \"Vector{}\".format(self.get())\n",
    "        \n",
    "        # 直接自己重新写表示形式，显然前者更方便并且用到了继承\n",
    "        # return \"Vector({}, {})\".format(self.x, self.y)\n",
    "\n",
    "    def __add__(self, other):\n",
    "        \"定义两个向量的加法\"        \n",
    "        return Vector(self.x + other.x, self.y + other.y)\n",
    "\n",
    "    def __mul__(self, other):\n",
    "        '定义两个向量的内积'\n",
    "        return (self.x * other.x) + (self.y * other.y)"
   ]
  },
  {
   "cell_type": "code",
   "execution_count": 190,
   "metadata": {},
   "outputs": [],
   "source": [
    "v1 = Vector(1, 3)\n",
    "v2 = Vector(-2, 4)"
   ]
  },
  {
   "cell_type": "code",
   "execution_count": 191,
   "metadata": {},
   "outputs": [
    {
     "data": {
      "text/plain": [
       "Vector(1, 3)"
      ]
     },
     "execution_count": 191,
     "metadata": {},
     "output_type": "execute_result"
    }
   ],
   "source": [
    "v1"
   ]
  },
  {
   "cell_type": "code",
   "execution_count": 192,
   "metadata": {},
   "outputs": [
    {
     "data": {
      "text/plain": [
       "Vector(-1, 7)"
      ]
     },
     "execution_count": 192,
     "metadata": {},
     "output_type": "execute_result"
    }
   ],
   "source": [
    "v1 + v2"
   ]
  },
  {
   "cell_type": "code",
   "execution_count": 193,
   "metadata": {},
   "outputs": [
    {
     "data": {
      "text/plain": [
       "10"
      ]
     },
     "execution_count": 193,
     "metadata": {},
     "output_type": "execute_result"
    }
   ],
   "source": [
    "v1 * v2"
   ]
  },
  {
   "cell_type": "code",
   "execution_count": 185,
   "metadata": {},
   "outputs": [],
   "source": [
    "class EmptyQueueError(Exception):\n",
    "    pass"
   ]
  },
  {
   "cell_type": "code",
   "execution_count": 194,
   "metadata": {},
   "outputs": [],
   "source": [
    "# ex 8.9\n",
    "class Queue:\n",
    "    \n",
    "    def __init__(self, q=None):\n",
    "        '根据列表q初始化队列，默认为空队列'\n",
    "        if q == None:\n",
    "            self.q = []\n",
    "        else:\n",
    "            self.q = q\n",
    "\n",
    "    def __eq__(self, other):\n",
    "        '如果队列self和other包含相同项且顺序相同，则返回True'\n",
    "        return self.q == other.q\n",
    "\n",
    "    def __len__(self):\n",
    "        '返回队列中项的个数'\n",
    "        return len(self.q)\n",
    "\n",
    "    def __repr__(self):\n",
    "        '返回规范化字符串表示形式'\n",
    "        return \"Queue({})\".format(self.q)\n",
    "\n",
    "    def isEmpty(self):\n",
    "        '如果队列为空，则返回True，否则返回False'\n",
    "        return (len(self.q) == 0)\n",
    "\n",
    "    def enqueue(self, item):\n",
    "        '插入一个项到对列的尾部'\n",
    "        return self.q.append(item)\n",
    "\n",
    "    def dequeue(self):\n",
    "        '从队列头部移除一个项并返回该项'\n",
    "        # if len(self.q) == 0: # 自己重新判断是否为0\n",
    "        if self.isEmpty(): # 利用isEmpty方法判断\n",
    "            raise EmptyQueueError(\"dequeue from empty queue\")\n",
    "        return self.q.pop(0)"
   ]
  },
  {
   "cell_type": "code",
   "execution_count": 195,
   "metadata": {},
   "outputs": [],
   "source": [
    "queue = Queue()"
   ]
  },
  {
   "cell_type": "code",
   "execution_count": 196,
   "metadata": {},
   "outputs": [
    {
     "ename": "EmptyQueueError",
     "evalue": "dequeue from empty queue",
     "output_type": "error",
     "traceback": [
      "\u001b[1;31m---------------------------------------------------------------------------\u001b[0m",
      "\u001b[1;31mEmptyQueueError\u001b[0m                           Traceback (most recent call last)",
      "\u001b[1;32m<ipython-input-196-dd68528e63c7>\u001b[0m in \u001b[0;36m<module>\u001b[1;34m\u001b[0m\n\u001b[1;32m----> 1\u001b[1;33m \u001b[0mqueue\u001b[0m\u001b[1;33m.\u001b[0m\u001b[0mdequeue\u001b[0m\u001b[1;33m(\u001b[0m\u001b[1;33m)\u001b[0m\u001b[1;33m\u001b[0m\u001b[1;33m\u001b[0m\u001b[0m\n\u001b[0m",
      "\u001b[1;32m<ipython-input-194-32a472e51e2f>\u001b[0m in \u001b[0;36mdequeue\u001b[1;34m(self)\u001b[0m\n\u001b[0;32m     33\u001b[0m         \u001b[1;31m# if len(self.q) == 0:\u001b[0m\u001b[1;33m\u001b[0m\u001b[1;33m\u001b[0m\u001b[1;33m\u001b[0m\u001b[0m\n\u001b[0;32m     34\u001b[0m         \u001b[1;32mif\u001b[0m \u001b[0mself\u001b[0m\u001b[1;33m.\u001b[0m\u001b[0misEmpty\u001b[0m\u001b[1;33m(\u001b[0m\u001b[1;33m)\u001b[0m\u001b[1;33m:\u001b[0m\u001b[1;33m\u001b[0m\u001b[1;33m\u001b[0m\u001b[0m\n\u001b[1;32m---> 35\u001b[1;33m             \u001b[1;32mraise\u001b[0m \u001b[0mEmptyQueueError\u001b[0m\u001b[1;33m(\u001b[0m\u001b[1;34m\"dequeue from empty queue\"\u001b[0m\u001b[1;33m)\u001b[0m\u001b[1;33m\u001b[0m\u001b[1;33m\u001b[0m\u001b[0m\n\u001b[0m\u001b[0;32m     36\u001b[0m         \u001b[1;32melse\u001b[0m\u001b[1;33m:\u001b[0m\u001b[1;33m\u001b[0m\u001b[1;33m\u001b[0m\u001b[0m\n\u001b[0;32m     37\u001b[0m             \u001b[1;32mreturn\u001b[0m \u001b[0mself\u001b[0m\u001b[1;33m.\u001b[0m\u001b[0mq\u001b[0m\u001b[1;33m.\u001b[0m\u001b[0mpop\u001b[0m\u001b[1;33m(\u001b[0m\u001b[1;36m0\u001b[0m\u001b[1;33m)\u001b[0m\u001b[1;33m\u001b[0m\u001b[1;33m\u001b[0m\u001b[0m\n",
      "\u001b[1;31mEmptyQueueError\u001b[0m: dequeue from empty queue"
     ]
    }
   ],
   "source": [
    "queue.dequeue()"
   ]
  },
  {
   "cell_type": "code",
   "execution_count": 201,
   "metadata": {},
   "outputs": [],
   "source": [
    "# ex 8.10, 8.12\n",
    "class Point:\n",
    "    ' 表示二维平面上的点 '\n",
    "\n",
    "    def __init__(self, xcoord, ycoord):\n",
    "        self.x = xcoord\n",
    "        self.y = ycoord\n",
    "\n",
    "\n",
    "    def __repr__(self):\n",
    "        '返回规范化字符串表示形式'\n",
    "        return \"Point({}, {})\".format(self.x, self.y)\n",
    "\n",
    "\n",
    "    def __str__(self):\n",
    "        '返回美化的字符串表示形式'\n",
    "        return \"class Point, location({}, {})\".format(self.x, self.y)\n",
    "\n",
    "\n",
    "    def __eq__(self, other):\n",
    "        '如果坐标相同，self==other返回True'\n",
    "        return (self.x == other.x) and (self.y == other.y)\n",
    "\n",
    "\n",
    "    def setx(self, xcoord):\n",
    "        '把点的x坐标设置为xcoord'\n",
    "        self.x = xcoord\n",
    "\n",
    "\n",
    "    def sety(self, ycoord):\n",
    "        '把点的y坐标设置为ycoord'\n",
    "        self.y = ycoord\n",
    "\n",
    "\n",
    "    def get(self):\n",
    "        '返回点的x坐标和y坐标，结果为元组'\n",
    "        return (self.x, self.y)\n",
    "\n",
    "\n",
    "    def move(self, dx, dy):\n",
    "        ' 对x坐标移动dx，y坐标移动y '\n",
    "        self.x += dx\n",
    "        self.y += dy\n",
    "\n",
    "\n",
    "    def distance(self, other):\n",
    "        '返回两个点的欧式距离'\n",
    "        from math import sqrt\n",
    "        return sqrt((self.x - other.x) ** 2 + (self.y - other.y) ** 2)\n",
    "\n",
    "\n",
    "    def up(self):\n",
    "        self.move(0, 1)\n",
    "\n",
    "    def down(self):\n",
    "        self.move(0, -1)\n",
    "\n",
    "    def right(self):\n",
    "        self.move(1, 0)\n",
    "\n",
    "    def left(self):\n",
    "        self.move(-1, 0)"
   ]
  },
  {
   "cell_type": "code",
   "execution_count": 206,
   "metadata": {},
   "outputs": [
    {
     "data": {
      "text/plain": [
       "5.0"
      ]
     },
     "execution_count": 206,
     "metadata": {},
     "output_type": "execute_result"
    }
   ],
   "source": [
    "c = Point(3, 4)\n",
    "d = Point(0, 0)\n",
    "c.distance(d)"
   ]
  },
  {
   "cell_type": "code",
   "execution_count": 207,
   "metadata": {},
   "outputs": [
    {
     "data": {
      "text/plain": [
       "(2, 4)"
      ]
     },
     "execution_count": 207,
     "metadata": {},
     "output_type": "execute_result"
    }
   ],
   "source": [
    "c.left()\n",
    "c.get()"
   ]
  },
  {
   "cell_type": "code",
   "execution_count": null,
   "metadata": {},
   "outputs": [],
   "source": [
    "# ex 8.14\n",
    "# x > y\n",
    "x.__gt__(y)"
   ]
  },
  {
   "cell_type": "code",
   "execution_count": 208,
   "metadata": {},
   "outputs": [],
   "source": [
    "# ex 8.15\n",
    "class Card:\n",
    "    '表示一张扑克牌'\n",
    "\n",
    "    def __init__(self, rank, suit):\n",
    "        '初始化扑克牌的点数和花色'\n",
    "        self.rank = rank\n",
    "        self.suit = suit\n",
    "\n",
    "    def __repr__(self):\n",
    "        '返回规范化字符串表示形式'\n",
    "        return \"Card(\\\"{}\\\", \\\"{}\\\")\".format(self.rank, self.suit)\n",
    "\n",
    "    def __eq__(self, other):\n",
    "        '当两张牌的点数和花色相同时，返回True'\n",
    "        return (self.rank == other.rank) and (self.suit == other.suit)\n",
    "\n",
    "\n",
    "    def __gt__(self, other):\n",
    "        ''\n",
    "        return self.rank > other.rank\n",
    "\n",
    "    \n",
    "    def __ge__(self, other):\n",
    "        ''\n",
    "        return self.rank >= other.rank\n",
    "    \n",
    "    \n",
    "    def __lt__(self, other):\n",
    "        ''\n",
    "        return self.rank < other.rank\n",
    "\n",
    "\n",
    "    def __le__(self, other):\n",
    "        ''\n",
    "        return self.rank <= other.rank\n",
    "\n",
    "\n",
    "    def getRank(self):\n",
    "        '返回点数'\n",
    "        return self.rank\n",
    "\n",
    "    def getSuit(self):\n",
    "        '返回花色'\n",
    "        return self.suit"
   ]
  },
  {
   "cell_type": "code",
   "execution_count": 210,
   "metadata": {},
   "outputs": [
    {
     "data": {
      "text/plain": [
       "True"
      ]
     },
     "execution_count": 210,
     "metadata": {},
     "output_type": "execute_result"
    }
   ],
   "source": [
    "Card(\"3\", \"\\u2660\") <= Card(\"8\", '\\u2663')"
   ]
  },
  {
   "cell_type": "code",
   "execution_count": 218,
   "metadata": {},
   "outputs": [],
   "source": [
    "# ex 8.16\n",
    "class myInt(int):\n",
    "    def __add__(self, other):\n",
    "        return \"Whatever ...\""
   ]
  },
  {
   "cell_type": "code",
   "execution_count": 219,
   "metadata": {},
   "outputs": [],
   "source": [
    "x = myInt(5)"
   ]
  },
  {
   "cell_type": "code",
   "execution_count": 220,
   "metadata": {},
   "outputs": [
    {
     "data": {
      "text/plain": [
       "25"
      ]
     },
     "execution_count": 220,
     "metadata": {},
     "output_type": "execute_result"
    }
   ],
   "source": [
    "x * 5"
   ]
  },
  {
   "cell_type": "code",
   "execution_count": 221,
   "metadata": {},
   "outputs": [
    {
     "data": {
      "text/plain": [
       "50"
      ]
     },
     "execution_count": 221,
     "metadata": {},
     "output_type": "execute_result"
    }
   ],
   "source": [
    "x * (6 + 4)"
   ]
  },
  {
   "cell_type": "code",
   "execution_count": 222,
   "metadata": {},
   "outputs": [
    {
     "data": {
      "text/plain": [
       "'Whatever ...'"
      ]
     },
     "execution_count": 222,
     "metadata": {},
     "output_type": "execute_result"
    }
   ],
   "source": [
    "x + 6"
   ]
  },
  {
   "cell_type": "code",
   "execution_count": 211,
   "metadata": {},
   "outputs": [],
   "source": [
    "# ex 8.17\n",
    "class myStr(str):\n",
    "\n",
    "    def __add__(self, other):\n",
    "        return len(self) + len(other)\n",
    "\n",
    "\n",
    "    def __mul__(self, other):\n",
    "        return len(self) * len(other)"
   ]
  },
  {
   "cell_type": "code",
   "execution_count": 212,
   "metadata": {},
   "outputs": [],
   "source": [
    "x = myStr(\"Hello\")"
   ]
  },
  {
   "cell_type": "code",
   "execution_count": 214,
   "metadata": {},
   "outputs": [
    {
     "data": {
      "text/plain": [
       "13"
      ]
     },
     "execution_count": 214,
     "metadata": {},
     "output_type": "execute_result"
    }
   ],
   "source": [
    "x + \"universe\""
   ]
  },
  {
   "cell_type": "code",
   "execution_count": 215,
   "metadata": {},
   "outputs": [
    {
     "data": {
      "text/plain": [
       "40"
      ]
     },
     "execution_count": 215,
     "metadata": {},
     "output_type": "execute_result"
    }
   ],
   "source": [
    "x * \"universe\""
   ]
  },
  {
   "cell_type": "code",
   "execution_count": 223,
   "metadata": {},
   "outputs": [],
   "source": [
    "# 8.18\n",
    "class myList(list):\n",
    "    def sort(self):\n",
    "        return \"You wish...\""
   ]
  },
  {
   "cell_type": "code",
   "execution_count": 228,
   "metadata": {},
   "outputs": [
    {
     "data": {
      "text/plain": [
       "[1, 2, 3]"
      ]
     },
     "execution_count": 228,
     "metadata": {},
     "output_type": "execute_result"
    }
   ],
   "source": [
    "x = myList([1, 2, 3])\n",
    "x"
   ]
  },
  {
   "cell_type": "code",
   "execution_count": 229,
   "metadata": {},
   "outputs": [
    {
     "data": {
      "text/plain": [
       "[3, 2, 1]"
      ]
     },
     "execution_count": 229,
     "metadata": {},
     "output_type": "execute_result"
    }
   ],
   "source": [
    "x.reverse()\n",
    "x"
   ]
  },
  {
   "cell_type": "code",
   "execution_count": 230,
   "metadata": {},
   "outputs": [
    {
     "data": {
      "text/plain": [
       "1"
      ]
     },
     "execution_count": 230,
     "metadata": {},
     "output_type": "execute_result"
    }
   ],
   "source": [
    "x[2]"
   ]
  },
  {
   "cell_type": "code",
   "execution_count": 231,
   "metadata": {},
   "outputs": [
    {
     "data": {
      "text/plain": [
       "'You wish...'"
      ]
     },
     "execution_count": 231,
     "metadata": {},
     "output_type": "execute_result"
    }
   ],
   "source": [
    "x.sort()"
   ]
  },
  {
   "cell_type": "code",
   "execution_count": 261,
   "metadata": {},
   "outputs": [],
   "source": [
    "class Queue2(list):\n",
    "\n",
    "\n",
    "    def isEmpty(self):\n",
    "        return (len(self) == 0)\n",
    "\n",
    "\n",
    "    def dequeue(self):\n",
    "        return self.pop(0)\n",
    "\n",
    "\n",
    "    def enqueue(self, item):\n",
    "        return self.append(item)\n",
    "\n",
    "\n",
    "    # def __repr__(self):\n",
    "    #     return \"Queue2({})\".format((self))"
   ]
  },
  {
   "cell_type": "code",
   "execution_count": 262,
   "metadata": {},
   "outputs": [],
   "source": [
    "queue2 = Queue2([\"a\", \"b\", \"c\"])\n",
    "# duplicate = eval(repr(queue2))"
   ]
  },
  {
   "cell_type": "code",
   "execution_count": 263,
   "metadata": {},
   "outputs": [
    {
     "ename": "RecursionError",
     "evalue": "maximum recursion depth exceeded while getting the str of an object",
     "output_type": "error",
     "traceback": [
      "\u001b[1;31m---------------------------------------------------------------------------\u001b[0m",
      "\u001b[1;31mRecursionError\u001b[0m                            Traceback (most recent call last)",
      "\u001b[1;32mE:\\Anaconda\\lib\\site-packages\\IPython\\core\\formatters.py\u001b[0m in \u001b[0;36m__call__\u001b[1;34m(self, obj)\u001b[0m\n\u001b[0;32m    700\u001b[0m                 \u001b[0mtype_pprinters\u001b[0m\u001b[1;33m=\u001b[0m\u001b[0mself\u001b[0m\u001b[1;33m.\u001b[0m\u001b[0mtype_printers\u001b[0m\u001b[1;33m,\u001b[0m\u001b[1;33m\u001b[0m\u001b[1;33m\u001b[0m\u001b[0m\n\u001b[0;32m    701\u001b[0m                 deferred_pprinters=self.deferred_printers)\n\u001b[1;32m--> 702\u001b[1;33m             \u001b[0mprinter\u001b[0m\u001b[1;33m.\u001b[0m\u001b[0mpretty\u001b[0m\u001b[1;33m(\u001b[0m\u001b[0mobj\u001b[0m\u001b[1;33m)\u001b[0m\u001b[1;33m\u001b[0m\u001b[1;33m\u001b[0m\u001b[0m\n\u001b[0m\u001b[0;32m    703\u001b[0m             \u001b[0mprinter\u001b[0m\u001b[1;33m.\u001b[0m\u001b[0mflush\u001b[0m\u001b[1;33m(\u001b[0m\u001b[1;33m)\u001b[0m\u001b[1;33m\u001b[0m\u001b[1;33m\u001b[0m\u001b[0m\n\u001b[0;32m    704\u001b[0m             \u001b[1;32mreturn\u001b[0m \u001b[0mstream\u001b[0m\u001b[1;33m.\u001b[0m\u001b[0mgetvalue\u001b[0m\u001b[1;33m(\u001b[0m\u001b[1;33m)\u001b[0m\u001b[1;33m\u001b[0m\u001b[1;33m\u001b[0m\u001b[0m\n",
      "\u001b[1;32mE:\\Anaconda\\lib\\site-packages\\IPython\\lib\\pretty.py\u001b[0m in \u001b[0;36mpretty\u001b[1;34m(self, obj)\u001b[0m\n\u001b[0;32m    400\u001b[0m                         \u001b[1;32mif\u001b[0m \u001b[0mcls\u001b[0m \u001b[1;32mis\u001b[0m \u001b[1;32mnot\u001b[0m \u001b[0mobject\u001b[0m\u001b[0;31m \u001b[0m\u001b[0;31m\\\u001b[0m\u001b[1;33m\u001b[0m\u001b[1;33m\u001b[0m\u001b[0m\n\u001b[0;32m    401\u001b[0m                                 \u001b[1;32mand\u001b[0m \u001b[0mcallable\u001b[0m\u001b[1;33m(\u001b[0m\u001b[0mcls\u001b[0m\u001b[1;33m.\u001b[0m\u001b[0m__dict__\u001b[0m\u001b[1;33m.\u001b[0m\u001b[0mget\u001b[0m\u001b[1;33m(\u001b[0m\u001b[1;34m'__repr__'\u001b[0m\u001b[1;33m)\u001b[0m\u001b[1;33m)\u001b[0m\u001b[1;33m:\u001b[0m\u001b[1;33m\u001b[0m\u001b[1;33m\u001b[0m\u001b[0m\n\u001b[1;32m--> 402\u001b[1;33m                             \u001b[1;32mreturn\u001b[0m \u001b[0m_repr_pprint\u001b[0m\u001b[1;33m(\u001b[0m\u001b[0mobj\u001b[0m\u001b[1;33m,\u001b[0m \u001b[0mself\u001b[0m\u001b[1;33m,\u001b[0m \u001b[0mcycle\u001b[0m\u001b[1;33m)\u001b[0m\u001b[1;33m\u001b[0m\u001b[1;33m\u001b[0m\u001b[0m\n\u001b[0m\u001b[0;32m    403\u001b[0m \u001b[1;33m\u001b[0m\u001b[0m\n\u001b[0;32m    404\u001b[0m             \u001b[1;32mreturn\u001b[0m \u001b[0m_default_pprint\u001b[0m\u001b[1;33m(\u001b[0m\u001b[0mobj\u001b[0m\u001b[1;33m,\u001b[0m \u001b[0mself\u001b[0m\u001b[1;33m,\u001b[0m \u001b[0mcycle\u001b[0m\u001b[1;33m)\u001b[0m\u001b[1;33m\u001b[0m\u001b[1;33m\u001b[0m\u001b[0m\n",
      "\u001b[1;32mE:\\Anaconda\\lib\\site-packages\\IPython\\lib\\pretty.py\u001b[0m in \u001b[0;36m_repr_pprint\u001b[1;34m(obj, p, cycle)\u001b[0m\n\u001b[0;32m    695\u001b[0m     \u001b[1;34m\"\"\"A pprint that just redirects to the normal repr function.\"\"\"\u001b[0m\u001b[1;33m\u001b[0m\u001b[1;33m\u001b[0m\u001b[0m\n\u001b[0;32m    696\u001b[0m     \u001b[1;31m# Find newlines and replace them with p.break_()\u001b[0m\u001b[1;33m\u001b[0m\u001b[1;33m\u001b[0m\u001b[1;33m\u001b[0m\u001b[0m\n\u001b[1;32m--> 697\u001b[1;33m     \u001b[0moutput\u001b[0m \u001b[1;33m=\u001b[0m \u001b[0mrepr\u001b[0m\u001b[1;33m(\u001b[0m\u001b[0mobj\u001b[0m\u001b[1;33m)\u001b[0m\u001b[1;33m\u001b[0m\u001b[1;33m\u001b[0m\u001b[0m\n\u001b[0m\u001b[0;32m    698\u001b[0m     \u001b[1;32mfor\u001b[0m \u001b[0midx\u001b[0m\u001b[1;33m,\u001b[0m\u001b[0moutput_line\u001b[0m \u001b[1;32min\u001b[0m \u001b[0menumerate\u001b[0m\u001b[1;33m(\u001b[0m\u001b[0moutput\u001b[0m\u001b[1;33m.\u001b[0m\u001b[0msplitlines\u001b[0m\u001b[1;33m(\u001b[0m\u001b[1;33m)\u001b[0m\u001b[1;33m)\u001b[0m\u001b[1;33m:\u001b[0m\u001b[1;33m\u001b[0m\u001b[1;33m\u001b[0m\u001b[0m\n\u001b[0;32m    699\u001b[0m         \u001b[1;32mif\u001b[0m \u001b[0midx\u001b[0m\u001b[1;33m:\u001b[0m\u001b[1;33m\u001b[0m\u001b[1;33m\u001b[0m\u001b[0m\n",
      "\u001b[1;32m<ipython-input-261-1e1a9e9611e8>\u001b[0m in \u001b[0;36m__repr__\u001b[1;34m(self)\u001b[0m\n\u001b[0;32m     15\u001b[0m \u001b[1;33m\u001b[0m\u001b[0m\n\u001b[0;32m     16\u001b[0m     \u001b[1;32mdef\u001b[0m \u001b[0m__repr__\u001b[0m\u001b[1;33m(\u001b[0m\u001b[0mself\u001b[0m\u001b[1;33m)\u001b[0m\u001b[1;33m:\u001b[0m\u001b[1;33m\u001b[0m\u001b[1;33m\u001b[0m\u001b[0m\n\u001b[1;32m---> 17\u001b[1;33m         \u001b[1;32mreturn\u001b[0m \u001b[1;34m\"Queue2({})\"\u001b[0m\u001b[1;33m.\u001b[0m\u001b[0mformat\u001b[0m\u001b[1;33m(\u001b[0m\u001b[1;33m(\u001b[0m\u001b[0mself\u001b[0m\u001b[1;33m)\u001b[0m\u001b[1;33m)\u001b[0m\u001b[1;33m\u001b[0m\u001b[1;33m\u001b[0m\u001b[0m\n\u001b[0m",
      "... last 1 frames repeated, from the frame below ...\n",
      "\u001b[1;32m<ipython-input-261-1e1a9e9611e8>\u001b[0m in \u001b[0;36m__repr__\u001b[1;34m(self)\u001b[0m\n\u001b[0;32m     15\u001b[0m \u001b[1;33m\u001b[0m\u001b[0m\n\u001b[0;32m     16\u001b[0m     \u001b[1;32mdef\u001b[0m \u001b[0m__repr__\u001b[0m\u001b[1;33m(\u001b[0m\u001b[0mself\u001b[0m\u001b[1;33m)\u001b[0m\u001b[1;33m:\u001b[0m\u001b[1;33m\u001b[0m\u001b[1;33m\u001b[0m\u001b[0m\n\u001b[1;32m---> 17\u001b[1;33m         \u001b[1;32mreturn\u001b[0m \u001b[1;34m\"Queue2({})\"\u001b[0m\u001b[1;33m.\u001b[0m\u001b[0mformat\u001b[0m\u001b[1;33m(\u001b[0m\u001b[1;33m(\u001b[0m\u001b[0mself\u001b[0m\u001b[1;33m)\u001b[0m\u001b[1;33m)\u001b[0m\u001b[1;33m\u001b[0m\u001b[1;33m\u001b[0m\u001b[0m\n\u001b[0m",
      "\u001b[1;31mRecursionError\u001b[0m: maximum recursion depth exceeded while getting the str of an object"
     ]
    }
   ],
   "source": [
    "queue2"
   ]
  },
  {
   "cell_type": "code",
   "execution_count": 248,
   "metadata": {},
   "outputs": [
    {
     "data": {
      "text/plain": [
       "list"
      ]
     },
     "execution_count": 248,
     "metadata": {},
     "output_type": "execute_result"
    }
   ],
   "source": [
    "type(duplicate)"
   ]
  },
  {
   "cell_type": "code",
   "execution_count": 256,
   "metadata": {},
   "outputs": [
    {
     "data": {
      "text/plain": [
       "\"Queue2(['a', 'b', 'c'])\""
      ]
     },
     "execution_count": 256,
     "metadata": {},
     "output_type": "execute_result"
    }
   ],
   "source": [
    "\"Queue2({})\".format(['a', 'b', 'c'])"
   ]
  },
  {
   "cell_type": "code",
   "execution_count": 252,
   "metadata": {},
   "outputs": [
    {
     "data": {
      "text/plain": [
       "'[1, 2, 3]'"
      ]
     },
     "execution_count": 252,
     "metadata": {},
     "output_type": "execute_result"
    }
   ],
   "source": [
    "list.__repr__([1, 2, 3])"
   ]
  },
  {
   "cell_type": "code",
   "execution_count": 276,
   "metadata": {},
   "outputs": [],
   "source": [
    "# ex8.20\n",
    "class BankAccount:\n",
    "\n",
    "    def __init__(self, initial=0):\n",
    "        self.bal = initial\n",
    "\n",
    "\n",
    "    def withdraw(self, amount):\n",
    "        if amount > self.bal:\n",
    "            print(\"Lack of Balance! Please enter the withdrawal amount again.\")\n",
    "        else:\n",
    "            self.bal -= amount\n",
    "\n",
    "\n",
    "    def deposit(self, amount):\n",
    "        self.bal += amount\n",
    "\n",
    "\n",
    "    def balance(self):\n",
    "        return self.bal"
   ]
  },
  {
   "cell_type": "code",
   "execution_count": 277,
   "metadata": {},
   "outputs": [
    {
     "data": {
      "text/plain": [
       "700"
      ]
     },
     "execution_count": 277,
     "metadata": {},
     "output_type": "execute_result"
    }
   ],
   "source": [
    "x = BankAccount(700)\n",
    "x.balance()\n",
    "# 注意属性名和方法名不要重名，否则会出现将属性作为方法调用的错误"
   ]
  },
  {
   "cell_type": "code",
   "execution_count": 278,
   "metadata": {},
   "outputs": [
    {
     "data": {
      "text/plain": [
       "630"
      ]
     },
     "execution_count": 278,
     "metadata": {},
     "output_type": "execute_result"
    }
   ],
   "source": [
    "x.withdraw(70)\n",
    "x.balance()"
   ]
  },
  {
   "cell_type": "code",
   "execution_count": 279,
   "metadata": {},
   "outputs": [
    {
     "data": {
      "text/plain": [
       "1130"
      ]
     },
     "execution_count": 279,
     "metadata": {},
     "output_type": "execute_result"
    }
   ],
   "source": [
    "x.deposit(500)\n",
    "x.balance()"
   ]
  },
  {
   "cell_type": "code",
   "execution_count": null,
   "metadata": {},
   "outputs": [],
   "source": []
  },
  {
   "cell_type": "code",
   "execution_count": 283,
   "metadata": {},
   "outputs": [],
   "source": [
    "# ex 8.21\n",
    "import math\n",
    "class Polygon:\n",
    "\n",
    "    def __init__(self, n:int, s:float):\n",
    "        self.edgeNum = n\n",
    "        self.edgeLen = s\n",
    "\n",
    "    def perimeter(self):\n",
    "        return self.edgeNum * self.edgeLen\n",
    "\n",
    "    def area(self):\n",
    "        return (self.edgeLen ** 2 * self.edgeNum) / (4 * math.tan(math.pi / self.edgeNum))"
   ]
  },
  {
   "cell_type": "code",
   "execution_count": 284,
   "metadata": {},
   "outputs": [
    {
     "data": {
      "text/plain": [
       "6"
      ]
     },
     "execution_count": 284,
     "metadata": {},
     "output_type": "execute_result"
    }
   ],
   "source": [
    "p2 = Polygon(6, 1)\n",
    "p2.perimeter()"
   ]
  },
  {
   "cell_type": "code",
   "execution_count": 285,
   "metadata": {},
   "outputs": [
    {
     "data": {
      "text/plain": [
       "2.598076211353316"
      ]
     },
     "execution_count": 285,
     "metadata": {},
     "output_type": "execute_result"
    }
   ],
   "source": [
    "p2.area()"
   ]
  }
 ],
 "metadata": {
  "kernelspec": {
   "display_name": "Python 3",
   "language": "python",
   "name": "python3"
  },
  "language_info": {
   "codemirror_mode": {
    "name": "ipython",
    "version": 3
   },
   "file_extension": ".py",
   "mimetype": "text/x-python",
   "name": "python",
   "nbconvert_exporter": "python",
   "pygments_lexer": "ipython3",
   "version": "3.8.8"
  }
 },
 "nbformat": 4,
 "nbformat_minor": 2
}
