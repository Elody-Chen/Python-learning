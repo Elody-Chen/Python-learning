{
 "metadata": {
  "language_info": {
   "codemirror_mode": {
    "name": "ipython",
    "version": 3
   },
   "file_extension": ".py",
   "mimetype": "text/x-python",
   "name": "python",
   "nbconvert_exporter": "python",
   "pygments_lexer": "ipython3",
   "version": "3.7.4"
  },
  "orig_nbformat": 2,
  "kernelspec": {
   "name": "python374jvsc74a57bd096eb50e1d44aed467dc8f759cb08c32fbfa9babcf79c554e2d0e5feb04653a10",
   "display_name": "Python 3.7.4 64-bit ('base': conda)"
  }
 },
 "nbformat": 4,
 "nbformat_minor": 2,
 "cells": [
  {
   "cell_type": "code",
   "execution_count": 1,
   "metadata": {},
   "outputs": [],
   "source": [
    "# ex 8.22\n",
    "class Worker:\n",
    "\n",
    "    def __init__(self, name:str, rate:float):\n",
    "        self.name = name\n",
    "        self.rate = rate\n",
    "\n",
    "    def changeRate(self, newRate):\n",
    "        self.rate = newRate\n",
    "\n",
    "    def pay(self, workHours):\n",
    "        print(\"Not Implemented\")"
   ]
  },
  {
   "cell_type": "code",
   "execution_count": 2,
   "metadata": {},
   "outputs": [],
   "source": [
    "class HourlyWorker(Worker):\n",
    "    def pay(self, workHours):\n",
    "        if workHours <= 40:\n",
    "            return self.rate * workHours\n",
    "        else:\n",
    "            return 40 * self.rate + (workHours - 40) * 2 * self.rate"
   ]
  },
  {
   "cell_type": "code",
   "execution_count": 7,
   "metadata": {},
   "outputs": [],
   "source": [
    "class SalariedWorker(Worker):\n",
    "    def pay(self, workHours=40):\n",
    "        return self.rate * 40"
   ]
  },
  {
   "cell_type": "code",
   "execution_count": 4,
   "metadata": {},
   "outputs": [
    {
     "output_type": "stream",
     "name": "stdout",
     "text": [
      "Not Implemented\n"
     ]
    }
   ],
   "source": [
    "w1 = Worker(\"Joe\", 15)\n",
    "w1.pay(35)"
   ]
  },
  {
   "cell_type": "code",
   "execution_count": 8,
   "metadata": {},
   "outputs": [
    {
     "output_type": "execute_result",
     "data": {
      "text/plain": [
       "580.0"
      ]
     },
     "metadata": {},
     "execution_count": 8
    }
   ],
   "source": [
    "w2 = SalariedWorker(\"Sue\", 14.5)\n",
    "w2.pay()"
   ]
  },
  {
   "cell_type": "code",
   "execution_count": 9,
   "metadata": {},
   "outputs": [
    {
     "output_type": "execute_result",
     "data": {
      "text/plain": [
       "580.0"
      ]
     },
     "metadata": {},
     "execution_count": 9
    }
   ],
   "source": [
    "w2.pay(60)"
   ]
  },
  {
   "cell_type": "code",
   "execution_count": 10,
   "metadata": {},
   "outputs": [
    {
     "output_type": "execute_result",
     "data": {
      "text/plain": [
       "500"
      ]
     },
     "metadata": {},
     "execution_count": 10
    }
   ],
   "source": [
    "w3 = HourlyWorker(\"Dana\", 20)\n",
    "w3.pay(25)"
   ]
  },
  {
   "cell_type": "code",
   "execution_count": 11,
   "metadata": {},
   "outputs": [
    {
     "output_type": "execute_result",
     "data": {
      "text/plain": [
       "875"
      ]
     },
     "metadata": {},
     "execution_count": 11
    }
   ],
   "source": [
    "w3.changeRate(35)\n",
    "w3.pay(25)"
   ]
  },
  {
   "cell_type": "code",
   "execution_count": 15,
   "metadata": {},
   "outputs": [],
   "source": [
    "# ex 8.10, 8.12\n",
    "from math import sqrt\n",
    "class Point:\n",
    "    ' 表示二维平面上的点 '\n",
    "\n",
    "    def __init__(self, xcoord=0, ycoord=0):\n",
    "        self.x = xcoord\n",
    "        self.y = ycoord\n",
    "\n",
    "\n",
    "    def __repr__(self):\n",
    "        '返回规范化字符串表示形式'\n",
    "        return \"Point({}, {})\".format(self.x, self.y)\n",
    "\n",
    "\n",
    "    def __str__(self):\n",
    "        '返回美化的字符串表示形式'\n",
    "        return \"class Point, location({}, {})\".format(self.x, self.y)\n",
    "\n",
    "\n",
    "    def __eq__(self, other):\n",
    "        '如果坐标相同，self==other返回True'\n",
    "        return (self.x == other.x) and (self.y == other.y)\n",
    "\n",
    "\n",
    "    def setx(self, xcoord):\n",
    "        '把点的x坐标设置为xcoord'\n",
    "        self.x = xcoord\n",
    "\n",
    "\n",
    "    def sety(self, ycoord):\n",
    "        '把点的y坐标设置为ycoord'\n",
    "        self.y = ycoord\n",
    "\n",
    "\n",
    "    def get(self):\n",
    "        '返回点的x坐标和y坐标，结果为元组'\n",
    "        return (self.x, self.y)\n",
    "\n",
    "\n",
    "    def move(self, dx, dy):\n",
    "        ' 对x坐标移动dx，y坐标移动y '\n",
    "        self.x += dx\n",
    "        self.y += dy\n",
    "\n",
    "\n",
    "    def distance(self, other):\n",
    "        '返回两个点的欧式距离'\n",
    "        return sqrt((self.x - other.x) ** 2 + (self.y - other.y) ** 2)\n",
    "\n",
    "\n",
    "    def up(self):\n",
    "        self.move(0, 1)\n",
    "\n",
    "    def down(self):\n",
    "        self.move(0, -1)\n",
    "\n",
    "    def right(self):\n",
    "        self.move(1, 0)\n",
    "\n",
    "    def left(self):\n",
    "        self.move(-1, 0)"
   ]
  },
  {
   "cell_type": "code",
   "execution_count": 18,
   "metadata": {},
   "outputs": [],
   "source": [
    "# ex 8.23\n",
    "class Segment:\n",
    "\n",
    "    def __init__(self, point1, point2):\n",
    "        self.p1 = point1\n",
    "        self.p2 = point2\n",
    "\n",
    "    def length(self):\n",
    "        return self.p1.distance(self.p2)\n",
    "\n",
    "    def slope(self):\n",
    "        if self.p1.x == self.p2.x:\n",
    "            return None\n",
    "        else:\n",
    "            return (self.p2.y - self.p1.y) / (self.p2.x - self.p1.x)"
   ]
  },
  {
   "cell_type": "code",
   "execution_count": 19,
   "metadata": {},
   "outputs": [
    {
     "output_type": "execute_result",
     "data": {
      "text/plain": [
       "5.0"
      ]
     },
     "metadata": {},
     "execution_count": 19
    }
   ],
   "source": [
    "p1 = Point(3, 4)\n",
    "p2 = Point()\n",
    "s = Segment(p1, p2)\n",
    "s.length()"
   ]
  },
  {
   "cell_type": "code",
   "execution_count": 20,
   "metadata": {},
   "outputs": [
    {
     "output_type": "execute_result",
     "data": {
      "text/plain": [
       "1.3333333333333333"
      ]
     },
     "metadata": {},
     "execution_count": 20
    }
   ],
   "source": [
    "s.slope()"
   ]
  },
  {
   "cell_type": "code",
   "execution_count": 25,
   "metadata": {},
   "outputs": [],
   "source": [
    "# ex 8.24\n",
    "from time import localtime\n",
    "class Person:\n",
    "    def __init__(self, name:str, birthYear:int):\n",
    "        self.name = name\n",
    "        self.birthYear = birthYear\n",
    "\n",
    "    def age(self):\n",
    "        return (localtime().tm_year - self.birthYaer)\n",
    "\n",
    "\n",
    "    def name(self):\n",
    "        return name"
   ]
  },
  {
   "cell_type": "code",
   "execution_count": null,
   "metadata": {},
   "outputs": [],
   "source": []
  },
  {
   "cell_type": "code",
   "execution_count": 55,
   "metadata": {},
   "outputs": [],
   "source": [
    "# ex 8.25\n",
    "class Textfile:\n",
    "\n",
    "    def __init__(self, filename:str):\n",
    "        self.infile = open(filename)\n",
    "        self.wholeStr = self.infile.read()\n",
    "        self.wordList = []\n",
    "        self.lineList = self.wholeStr.split(\"\\n\")\n",
    "\n",
    "\n",
    "    def read(self) -> str:\n",
    "        '将整个文件读取为一个字符串'\n",
    "        return self.wholeStr\n",
    "    \n",
    "\n",
    "    def readlines(self) -> list:\n",
    "        '读取文件的所有行'\n",
    "        return self.lineList\n",
    "\n",
    "\n",
    "    def nchars(self) -> int:\n",
    "        '返回文件的字符数'\n",
    "        return len(self.wholeStr)\n",
    "    \n",
    "\n",
    "    def nwords(self) -> int:\n",
    "        '返回文件的单词数'\n",
    "        return len(self.wholeStr.split())\n",
    "\n",
    "\n",
    "    def nlines(self) -> int:\n",
    "        '返回文件的行数'\n",
    "        return len(self.lineList)\n",
    "\n",
    "\n",
    "    def grep(self, targetStr:str) -> int:\n",
    "        '输出目标字符串在文件中出现的行号以及行'\n",
    "        targetLineList = []\n",
    "        for line in range(self.nlines()):\n",
    "            if targetStr in self.lineList[line]:\n",
    "                targetLineList.append(line)\n",
    "                print(\"{}:{}\".format(line, self.lineList[line]))\n",
    "    \n",
    "\n",
    "    def words(self):\n",
    "        '返回文件中不重复单词的列表'\n",
    "        newS = self.wholeStr.replace(\".\",\" \")\n",
    "        newS = newS.replace(\",\",\" \")\n",
    "        newS = newS.replace(\";\",\" \")\n",
    "        newS = newS.replace(\"!\", \" \")\n",
    "        newS = newS.replace(\"\\n\",\" \")\n",
    "        newS = newS.replace(\"\\'\",\" \")\n",
    "        newS = newS.replace(\"\\\"\",\" \")\n",
    "\n",
    "        self.wordList = newS.split()\n",
    "\n",
    "        return list(set(self.wordList))\n",
    "\n",
    "\n",
    "    def occurrence(self):\n",
    "        '统计每个单词在文件中出现的次数'\n",
    "        myDict = {}\n",
    "        for curWord in self.words():\n",
    "            curCount = self.wordList.count(curWord)\n",
    "            myDict.update({curWord : curCount})\n",
    "\n",
    "        return myDict\n",
    "\n",
    "\n",
    "    def average(self):\n",
    "        wordCountList = []\n",
    "        for curLine in self.lineList:\n",
    "            newLine = curLine.replace(\"!\", \" \")\n",
    "            newLine = newLine.replace(\"?\", \" \")\n",
    "            newLine = newLine.replace(\".\", \" \")\n",
    "            curWordList = newLine.split()\n",
    "            wordCountList.append(len(curWordList))\n",
    "\n",
    "        aveWordCount = sum(wordCountList) / len(wordCountList)\n",
    "        maxWordCount = max(wordCountList)\n",
    "        minWordCount = min(wordCountList)\n",
    "\n",
    "        return tuple((aveWordCount, maxWordCount, minWordCount))"
   ]
  },
  {
   "cell_type": "code",
   "execution_count": 56,
   "metadata": {},
   "outputs": [],
   "source": [
    "t = Textfile(\"test.txt\")"
   ]
  },
  {
   "cell_type": "code",
   "execution_count": 57,
   "metadata": {},
   "outputs": [
    {
     "output_type": "execute_result",
     "data": {
      "text/plain": [
       "411"
      ]
     },
     "metadata": {},
     "execution_count": 57
    }
   ],
   "source": [
    "t.nchars()"
   ]
  },
  {
   "cell_type": "code",
   "execution_count": 58,
   "metadata": {},
   "outputs": [
    {
     "output_type": "execute_result",
     "data": {
      "text/plain": [
       "79"
      ]
     },
     "metadata": {},
     "execution_count": 58
    }
   ],
   "source": [
    "t.nwords()"
   ]
  },
  {
   "cell_type": "code",
   "execution_count": 59,
   "metadata": {},
   "outputs": [
    {
     "output_type": "execute_result",
     "data": {
      "text/plain": [
       "5"
      ]
     },
     "metadata": {},
     "execution_count": 59
    }
   ],
   "source": [
    "t.nlines()"
   ]
  },
  {
   "cell_type": "code",
   "execution_count": 60,
   "metadata": {},
   "outputs": [
    {
     "output_type": "stream",
     "name": "stdout",
     "text": [
      "Dear Elody Chen,\nA request to reset the password for your account has been made at Copernicus Climate Data Store.\nYou may now log in by clicking this link or copying and pasting it to your browser.\nThis link can only be used once to log in and will lead you to a page where you can set your password. It expires after one day and nothing will happen if it's not used.\nRegards, Copernicus Climate Data Store team\n"
     ]
    }
   ],
   "source": [
    "print(t.read())"
   ]
  },
  {
   "cell_type": "code",
   "execution_count": 61,
   "metadata": {},
   "outputs": [
    {
     "output_type": "stream",
     "name": "stdout",
     "text": [
      "2:You may now log in by clicking this link or copying and pasting it to your browser.\n3:This link can only be used once to log in and will lead you to a page where you can set your password. It expires after one day and nothing will happen if it's not used.\n"
     ]
    }
   ],
   "source": [
    "t.grep(\"in\")"
   ]
  },
  {
   "cell_type": "code",
   "execution_count": 62,
   "metadata": {},
   "outputs": [
    {
     "output_type": "execute_result",
     "data": {
      "text/plain": [
       "['s',\n",
       " 'and',\n",
       " 'day',\n",
       " 'has',\n",
       " 'after',\n",
       " 'reset',\n",
       " 'your',\n",
       " 'made',\n",
       " 'it',\n",
       " 'if',\n",
       " 'once',\n",
       " 'This',\n",
       " 'a',\n",
       " 'expires',\n",
       " 'account',\n",
       " 'where',\n",
       " 'Dear',\n",
       " 'Data',\n",
       " 'Store',\n",
       " 'can',\n",
       " 'lead',\n",
       " 'Elody',\n",
       " 'or',\n",
       " 'to',\n",
       " 'used',\n",
       " 'the',\n",
       " 'log',\n",
       " 'team',\n",
       " 'at',\n",
       " 'request',\n",
       " 'clicking',\n",
       " 'copying',\n",
       " 'been',\n",
       " 'browser',\n",
       " 'will',\n",
       " 'page',\n",
       " 'Regards',\n",
       " 'Climate',\n",
       " 'It',\n",
       " 'now',\n",
       " 'you',\n",
       " 'happen',\n",
       " 'not',\n",
       " 'link',\n",
       " 'in',\n",
       " 'set',\n",
       " 'nothing',\n",
       " 'pasting',\n",
       " 'be',\n",
       " 'for',\n",
       " 'You',\n",
       " 'one',\n",
       " 'by',\n",
       " 'Copernicus',\n",
       " 'only',\n",
       " 'this',\n",
       " 'A',\n",
       " 'password',\n",
       " 'may',\n",
       " 'Chen']"
      ]
     },
     "metadata": {},
     "execution_count": 62
    }
   ],
   "source": [
    "t.words()"
   ]
  },
  {
   "cell_type": "code",
   "execution_count": 63,
   "metadata": {},
   "outputs": [
    {
     "output_type": "execute_result",
     "data": {
      "text/plain": [
       "{'s': 1,\n",
       " 'and': 3,\n",
       " 'day': 1,\n",
       " 'has': 1,\n",
       " 'after': 1,\n",
       " 'reset': 1,\n",
       " 'your': 3,\n",
       " 'made': 1,\n",
       " 'it': 2,\n",
       " 'if': 1,\n",
       " 'once': 1,\n",
       " 'This': 1,\n",
       " 'a': 1,\n",
       " 'expires': 1,\n",
       " 'account': 1,\n",
       " 'where': 1,\n",
       " 'Dear': 1,\n",
       " 'Data': 2,\n",
       " 'Store': 2,\n",
       " 'can': 2,\n",
       " 'lead': 1,\n",
       " 'Elody': 1,\n",
       " 'or': 1,\n",
       " 'to': 4,\n",
       " 'used': 2,\n",
       " 'the': 1,\n",
       " 'log': 2,\n",
       " 'team': 1,\n",
       " 'at': 1,\n",
       " 'request': 1,\n",
       " 'clicking': 1,\n",
       " 'copying': 1,\n",
       " 'been': 1,\n",
       " 'browser': 1,\n",
       " 'will': 2,\n",
       " 'page': 1,\n",
       " 'Regards': 1,\n",
       " 'Climate': 2,\n",
       " 'It': 1,\n",
       " 'now': 1,\n",
       " 'you': 2,\n",
       " 'happen': 1,\n",
       " 'not': 1,\n",
       " 'link': 2,\n",
       " 'in': 2,\n",
       " 'set': 1,\n",
       " 'nothing': 1,\n",
       " 'pasting': 1,\n",
       " 'be': 1,\n",
       " 'for': 1,\n",
       " 'You': 1,\n",
       " 'one': 1,\n",
       " 'by': 1,\n",
       " 'Copernicus': 2,\n",
       " 'only': 1,\n",
       " 'this': 1,\n",
       " 'A': 1,\n",
       " 'password': 2,\n",
       " 'may': 1,\n",
       " 'Chen': 1}"
      ]
     },
     "metadata": {},
     "execution_count": 63
    }
   ],
   "source": [
    "t.occurrence()"
   ]
  },
  {
   "cell_type": "code",
   "execution_count": 64,
   "metadata": {},
   "outputs": [
    {
     "output_type": "execute_result",
     "data": {
      "text/plain": [
       "(15.8, 36, 3)"
      ]
     },
     "metadata": {},
     "execution_count": 64
    }
   ],
   "source": [
    "t.average()"
   ]
  },
  {
   "cell_type": "code",
   "execution_count": 14,
   "metadata": {},
   "outputs": [],
   "source": [
    "# ex 8.31\n",
    "from time import localtime, strftime\n",
    "class Date:\n",
    "    '获取当前指定格式日期的类'\n",
    "    def __init__(self):\n",
    "        self.date = localtime()\n",
    "\n",
    "    def display(self, mode):\n",
    "        if mode == \"MDY\":\n",
    "            formatDate = strftime(\"%m/%d/%y\", self.date)\n",
    "        elif mode == \"MDYY\":\n",
    "            formatDate = strftime(\"%m/%d/%Y\", self.date)\n",
    "        elif mode == \"DMY\":\n",
    "            formatDate = strftime(\"%d/%m/%y\", self.date)\n",
    "        elif mode == \"DMYY\":\n",
    "            formatDate = strftime(\"%d/%m/%Y\", self.date)\n",
    "        elif mode == \"MODY\":\n",
    "            formatDate = strftime(\"%b %d, %Y\", self.date)\n",
    "        else:\n",
    "            formatDate = \"Please enter correct mode!\"\n",
    "        return formatDate"
   ]
  },
  {
   "cell_type": "code",
   "execution_count": 15,
   "metadata": {},
   "outputs": [
    {
     "output_type": "execute_result",
     "data": {
      "text/plain": [
       "'05/19/21'"
      ]
     },
     "metadata": {},
     "execution_count": 15
    }
   ],
   "source": [
    "x = Date()\n",
    "x.display(\"MDY\")"
   ]
  },
  {
   "cell_type": "code",
   "execution_count": 16,
   "metadata": {},
   "outputs": [
    {
     "output_type": "execute_result",
     "data": {
      "text/plain": [
       "'May 19, 2021'"
      ]
     },
     "metadata": {},
     "execution_count": 16
    }
   ],
   "source": [
    "x.display(\"MODY\")"
   ]
  },
  {
   "cell_type": "code",
   "execution_count": 17,
   "metadata": {},
   "outputs": [],
   "source": [
    "# ex 8.33\n",
    "class Pseudorandom:\n",
    "    def __init__(self, a, x, c, m):\n",
    "        self.a = a\n",
    "        self.c = c\n",
    "        self.m = m\n",
    "        self.iterItem = x\n",
    "\n",
    "    def next(self):\n",
    "        self.iterItem = (self.a * self.iterItem + self.c) % self.m\n",
    "        return self.iterItem"
   ]
  },
  {
   "cell_type": "code",
   "execution_count": 18,
   "metadata": {},
   "outputs": [],
   "source": [
    "x = Pseudorandom(17, 12, 7, 31)"
   ]
  },
  {
   "cell_type": "code",
   "execution_count": 19,
   "metadata": {},
   "outputs": [
    {
     "output_type": "execute_result",
     "data": {
      "text/plain": [
       "25"
      ]
     },
     "metadata": {},
     "execution_count": 19
    }
   ],
   "source": [
    "x.next()"
   ]
  },
  {
   "cell_type": "code",
   "execution_count": 20,
   "metadata": {},
   "outputs": [
    {
     "output_type": "execute_result",
     "data": {
      "text/plain": [
       "29"
      ]
     },
     "metadata": {},
     "execution_count": 20
    }
   ],
   "source": [
    "x.next()"
   ]
  },
  {
   "cell_type": "code",
   "execution_count": 21,
   "metadata": {},
   "outputs": [
    {
     "output_type": "execute_result",
     "data": {
      "text/plain": [
       "4"
      ]
     },
     "metadata": {},
     "execution_count": 21
    }
   ],
   "source": [
    "x.next()"
   ]
  },
  {
   "cell_type": "code",
   "execution_count": 27,
   "metadata": {},
   "outputs": [],
   "source": [
    "class Stat:\n",
    "    def __init__(self):\n",
    "        self.s = []\n",
    "\n",
    "    def add(self, item):\n",
    "        self.s.append(item)\n",
    "\n",
    "    def min(self):\n",
    "        return min(self.s)\n",
    "\n",
    "    def max(self):\n",
    "        return max(self.s)\n",
    "\n",
    "    def sum(self):\n",
    "        return sum(self.s)\n",
    "\n",
    "    def mean(self):\n",
    "        return self.sum() / len(self)\n",
    "\n",
    "    def __len__(self):\n",
    "        return len(self.s)\n",
    "\n",
    "    def __contains__(self, item):\n",
    "        if item in self.s:\n",
    "            return True\n",
    "        else:\n",
    "            return False\n",
    "\n",
    "    def clear(self):\n",
    "        self.s = []"
   ]
  },
  {
   "cell_type": "code",
   "execution_count": 28,
   "metadata": {},
   "outputs": [
    {
     "output_type": "execute_result",
     "data": {
      "text/plain": [
       "2"
      ]
     },
     "metadata": {},
     "execution_count": 28
    }
   ],
   "source": [
    "s = Stat()\n",
    "s.add(2)\n",
    "s.add(4)\n",
    "s.add(6)\n",
    "s.add(8)\n",
    "s.min()"
   ]
  },
  {
   "cell_type": "code",
   "execution_count": 29,
   "metadata": {},
   "outputs": [
    {
     "output_type": "execute_result",
     "data": {
      "text/plain": [
       "8"
      ]
     },
     "metadata": {},
     "execution_count": 29
    }
   ],
   "source": [
    "s.max()"
   ]
  },
  {
   "cell_type": "code",
   "execution_count": 31,
   "metadata": {},
   "outputs": [
    {
     "output_type": "execute_result",
     "data": {
      "text/plain": [
       "20"
      ]
     },
     "metadata": {},
     "execution_count": 31
    }
   ],
   "source": [
    "s.sum()"
   ]
  },
  {
   "cell_type": "code",
   "execution_count": 33,
   "metadata": {},
   "outputs": [
    {
     "output_type": "execute_result",
     "data": {
      "text/plain": [
       "4"
      ]
     },
     "metadata": {},
     "execution_count": 33
    }
   ],
   "source": [
    "len(s)"
   ]
  },
  {
   "cell_type": "code",
   "execution_count": 34,
   "metadata": {},
   "outputs": [
    {
     "output_type": "execute_result",
     "data": {
      "text/plain": [
       "5.0"
      ]
     },
     "metadata": {},
     "execution_count": 34
    }
   ],
   "source": [
    "s.mean()"
   ]
  },
  {
   "cell_type": "code",
   "execution_count": 35,
   "metadata": {},
   "outputs": [
    {
     "output_type": "execute_result",
     "data": {
      "text/plain": [
       "True"
      ]
     },
     "metadata": {},
     "execution_count": 35
    }
   ],
   "source": [
    "4 in s"
   ]
  },
  {
   "cell_type": "code",
   "execution_count": 37,
   "metadata": {},
   "outputs": [],
   "source": [
    "s.clear()"
   ]
  },
  {
   "cell_type": "code",
   "execution_count": 38,
   "metadata": {},
   "outputs": [
    {
     "output_type": "execute_result",
     "data": {
      "text/plain": [
       "0"
      ]
     },
     "metadata": {},
     "execution_count": 38
    }
   ],
   "source": [
    "s.sum()"
   ]
  },
  {
   "cell_type": "code",
   "execution_count": 50,
   "metadata": {},
   "outputs": [],
   "source": [
    "# ex 8.35\n",
    "class Stack(object):\n",
    "\n",
    "    def __init__(self):\n",
    "        self.s = []\n",
    "\n",
    "    def __repr__(self):\n",
    "        return \"{}\".format(self.s)\n",
    "\n",
    "    def __len__(self):\n",
    "        return len(self.s)\n",
    "\n",
    "    def push(self, item):\n",
    "        self.s.append(item)\n",
    "\n",
    "    def pop(self):\n",
    "        return self.s.pop()\n",
    "\n",
    "    def isEmpty(self):\n",
    "        if len(self) == 0:\n",
    "            return True\n",
    "        else:\n",
    "            return False"
   ]
  },
  {
   "cell_type": "code",
   "execution_count": 51,
   "metadata": {},
   "outputs": [
    {
     "output_type": "execute_result",
     "data": {
      "text/plain": [
       "['plate 1', 'plate 2', 'plate 3']"
      ]
     },
     "metadata": {},
     "execution_count": 51
    }
   ],
   "source": [
    "s = Stack()\n",
    "s.push(\"plate 1\")\n",
    "s.push(\"plate 2\")\n",
    "s.push(\"plate 3\")\n",
    "s"
   ]
  },
  {
   "cell_type": "code",
   "execution_count": 52,
   "metadata": {},
   "outputs": [
    {
     "output_type": "execute_result",
     "data": {
      "text/plain": [
       "3"
      ]
     },
     "metadata": {},
     "execution_count": 52
    }
   ],
   "source": [
    "len(s)"
   ]
  },
  {
   "cell_type": "code",
   "execution_count": 53,
   "metadata": {},
   "outputs": [
    {
     "output_type": "execute_result",
     "data": {
      "text/plain": [
       "'plate 3'"
      ]
     },
     "metadata": {},
     "execution_count": 53
    }
   ],
   "source": [
    "s.pop()"
   ]
  },
  {
   "cell_type": "code",
   "execution_count": 54,
   "metadata": {},
   "outputs": [
    {
     "output_type": "execute_result",
     "data": {
      "text/plain": [
       "'plate 2'"
      ]
     },
     "metadata": {},
     "execution_count": 54
    }
   ],
   "source": [
    "s.pop()"
   ]
  },
  {
   "cell_type": "code",
   "execution_count": 55,
   "metadata": {},
   "outputs": [
    {
     "output_type": "execute_result",
     "data": {
      "text/plain": [
       "'plate 1'"
      ]
     },
     "metadata": {},
     "execution_count": 55
    }
   ],
   "source": [
    "s.pop()"
   ]
  },
  {
   "cell_type": "code",
   "execution_count": 56,
   "metadata": {},
   "outputs": [
    {
     "output_type": "execute_result",
     "data": {
      "text/plain": [
       "True"
      ]
     },
     "metadata": {},
     "execution_count": 56
    }
   ],
   "source": [
    "s.isEmpty()"
   ]
  }
 ]
}